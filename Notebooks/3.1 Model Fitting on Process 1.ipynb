{
 "cells": [
  {
   "cell_type": "markdown",
   "metadata": {
    "id": "DHX8PDe_foYB"
   },
   "source": [
    "**Loaded packages**"
   ]
  },
  {
   "cell_type": "code",
   "execution_count": 1,
   "metadata": {
    "id": "EwsjnOEYYaH9"
   },
   "outputs": [],
   "source": [
    "import pandas as pd\n",
    "import numpy as np\n",
    "\n",
    "from sklearn.preprocessing import StandardScaler, LabelEncoder\n",
    "from sklearn.model_selection import train_test_split\n",
    "\n",
    "from sklearn.tree import DecisionTreeClassifier\n",
    "from sklearn.dummy import DummyClassifier\n",
    "from sklearn.neighbors import KNeighborsClassifier\n",
    "from sklearn.naive_bayes import GaussianNB\n",
    "from sklearn.svm import SVC\n",
    "from sklearn.ensemble import RandomForestClassifier\n",
    "from sklearn.feature_selection import SelectKBest, chi2  \n",
    "from sklearn.pipeline import Pipeline\n",
    "import sklearn.metrics as metrics"
   ]
  },
  {
   "cell_type": "markdown",
   "metadata": {
    "id": "sE_vNEg9aLsW"
   },
   "source": [
    "**Load Data**"
   ]
  },
  {
   "cell_type": "code",
   "execution_count": 2,
   "metadata": {
    "id": "l82C1fgK07Jb"
   },
   "outputs": [],
   "source": [
    "train_process1 = pd.read_csv(\"../data/preprocessed/train_process1.csv\")\n",
    "test_process1 = pd.read_csv(\"../data/preprocessed/test_process1.csv\")"
   ]
  },
  {
   "cell_type": "code",
   "execution_count": 3,
   "metadata": {
    "id": "J6wR2edzRFon"
   },
   "outputs": [
    {
     "data": {
      "text/html": [
       "<div>\n",
       "<style scoped>\n",
       "    .dataframe tbody tr th:only-of-type {\n",
       "        vertical-align: middle;\n",
       "    }\n",
       "\n",
       "    .dataframe tbody tr th {\n",
       "        vertical-align: top;\n",
       "    }\n",
       "\n",
       "    .dataframe thead th {\n",
       "        text-align: right;\n",
       "    }\n",
       "</style>\n",
       "<table border=\"1\" class=\"dataframe\">\n",
       "  <thead>\n",
       "    <tr style=\"text-align: right;\">\n",
       "      <th></th>\n",
       "      <th>Trip_ID</th>\n",
       "      <th>Trip_Distance</th>\n",
       "      <th>Type_of_Cab</th>\n",
       "      <th>Customer_Since_Months</th>\n",
       "      <th>Life_Style_Index</th>\n",
       "      <th>Confidence_Life_Style_Index</th>\n",
       "      <th>Destination_Type</th>\n",
       "      <th>Customer_Rating</th>\n",
       "      <th>Cancellation_Last_1Month</th>\n",
       "      <th>Var1</th>\n",
       "      <th>Var2</th>\n",
       "      <th>Var3</th>\n",
       "      <th>Gender</th>\n",
       "      <th>Surge_Pricing_Type</th>\n",
       "    </tr>\n",
       "  </thead>\n",
       "  <tbody>\n",
       "    <tr>\n",
       "      <th>0</th>\n",
       "      <td>T0005689460</td>\n",
       "      <td>6.77</td>\n",
       "      <td>1</td>\n",
       "      <td>1</td>\n",
       "      <td>2</td>\n",
       "      <td>0</td>\n",
       "      <td>0</td>\n",
       "      <td>3.90500</td>\n",
       "      <td>0</td>\n",
       "      <td>40</td>\n",
       "      <td>46</td>\n",
       "      <td>60</td>\n",
       "      <td>0</td>\n",
       "      <td>2</td>\n",
       "    </tr>\n",
       "    <tr>\n",
       "      <th>1</th>\n",
       "      <td>T0005689461</td>\n",
       "      <td>29.47</td>\n",
       "      <td>1</td>\n",
       "      <td>10</td>\n",
       "      <td>2</td>\n",
       "      <td>1</td>\n",
       "      <td>0</td>\n",
       "      <td>3.45000</td>\n",
       "      <td>0</td>\n",
       "      <td>38</td>\n",
       "      <td>56</td>\n",
       "      <td>78</td>\n",
       "      <td>1</td>\n",
       "      <td>2</td>\n",
       "    </tr>\n",
       "    <tr>\n",
       "      <th>2</th>\n",
       "      <td>T0005689464</td>\n",
       "      <td>41.58</td>\n",
       "      <td>5</td>\n",
       "      <td>10</td>\n",
       "      <td>0</td>\n",
       "      <td>3</td>\n",
       "      <td>4</td>\n",
       "      <td>3.50125</td>\n",
       "      <td>2</td>\n",
       "      <td>0</td>\n",
       "      <td>56</td>\n",
       "      <td>77</td>\n",
       "      <td>1</td>\n",
       "      <td>2</td>\n",
       "    </tr>\n",
       "    <tr>\n",
       "      <th>3</th>\n",
       "      <td>T0005689465</td>\n",
       "      <td>61.56</td>\n",
       "      <td>2</td>\n",
       "      <td>10</td>\n",
       "      <td>0</td>\n",
       "      <td>3</td>\n",
       "      <td>0</td>\n",
       "      <td>3.45375</td>\n",
       "      <td>0</td>\n",
       "      <td>0</td>\n",
       "      <td>52</td>\n",
       "      <td>74</td>\n",
       "      <td>1</td>\n",
       "      <td>3</td>\n",
       "    </tr>\n",
       "    <tr>\n",
       "      <th>4</th>\n",
       "      <td>T0005689467</td>\n",
       "      <td>54.95</td>\n",
       "      <td>2</td>\n",
       "      <td>10</td>\n",
       "      <td>3</td>\n",
       "      <td>1</td>\n",
       "      <td>0</td>\n",
       "      <td>3.40250</td>\n",
       "      <td>4</td>\n",
       "      <td>51</td>\n",
       "      <td>49</td>\n",
       "      <td>102</td>\n",
       "      <td>1</td>\n",
       "      <td>2</td>\n",
       "    </tr>\n",
       "  </tbody>\n",
       "</table>\n",
       "</div>"
      ],
      "text/plain": [
       "       Trip_ID  Trip_Distance  Type_of_Cab  Customer_Since_Months  \\\n",
       "0  T0005689460           6.77            1                      1   \n",
       "1  T0005689461          29.47            1                     10   \n",
       "2  T0005689464          41.58            5                     10   \n",
       "3  T0005689465          61.56            2                     10   \n",
       "4  T0005689467          54.95            2                     10   \n",
       "\n",
       "   Life_Style_Index  Confidence_Life_Style_Index  Destination_Type  \\\n",
       "0                 2                            0                 0   \n",
       "1                 2                            1                 0   \n",
       "2                 0                            3                 4   \n",
       "3                 0                            3                 0   \n",
       "4                 3                            1                 0   \n",
       "\n",
       "   Customer_Rating  Cancellation_Last_1Month  Var1  Var2  Var3  Gender  \\\n",
       "0          3.90500                         0    40    46    60       0   \n",
       "1          3.45000                         0    38    56    78       1   \n",
       "2          3.50125                         2     0    56    77       1   \n",
       "3          3.45375                         0     0    52    74       1   \n",
       "4          3.40250                         4    51    49   102       1   \n",
       "\n",
       "   Surge_Pricing_Type  \n",
       "0                   2  \n",
       "1                   2  \n",
       "2                   2  \n",
       "3                   3  \n",
       "4                   2  "
      ]
     },
     "execution_count": 3,
     "metadata": {},
     "output_type": "execute_result"
    }
   ],
   "source": [
    "train_process1.head()"
   ]
  },
  {
   "cell_type": "code",
   "execution_count": 4,
   "metadata": {
    "id": "EfuApUEqP9qw"
   },
   "outputs": [
    {
     "data": {
      "text/html": [
       "<div>\n",
       "<style scoped>\n",
       "    .dataframe tbody tr th:only-of-type {\n",
       "        vertical-align: middle;\n",
       "    }\n",
       "\n",
       "    .dataframe tbody tr th {\n",
       "        vertical-align: top;\n",
       "    }\n",
       "\n",
       "    .dataframe thead th {\n",
       "        text-align: right;\n",
       "    }\n",
       "</style>\n",
       "<table border=\"1\" class=\"dataframe\">\n",
       "  <thead>\n",
       "    <tr style=\"text-align: right;\">\n",
       "      <th></th>\n",
       "      <th>Trip_ID</th>\n",
       "      <th>Trip_Distance</th>\n",
       "      <th>Type_of_Cab</th>\n",
       "      <th>Customer_Since_Months</th>\n",
       "      <th>Life_Style_Index</th>\n",
       "      <th>Confidence_Life_Style_Index</th>\n",
       "      <th>Destination_Type</th>\n",
       "      <th>Customer_Rating</th>\n",
       "      <th>Cancellation_Last_1Month</th>\n",
       "      <th>Var1</th>\n",
       "      <th>Var2</th>\n",
       "      <th>Var3</th>\n",
       "      <th>Gender</th>\n",
       "    </tr>\n",
       "  </thead>\n",
       "  <tbody>\n",
       "    <tr>\n",
       "      <th>0</th>\n",
       "      <td>T0005689459</td>\n",
       "      <td>9.44</td>\n",
       "      <td>0</td>\n",
       "      <td>10</td>\n",
       "      <td>2</td>\n",
       "      <td>0</td>\n",
       "      <td>1</td>\n",
       "      <td>3.68000</td>\n",
       "      <td>2</td>\n",
       "      <td>0</td>\n",
       "      <td>46</td>\n",
       "      <td>63</td>\n",
       "      <td>1</td>\n",
       "    </tr>\n",
       "    <tr>\n",
       "      <th>1</th>\n",
       "      <td>T0005689462</td>\n",
       "      <td>32.15</td>\n",
       "      <td>1</td>\n",
       "      <td>10</td>\n",
       "      <td>2</td>\n",
       "      <td>0</td>\n",
       "      <td>0</td>\n",
       "      <td>1.59375</td>\n",
       "      <td>0</td>\n",
       "      <td>65</td>\n",
       "      <td>49</td>\n",
       "      <td>80</td>\n",
       "      <td>0</td>\n",
       "    </tr>\n",
       "    <tr>\n",
       "      <th>2</th>\n",
       "      <td>T0005689463</td>\n",
       "      <td>10.38</td>\n",
       "      <td>2</td>\n",
       "      <td>4</td>\n",
       "      <td>2</td>\n",
       "      <td>0</td>\n",
       "      <td>3</td>\n",
       "      <td>4.50500</td>\n",
       "      <td>0</td>\n",
       "      <td>0</td>\n",
       "      <td>47</td>\n",
       "      <td>74</td>\n",
       "      <td>1</td>\n",
       "    </tr>\n",
       "    <tr>\n",
       "      <th>3</th>\n",
       "      <td>T0005689466</td>\n",
       "      <td>14.94</td>\n",
       "      <td>5</td>\n",
       "      <td>6</td>\n",
       "      <td>2</td>\n",
       "      <td>2</td>\n",
       "      <td>4</td>\n",
       "      <td>4.53000</td>\n",
       "      <td>0</td>\n",
       "      <td>63</td>\n",
       "      <td>43</td>\n",
       "      <td>54</td>\n",
       "      <td>1</td>\n",
       "    </tr>\n",
       "    <tr>\n",
       "      <th>4</th>\n",
       "      <td>T0005689468</td>\n",
       "      <td>32.03</td>\n",
       "      <td>1</td>\n",
       "      <td>7</td>\n",
       "      <td>2</td>\n",
       "      <td>0</td>\n",
       "      <td>10</td>\n",
       "      <td>4.60125</td>\n",
       "      <td>3</td>\n",
       "      <td>96</td>\n",
       "      <td>44</td>\n",
       "      <td>56</td>\n",
       "      <td>1</td>\n",
       "    </tr>\n",
       "  </tbody>\n",
       "</table>\n",
       "</div>"
      ],
      "text/plain": [
       "       Trip_ID  Trip_Distance  Type_of_Cab  Customer_Since_Months  \\\n",
       "0  T0005689459           9.44            0                     10   \n",
       "1  T0005689462          32.15            1                     10   \n",
       "2  T0005689463          10.38            2                      4   \n",
       "3  T0005689466          14.94            5                      6   \n",
       "4  T0005689468          32.03            1                      7   \n",
       "\n",
       "   Life_Style_Index  Confidence_Life_Style_Index  Destination_Type  \\\n",
       "0                 2                            0                 1   \n",
       "1                 2                            0                 0   \n",
       "2                 2                            0                 3   \n",
       "3                 2                            2                 4   \n",
       "4                 2                            0                10   \n",
       "\n",
       "   Customer_Rating  Cancellation_Last_1Month  Var1  Var2  Var3  Gender  \n",
       "0          3.68000                         2     0    46    63       1  \n",
       "1          1.59375                         0    65    49    80       0  \n",
       "2          4.50500                         0     0    47    74       1  \n",
       "3          4.53000                         0    63    43    54       1  \n",
       "4          4.60125                         3    96    44    56       1  "
      ]
     },
     "execution_count": 4,
     "metadata": {},
     "output_type": "execute_result"
    }
   ],
   "source": [
    "test_process1.head()"
   ]
  },
  {
   "cell_type": "markdown",
   "metadata": {
    "id": "T4UZXmZNEktX"
   },
   "source": [
    "**Train-Validation Split**"
   ]
  },
  {
   "cell_type": "code",
   "execution_count": 5,
   "metadata": {
    "id": "yYh0Ca3Hc3XP"
   },
   "outputs": [],
   "source": [
    "X = train_process1.drop([\"Surge_Pricing_Type\", \"Trip_ID\"], axis = 1)\n",
    "y = train_process1.Surge_Pricing_Type\n",
    "X_test = test_process1.drop([\"Trip_ID\"], axis = 1)\n",
    "Trip_ID = test_process1.Trip_ID"
   ]
  },
  {
   "cell_type": "code",
   "execution_count": 6,
   "metadata": {
    "id": "a2iwWHjsc3UB"
   },
   "outputs": [],
   "source": [
    "X_train, X_val, y_train, y_val = train_test_split(X, y, stratify = y, test_size = 0.2, random_state = 0)"
   ]
  },
  {
   "cell_type": "markdown",
   "metadata": {
    "id": "UUw3zno3m6vm"
   },
   "source": [
    "Checking the scores of the features using SelectKBest"
   ]
  },
  {
   "cell_type": "code",
   "execution_count": 7,
   "metadata": {
    "id": "XDvHaW7gm97j"
   },
   "outputs": [
    {
     "name": "stdout",
     "output_type": "stream",
     "text": [
      "                        feature         Score\n",
      "8                          Var1  50257.941851\n",
      "0                 Trip_Distance  37788.173363\n",
      "1                   Type_of_Cab  16806.549314\n",
      "7      Cancellation_Last_1Month   5183.168216\n",
      "5              Destination_Type    945.223041\n",
      "6               Customer_Rating    856.058342\n",
      "4   Confidence_Life_Style_Index    606.118440\n",
      "10                         Var3    498.593517\n",
      "2         Customer_Since_Months    148.093706\n",
      "3              Life_Style_Index     36.941165\n",
      "9                          Var2     29.041903\n",
      "11                       Gender      0.225639\n"
     ]
    }
   ],
   "source": [
    "bestfeatures = SelectKBest(score_func = chi2, k ='all')\n",
    "fit = bestfeatures.fit(X_train, y_train)\n",
    "dfscores = pd.DataFrame(fit.scores_)\n",
    "dfcolumns = pd.DataFrame(X.columns)\n",
    "featureScores = pd.concat([dfcolumns, dfscores], axis = 1)\n",
    "featureScores.columns = ['feature','Score']\n",
    "print(featureScores.sort_values('Score', ascending = False)) "
   ]
  },
  {
   "cell_type": "markdown",
   "metadata": {
    "id": "UqB-Vo0ubEbe"
   },
   "source": [
    "### Pipelines"
   ]
  },
  {
   "cell_type": "code",
   "execution_count": 8,
   "metadata": {
    "id": "kijrm7gCbHD8"
   },
   "outputs": [],
   "source": [
    "# Random Forest\n",
    "pipe_rf  = Pipeline([('scaler', StandardScaler()), ('clf', RandomForestClassifier(random_state = 0))])\n",
    "\n",
    "# Decision Tree\n",
    "pipe_dt  = Pipeline([('scaler', StandardScaler()), ('clf', DecisionTreeClassifier(random_state = 0))])\n",
    "\n",
    "# Dummy (Baseline)\n",
    "pipe_dum = Pipeline([('scaler', StandardScaler()), ('clf', DummyClassifier(random_state = 0))])\n",
    "\n",
    "# K Nearest Neighbors\n",
    "pipe_knn = Pipeline([('scaler', StandardScaler()), ('clf', KNeighborsClassifier())])\n",
    "\n",
    "# Naive Bayes\n",
    "pipe_nb  = Pipeline([('scaler', StandardScaler()), ('clf', GaussianNB())])\n",
    "\n",
    "# Support Vector Machine\n",
    "pipe_svm = Pipeline([('scaler', StandardScaler()), ('clf', SVC(random_state = 0))])"
   ]
  },
  {
   "cell_type": "code",
   "execution_count": 9,
   "metadata": {
    "id": "pCnUVBZlbnDz"
   },
   "outputs": [
    {
     "data": {
      "text/plain": [
       "{'RandomForest': Pipeline(steps=[('scaler', StandardScaler()),\n",
       "                 ('clf', RandomForestClassifier(random_state=0))]),\n",
       " 'DecisionTree': Pipeline(steps=[('scaler', StandardScaler()),\n",
       "                 ('clf', DecisionTreeClassifier(random_state=0))]),\n",
       " 'Dummy(Baseline)': Pipeline(steps=[('scaler', StandardScaler()),\n",
       "                 ('clf', DummyClassifier(random_state=0))]),\n",
       " 'KNN': Pipeline(steps=[('scaler', StandardScaler()), ('clf', KNeighborsClassifier())]),\n",
       " 'NaiveBayes': Pipeline(steps=[('scaler', StandardScaler()), ('clf', GaussianNB())]),\n",
       " 'SupportVectorMachine': Pipeline(steps=[('scaler', StandardScaler()), ('clf', SVC(random_state=0))])}"
      ]
     },
     "execution_count": 9,
     "metadata": {},
     "output_type": "execute_result"
    }
   ],
   "source": [
    "pipelines = [pipe_rf, pipe_dt, pipe_dum, \n",
    "             pipe_knn, pipe_nb, pipe_svm]\n",
    "\n",
    "models = ['RandomForest', \n",
    "          'DecisionTree', \n",
    "          'Dummy(Baseline)', \n",
    "          'KNN', \n",
    "          'NaiveBayes',\n",
    "          'SupportVectorMachine']\n",
    "\n",
    "# Zipping the the strings and pipelines together and creating a dictionary\n",
    "model_pipelines = dict(zip(models, pipelines))\n",
    "model_pipelines"
   ]
  },
  {
   "cell_type": "code",
   "execution_count": 11,
   "metadata": {
    "id": "2_1OYdSzb249"
   },
   "outputs": [
    {
     "name": "stdout",
     "output_type": "stream",
     "text": [
      "\n",
      "RandomForest Fitting\n",
      "RandomForest (Macro Avg - F1 Score):\n",
      "0.6796878253778896\n",
      "\n",
      "DecisionTree Fitting\n",
      "DecisionTree (Macro Avg - F1 Score):\n",
      "0.5628819470106782\n",
      "\n",
      "Dummy(Baseline) Fitting\n",
      "Dummy(Baseline) (Macro Avg - F1 Score):\n",
      "0.20074842750603783\n",
      "\n",
      "KNN Fitting\n"
     ]
    },
    {
     "name": "stderr",
     "output_type": "stream",
     "text": [
      "D:\\Anaconda\\envs\\DataMining1Project\\lib\\site-packages\\sklearn\\metrics\\_classification.py:1327: UndefinedMetricWarning: Precision and F-score are ill-defined and being set to 0.0 in labels with no predicted samples. Use `zero_division` parameter to control this behavior.\n",
      "  _warn_prf(average, modifier, msg_start, len(result))\n",
      "D:\\Anaconda\\envs\\DataMining1Project\\lib\\site-packages\\sklearn\\metrics\\_classification.py:1327: UndefinedMetricWarning: Precision and F-score are ill-defined and being set to 0.0 in labels with no predicted samples. Use `zero_division` parameter to control this behavior.\n",
      "  _warn_prf(average, modifier, msg_start, len(result))\n",
      "D:\\Anaconda\\envs\\DataMining1Project\\lib\\site-packages\\sklearn\\metrics\\_classification.py:1327: UndefinedMetricWarning: Precision and F-score are ill-defined and being set to 0.0 in labels with no predicted samples. Use `zero_division` parameter to control this behavior.\n",
      "  _warn_prf(average, modifier, msg_start, len(result))\n"
     ]
    },
    {
     "name": "stdout",
     "output_type": "stream",
     "text": [
      "KNN (Macro Avg - F1 Score):\n",
      "0.5815945763992252\n",
      "\n",
      "NaiveBayes Fitting\n",
      "NaiveBayes (Macro Avg - F1 Score):\n",
      "0.5228479793364827\n",
      "\n",
      "SupportVectorMachine Fitting\n",
      "SupportVectorMachine (Macro Avg - F1 Score):\n",
      "0.6772043911781536\n"
     ]
    }
   ],
   "source": [
    "# Dictionary containing the model names and their scores\n",
    "models_f1 = {}\n",
    "classification_reports = {}\n",
    "test_preds = {}\n",
    "\n",
    "for name, pipe in model_pipelines.items():\n",
    "    print('\\n'+ name + ' Fitting')\n",
    "    pipe.fit(X_train, y_train)\n",
    "    print(name + ' (Macro Avg - F1 Score):')\n",
    "    \n",
    "    # Classification Report\n",
    "    report = metrics.classification_report(y_val, pipe.predict(X_val), output_dict=True)\n",
    "   \n",
    "    f1 = report['macro avg']['f1-score']\n",
    "    \n",
    "    #We predict on the test set given by the competition\n",
    "    test_pred = pipe.predict(X_test)\n",
    "    \n",
    "    # Assigning to the Dictionary\n",
    "    test_preds[name] = test_pred\n",
    "    classification_reports[name] = report\n",
    "    models_f1[name] = f1\n",
    "    \n",
    "    print(f1)\n",
    "\n"
   ]
  },
  {
   "cell_type": "markdown",
   "metadata": {
    "id": "9Z_MW53hj4Zp"
   },
   "source": [
    "Check the scores of each model"
   ]
  },
  {
   "cell_type": "code",
   "execution_count": 12,
   "metadata": {
    "id": "3N0Ce6e1cvIL"
   },
   "outputs": [
    {
     "name": "stdout",
     "output_type": "stream",
     "text": [
      "RandomForest 0.6796878253778896\n",
      "SupportVectorMachine 0.6772043911781536\n",
      "KNN 0.5815945763992252\n",
      "DecisionTree 0.5628819470106782\n",
      "NaiveBayes 0.5228479793364827\n",
      "Dummy(Baseline) 0.20074842750603783\n"
     ]
    }
   ],
   "source": [
    "for i in sorted(models_f1, key = models_f1.get, reverse = True):\n",
    "    print(i, models_f1[i])"
   ]
  },
  {
   "cell_type": "code",
   "execution_count": 27,
   "metadata": {},
   "outputs": [
    {
     "data": {
      "text/plain": [
       "{'RandomForest': {'1': {'precision': 0.7368801155512759,\n",
       "   'recall': 0.5623736909792394,\n",
       "   'f1-score': 0.6379076794831718,\n",
       "   'support': 5443},\n",
       "  '2': {'precision': 0.6711307259169076,\n",
       "   'recall': 0.7773664727657325,\n",
       "   'f1-score': 0.7203528258738975,\n",
       "   'support': 11346},\n",
       "  '3': {'precision': 0.6999004094279075,\n",
       "   'recall': 0.6627200335289187,\n",
       "   'f1-score': 0.6808029707765998,\n",
       "   'support': 9544},\n",
       "  'accuracy': 0.6913758402005089,\n",
       "  'macro avg': {'precision': 0.7026370836320304,\n",
       "   'recall': 0.6674867324246302,\n",
       "   'f1-score': 0.6796878253778896,\n",
       "   'support': 26333},\n",
       "  'weighted avg': {'precision': 0.6951481864116802,\n",
       "   'recall': 0.6913758402005089,\n",
       "   'f1-score': 0.6889772610368744,\n",
       "   'support': 26333}},\n",
       " 'DecisionTree': {'1': {'precision': 0.4931654676258993,\n",
       "   'recall': 0.5037663053463164,\n",
       "   'f1-score': 0.49840952467508864,\n",
       "   'support': 5443},\n",
       "  '2': {'precision': 0.6009992862241256,\n",
       "   'recall': 0.5936894059580469,\n",
       "   'f1-score': 0.5973219827968431,\n",
       "   'support': 11346},\n",
       "  '3': {'precision': 0.5922634605331939,\n",
       "   'recall': 0.5935666387259011,\n",
       "   'f1-score': 0.5929143335601026,\n",
       "   'support': 9544},\n",
       "  'accuracy': 0.57505791212547,\n",
       "  'macro avg': {'precision': 0.5621427381277395,\n",
       "   'recall': 0.5636741166767548,\n",
       "   'f1-score': 0.5628819470106782,\n",
       "   'support': 26333},\n",
       "  'weighted avg': {'precision': 0.5755439945739377,\n",
       "   'recall': 0.57505791212547,\n",
       "   'f1-score': 0.5752794083134132,\n",
       "   'support': 26333}},\n",
       " 'Dummy(Baseline)': {'1': {'precision': 0.0,\n",
       "   'recall': 0.0,\n",
       "   'f1-score': 0.0,\n",
       "   'support': 5443},\n",
       "  '2': {'precision': 0.4308662134963734,\n",
       "   'recall': 1.0,\n",
       "   'f1-score': 0.6022452825181135,\n",
       "   'support': 11346},\n",
       "  '3': {'precision': 0.0, 'recall': 0.0, 'f1-score': 0.0, 'support': 9544},\n",
       "  'accuracy': 0.4308662134963734,\n",
       "  'macro avg': {'precision': 0.1436220711654578,\n",
       "   'recall': 0.3333333333333333,\n",
       "   'f1-score': 0.20074842750603783,\n",
       "   'support': 26333},\n",
       "  'weighted avg': {'precision': 0.18564569393270242,\n",
       "   'recall': 0.4308662134963734,\n",
       "   'f1-score': 0.25948714447463317,\n",
       "   'support': 26333}},\n",
       " 'KNN': {'1': {'precision': 0.5368461244749905,\n",
       "   'recall': 0.5166268601873967,\n",
       "   'f1-score': 0.5265424585712949,\n",
       "   'support': 5443},\n",
       "  '2': {'precision': 0.5794871794871795,\n",
       "   'recall': 0.6573241671073506,\n",
       "   'f1-score': 0.6159563924677899,\n",
       "   'support': 11346},\n",
       "  '3': {'precision': 0.6505775075987842,\n",
       "   'recall': 0.5606663872590109,\n",
       "   'f1-score': 0.6022848781585908,\n",
       "   'support': 9544},\n",
       "  'accuracy': 0.5932100406334258,\n",
       "  'macro avg': {'precision': 0.588970270520318,\n",
       "   'recall': 0.5782058048512527,\n",
       "   'f1-score': 0.5815945763992252,\n",
       "   'support': 26333},\n",
       "  'weighted avg': {'precision': 0.5964389445373375,\n",
       "   'recall': 0.5932100406334258,\n",
       "   'f1-score': 0.5925196030869515,\n",
       "   'support': 26333}},\n",
       " 'NaiveBayes': {'1': {'precision': 0.7737403100775194,\n",
       "   'recall': 0.293404372588646,\n",
       "   'f1-score': 0.42546956174237377,\n",
       "   'support': 5443},\n",
       "  '2': {'precision': 0.5230329949238579,\n",
       "   'recall': 0.7265115459192667,\n",
       "   'f1-score': 0.6082048254998893,\n",
       "   'support': 11346},\n",
       "  '3': {'precision': 0.5673992243506875,\n",
       "   'recall': 0.5058675607711651,\n",
       "   'f1-score': 0.5348695507671853,\n",
       "   'support': 9544},\n",
       "  'accuracy': 0.5570197091102419,\n",
       "  'macro avg': {'precision': 0.6213908431173549,\n",
       "   'recall': 0.508594493093026,\n",
       "   'f1-score': 0.5228479793364827,\n",
       "   'support': 26333},\n",
       "  'weighted avg': {'precision': 0.5909337737956553,\n",
       "   'recall': 0.5570197091102419,\n",
       "   'f1-score': 0.5438543943799606,\n",
       "   'support': 26333}},\n",
       " 'SupportVectorMachine': {'1': {'precision': 0.741286205203731,\n",
       "   'recall': 0.5548410802866066,\n",
       "   'f1-score': 0.6346537774508774,\n",
       "   'support': 5443},\n",
       "  '2': {'precision': 0.6662520122932826,\n",
       "   'recall': 0.8024854574299313,\n",
       "   'f1-score': 0.7280505357428435,\n",
       "   'support': 11346},\n",
       "  '3': {'precision': 0.7059234260444548,\n",
       "   'recall': 0.6355825649622799,\n",
       "   'f1-score': 0.6689088603407399,\n",
       "   'support': 9544},\n",
       "  'accuracy': 0.69080621273687,\n",
       "  'macro avg': {'precision': 0.7044872145138227,\n",
       "   'recall': 0.6643030342262727,\n",
       "   'f1-score': 0.6772043911781536,\n",
       "   'support': 26333},\n",
       "  'weighted avg': {'precision': 0.6961397989052431,\n",
       "   'recall': 0.69080621273687,\n",
       "   'f1-score': 0.68731052490394,\n",
       "   'support': 26333}}}"
      ]
     },
     "execution_count": 27,
     "metadata": {},
     "output_type": "execute_result"
    }
   ],
   "source": [
    "classification_reports"
   ]
  },
  {
   "cell_type": "markdown",
   "metadata": {
    "id": "TlZmYQUkkEug"
   },
   "source": [
    "Save the test predictions to upload on the competition site"
   ]
  },
  {
   "cell_type": "code",
   "execution_count": 25,
   "metadata": {
    "id": "RvfMwGex5u0b"
   },
   "outputs": [],
   "source": [
    "for k,v in test_preds.items():\n",
    "  new_dict_data = dict(zip(Trip_ID.values,test_preds[k]))\n",
    "  df = pd.DataFrame(new_dict_data.items(), columns = ['Trip_ID', 'Surge_Pricing_Type'])\n",
    "  df.to_csv('../submissions/Preprocess1/Preprocess1_{methodname}_test_prediction.csv'.format(methodname = k), index = False)"
   ]
  },
  {
   "cell_type": "code",
   "execution_count": null,
   "metadata": {},
   "outputs": [],
   "source": []
  }
 ],
 "metadata": {
  "colab": {
   "collapsed_sections": [
    "wEXJxbdhfTaU",
    "DHX8PDe_foYB",
    "sE_vNEg9aLsW",
    "FCGftUo5g_Ma",
    "gEnRUJ1AmBrR",
    "EZheiL2imWmK",
    "UUw3zno3m6vm",
    "D93XWr2_njVV"
   ],
   "name": "3.1 Model Fitting on Process 1.ipynb",
   "provenance": [],
   "toc_visible": true
  },
  "kernelspec": {
   "display_name": "Python 3 (ipykernel)",
   "language": "python",
   "name": "python3"
  },
  "language_info": {
   "codemirror_mode": {
    "name": "ipython",
    "version": 3
   },
   "file_extension": ".py",
   "mimetype": "text/x-python",
   "name": "python",
   "nbconvert_exporter": "python",
   "pygments_lexer": "ipython3",
   "version": "3.9.12"
  }
 },
 "nbformat": 4,
 "nbformat_minor": 1
}
