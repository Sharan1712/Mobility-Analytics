{
  "cells": [
    {
      "cell_type": "markdown",
      "metadata": {
        "id": "wEXJxbdhfTaU"
      },
      "source": [
        "##Connect to Gdrive because I uploaded files in there"
      ]
    },
    {
      "cell_type": "code",
      "execution_count": null,
      "metadata": {
        "id": "LMZgeOO9jN4N"
      },
      "outputs": [],
      "source": [
        "# from google.colab import drive\n",
        "# drive.mount('/content/drive')\n",
        "\n",
        "# import os\n",
        "# os.chdir(\"/content/drive/My Drive/Mobility\")\n"
      ]
    },
    {
      "cell_type": "markdown",
      "metadata": {
        "id": "DHX8PDe_foYB"
      },
      "source": [
        "### Loaded packages (some of them are extra, will clean later)"
      ]
    },
    {
      "cell_type": "code",
      "execution_count": 4,
      "metadata": {
        "id": "TMNs1U7y0kZa"
      },
      "outputs": [
        {
          "ename": "ModuleNotFoundError",
          "evalue": "No module named 'matplotlib'",
          "output_type": "error",
          "traceback": [
            "\u001b[0;31m---------------------------------------------------------------------------\u001b[0m",
            "\u001b[0;31mModuleNotFoundError\u001b[0m                       Traceback (most recent call last)",
            "Input \u001b[0;32mIn [4]\u001b[0m, in \u001b[0;36m<module>\u001b[0;34m\u001b[0m\n\u001b[1;32m      1\u001b[0m \u001b[38;5;28;01mimport\u001b[39;00m \u001b[38;5;21;01mpandas\u001b[39;00m \u001b[38;5;28;01mas\u001b[39;00m \u001b[38;5;21;01mpd\u001b[39;00m\n\u001b[1;32m      2\u001b[0m \u001b[38;5;28;01mimport\u001b[39;00m \u001b[38;5;21;01mnumpy\u001b[39;00m \u001b[38;5;28;01mas\u001b[39;00m \u001b[38;5;21;01mnp\u001b[39;00m\n\u001b[0;32m----> 3\u001b[0m \u001b[38;5;28;01mimport\u001b[39;00m \u001b[38;5;21;01mmatplotlib\u001b[39;00m\u001b[38;5;21;01m.\u001b[39;00m\u001b[38;5;21;01mpyplot\u001b[39;00m \u001b[38;5;28;01mas\u001b[39;00m \u001b[38;5;21;01mplt\u001b[39;00m\n\u001b[1;32m      4\u001b[0m \u001b[38;5;28;01mimport\u001b[39;00m \u001b[38;5;21;01mseaborn\u001b[39;00m \u001b[38;5;28;01mas\u001b[39;00m \u001b[38;5;21;01msns\u001b[39;00m\n\u001b[1;32m      5\u001b[0m \u001b[38;5;28;01mimport\u001b[39;00m \u001b[38;5;21;01mos\u001b[39;00m\n",
            "\u001b[0;31mModuleNotFoundError\u001b[0m: No module named 'matplotlib'"
          ]
        }
      ],
      "source": [
        "import pandas as pd\n",
        "import numpy as np\n",
        "import matplotlib.pyplot as plt\n",
        "import seaborn as sns\n",
        "import os\n",
        "import sklearn \n",
        "from datetime import datetime\n",
        "from sklearn import *\n",
        "from sklearn.preprocessing import StandardScaler, MinMaxScaler, LabelEncoder\n",
        "from imblearn.over_sampling import SMOTE\n",
        "import sklearn.ensemble as ensemble\n",
        "import sklearn.metrics as metrics\n",
        "from sklearn.metrics import accuracy_score\n",
        "from sklearn.metrics import r2_score\n",
        "from sklearn.feature_selection import chi2\n",
        "from sklearn.model_selection import train_test_split\n",
        "from tqdm import tqdm_notebook as tqdm\n",
        "from sklearn.model_selection import RandomizedSearchCV, GridSearchCV\n",
        "# !pip3 install bayesian-optimization\n",
        "from bayes_opt import BayesianOptimization\n",
        "\n",
        "\n",
        "from sklearn.ensemble import RandomForestClassifier, ExtraTreesClassifier ,ExtraTreesClassifier,AdaBoostClassifier, BaggingClassifier, GradientBoostingClassifier, VotingClassifier\n",
        "from sklearn.neighbors import KNeighborsClassifier\n",
        "from sklearn.svm import SVC\n",
        "from sklearn.linear_model import LogisticRegression\n",
        "from sklearn.naive_bayes import GaussianNB\n",
        "from sklearn.tree import DecisionTreeClassifier\n",
        "from xgboost.sklearn import XGBClassifier\n",
        "import lightgbm\n",
        "from lightgbm import LGBMClassifier\n",
        "# !pip3 install catboost\n",
        "from catboost import CatBoostClassifier\n",
        "import operator"
      ]
    },
    {
      "cell_type": "markdown",
      "metadata": {
        "id": "FCGftUo5g_Ma"
      },
      "source": [
        "### Read train test files and EDA (Need to do more EDA)"
      ]
    },
    {
      "cell_type": "code",
      "execution_count": null,
      "metadata": {
        "id": "l82C1fgK07Jb"
      },
      "outputs": [],
      "source": [
        "train = pd.read_csv(\"data/train.csv\")\n",
        "test = pd.read_csv(\"data/test.csv\")"
      ]
    },
    {
      "cell_type": "code",
      "execution_count": null,
      "metadata": {
        "id": "EfuApUEqP9qw"
      },
      "outputs": [],
      "source": [
        "train.head()"
      ]
    },
    {
      "cell_type": "code",
      "execution_count": null,
      "metadata": {
        "cellView": "code",
        "id": "Yt0RSERy2bhJ"
      },
      "outputs": [],
      "source": [
        "train.dtypes"
      ]
    },
    {
      "cell_type": "code",
      "execution_count": null,
      "metadata": {
        "cellView": "both",
        "id": "Y8DJqnDL3_Pw"
      },
      "outputs": [],
      "source": [
        "test.dtypes"
      ]
    },
    {
      "cell_type": "code",
      "execution_count": null,
      "metadata": {
        "cellView": "both",
        "id": "xehBYHvV2W-1"
      },
      "outputs": [],
      "source": [
        "print(train.isna().sum())"
      ]
    },
    {
      "cell_type": "code",
      "execution_count": null,
      "metadata": {
        "cellView": "both",
        "id": "EuzENU9R2YTY"
      },
      "outputs": [],
      "source": [
        "print(test.isna().sum())"
      ]
    },
    {
      "cell_type": "code",
      "execution_count": null,
      "metadata": {
        "id": "rd1NZA8fhLnw"
      },
      "outputs": [],
      "source": [
        "train.describe()"
      ]
    },
    {
      "cell_type": "code",
      "execution_count": null,
      "metadata": {},
      "outputs": [],
      "source": [
        "train.select_dtypes(include=['object'])"
      ]
    },
    {
      "cell_type": "code",
      "execution_count": null,
      "metadata": {
        "id": "nrUInklhO4EU"
      },
      "outputs": [],
      "source": [
        "sns.boxplot(x='Customer_Since_Months',data=train,color='red')"
      ]
    },
    {
      "cell_type": "code",
      "execution_count": null,
      "metadata": {
        "id": "ZYcAGhpaPSG3"
      },
      "outputs": [],
      "source": [
        "sns.boxplot(x='Life_Style_Index',data=train,color='red')"
      ]
    },
    {
      "cell_type": "code",
      "execution_count": null,
      "metadata": {
        "id": "vlrj_JFoPUXv"
      },
      "outputs": [],
      "source": [
        "sns.boxplot(x='Var1',data=train,color='red')"
      ]
    },
    {
      "cell_type": "code",
      "execution_count": null,
      "metadata": {},
      "outputs": [],
      "source": [
        "print(train.isna().sum())"
      ]
    },
    {
      "cell_type": "code",
      "execution_count": null,
      "metadata": {},
      "outputs": [],
      "source": [
        "train.head()"
      ]
    },
    {
      "cell_type": "code",
      "execution_count": null,
      "metadata": {},
      "outputs": [],
      "source": [
        "df_num_corr = train.corr()['Surge_Pricing_Type'][:-1]\n",
        "features_list = df_num_corr[df_num_corr > 0.1].sort_values(ascending=False)\n",
        "features_list"
      ]
    },
    {
      "cell_type": "code",
      "execution_count": null,
      "metadata": {},
      "outputs": [],
      "source": [
        "train_num = train.select_dtypes(include = ['float64', 'int64'])\n",
        "individual_features_df = []\n",
        "for i in range(0, len(train_num.columns) - 1):\n",
        "    tmpDf = train_num[[train_num.columns[i], 'Surge_Pricing_Type']]\n",
        "    tmpDf = tmpDf[tmpDf[train_num.columns[i]] != 0]\n",
        "    individual_features_df.append(tmpDf)\n",
        "\n",
        "all_correlations = {feature.columns[0]: feature.corr()['Surge_Pricing_Type'][0] for feature in individual_features_df}\n",
        "all_correlations = sorted(all_correlations.items(), key=operator.itemgetter(1))\n",
        "for (key, value) in all_correlations:\n",
        "    print(\"{:>20}: {:>5}\".format(key, value))"
      ]
    },
    {
      "cell_type": "code",
      "execution_count": null,
      "metadata": {},
      "outputs": [],
      "source": [
        "train['Surge_Pricing_Type'].describe()"
      ]
    },
    {
      "cell_type": "code",
      "execution_count": null,
      "metadata": {},
      "outputs": [],
      "source": [
        "train.hist(figsize=(20, 20), bins=50, xlabelsize=8, ylabelsize=8);"
      ]
    },
    {
      "cell_type": "code",
      "execution_count": null,
      "metadata": {},
      "outputs": [],
      "source": [
        "corr = train.drop('Surge_Pricing_Type', axis=1).corr() \n",
        "plt.figure(figsize=(12, 10))\n",
        "\n",
        "sns.heatmap(corr, \n",
        "             vmax=1.0, vmin=-1.0, linewidths=0.1,\n",
        "            annot=True, annot_kws={\"size\": 8}, square=True);"
      ]
    },
    {
      "cell_type": "code",
      "execution_count": null,
      "metadata": {},
      "outputs": [],
      "source": [
        "train_categ_columns = list(train.select_dtypes(include=['object']))\n",
        "train_categ_columns.append('Surge_Pricing_Type')\n",
        "train_categ = train[train_categ_columns]\n",
        "train_categ.head()"
      ]
    },
    {
      "cell_type": "code",
      "execution_count": null,
      "metadata": {},
      "outputs": [],
      "source": [
        "plt.figure(figsize = (10, 6));\n",
        "ax = sns.boxplot(x='Type_of_Cab', y='Surge_Pricing_Type', data=train_categ);\n",
        "plt.setp(ax.artists, alpha=.5, linewidth=2, edgecolor=\"k\");\n",
        "plt.xticks(rotation=45);"
      ]
    },
    {
      "cell_type": "code",
      "execution_count": null,
      "metadata": {},
      "outputs": [],
      "source": [
        "plt.figure(figsize = (10, 6));\n",
        "ax = sns.boxplot(x='Confidence_Life_Style_Index', y='Surge_Pricing_Type', data=train_categ);\n",
        "plt.setp(ax.artists, alpha=.5, linewidth=2, edgecolor=\"k\");\n",
        "plt.xticks(rotation=45);"
      ]
    },
    {
      "cell_type": "code",
      "execution_count": null,
      "metadata": {},
      "outputs": [],
      "source": [
        "plt.figure(figsize = (10, 6));\n",
        "ax = sns.boxplot(x='Destination_Type', y='Surge_Pricing_Type', data=train_categ);\n",
        "plt.setp(ax.artists, alpha=.5, linewidth=2, edgecolor=\"k\");\n",
        "plt.xticks(rotation=45);"
      ]
    },
    {
      "cell_type": "code",
      "execution_count": null,
      "metadata": {},
      "outputs": [],
      "source": [
        "plt.figure(figsize = (10, 6));\n",
        "ax = sns.boxplot(x='Gender', y='Surge_Pricing_Type', data=train_categ);\n",
        "plt.setp(ax.artists, alpha=.5, linewidth=2, edgecolor=\"k\");\n",
        "plt.xticks(rotation=45);"
      ]
    },
    {
      "cell_type": "code",
      "execution_count": null,
      "metadata": {},
      "outputs": [],
      "source": [
        "fig, axes = plt.subplots(round(len(train_categ.columns) / 3), 3, figsize=(15, 15))\n",
        "\n",
        "for i, ax in enumerate(fig.axes):\n",
        "    if i < len(train_categ.columns):\n",
        "        ax.set_xticklabels(ax.xaxis.get_majorticklabels(), rotation=45)\n",
        "        sns.countplot(x=train_categ.columns[i], alpha=0.7, data=train_categ, ax=ax)\n",
        "\n",
        "fig.tight_layout()"
      ]
    },
    {
      "cell_type": "markdown",
      "metadata": {
        "id": "XZw3LTbbhoGR"
      },
      "source": [
        "## Treatment of NA Values (Can try more things)"
      ]
    },
    {
      "cell_type": "code",
      "execution_count": null,
      "metadata": {
        "id": "0-bhAlJv2n95"
      },
      "outputs": [],
      "source": [
        "#treating NA values\n",
        "train['Type_of_Cab'].fillna(\"B\", inplace=True)\n",
        "test['Type_of_Cab'].fillna(\"B\", inplace=True)\n",
        "\n",
        "train['Confidence_Life_Style_Index'].fillna(\"B\", inplace=True)\n",
        "test['Confidence_Life_Style_Index'].fillna(\"B\", inplace=True)\n",
        "\n",
        "for col in ['Customer_Since_Months','Var1']:\n",
        "    train[col].fillna(train[col].median(), inplace = True)\n",
        "for col in ['Customer_Since_Months','Var1']:\n",
        "    test[col].fillna(test[col].median(), inplace = True)\n",
        "\n",
        "train['Var1']=train['Var1'].astype('int')\n",
        "test['Var1']=test['Var1'].astype('int')\n",
        "\n",
        "train['Life_Style_Index'].fillna(train['Life_Style_Index'].mean(), inplace = True)\n",
        "test['Life_Style_Index'].fillna(test['Life_Style_Index'].mean(), inplace = True)\n",
        "\n",
        "\n",
        "train['Customer_Since_Months']=train['Customer_Since_Months'].astype('int')\n",
        "test['Customer_Since_Months']=test['Customer_Since_Months'].astype('int')\n"
      ]
    },
    {
      "cell_type": "code",
      "execution_count": null,
      "metadata": {
        "id": "Yk7tJkkgq3jz"
      },
      "outputs": [],
      "source": [
        "train.head()"
      ]
    },
    {
      "cell_type": "code",
      "execution_count": null,
      "metadata": {
        "id": "iTx4Xlg0sjZR"
      },
      "outputs": [],
      "source": [
        "test.head()"
      ]
    },
    {
      "cell_type": "markdown",
      "metadata": {
        "id": "TQksEGQRhynv"
      },
      "source": [
        "### Label Encoding (We can decide if necessary or not)"
      ]
    },
    {
      "cell_type": "code",
      "execution_count": null,
      "metadata": {
        "id": "t2q6jK0JRCGr"
      },
      "outputs": [],
      "source": [
        "train.Type_of_Cab.value_counts()"
      ]
    },
    {
      "cell_type": "code",
      "execution_count": null,
      "metadata": {
        "id": "29IBbnuzRr-9"
      },
      "outputs": [],
      "source": [
        "le = LabelEncoder()\n",
        "trained_le = le.fit(train[\"Type_of_Cab\"])\n",
        "train[\"Type_of_Cab\"] = trained_le.transform(train[\"Type_of_Cab\"])\n",
        "test[\"Type_of_Cab\"] = trained_le.transform(test[\"Type_of_Cab\"])\n",
        "train.head(10)"
      ]
    },
    {
      "cell_type": "code",
      "execution_count": null,
      "metadata": {
        "id": "jT2ZxFYSSDlK"
      },
      "outputs": [],
      "source": [
        "train.Confidence_Life_Style_Index.value_counts()"
      ]
    },
    {
      "cell_type": "code",
      "execution_count": null,
      "metadata": {
        "id": "61QZCG7JSeF1"
      },
      "outputs": [],
      "source": [
        "le = LabelEncoder()\n",
        "trained_le = le.fit(train[\"Confidence_Life_Style_Index\"])\n",
        "train[\"Confidence_Life_Style_Index\"] = trained_le.transform(train[\"Confidence_Life_Style_Index\"])\n",
        "test[\"Confidence_Life_Style_Index\"] = trained_le.transform(test[\"Confidence_Life_Style_Index\"])\n",
        "train.head(10)"
      ]
    },
    {
      "cell_type": "code",
      "execution_count": null,
      "metadata": {
        "id": "AtaGkDAzifvW"
      },
      "outputs": [],
      "source": [
        "train.Destination_Type.value_counts()"
      ]
    },
    {
      "cell_type": "code",
      "execution_count": null,
      "metadata": {
        "id": "lbxWV5zqkmyc"
      },
      "outputs": [],
      "source": [
        "le = LabelEncoder()\n",
        "trained_le = le.fit(train[\"Destination_Type\"])\n",
        "train[\"Destination_Type\"] = trained_le.transform(train[\"Destination_Type\"])\n",
        "test[\"Destination_Type\"] = trained_le.transform(test[\"Destination_Type\"])\n",
        "train.head(10)"
      ]
    },
    {
      "cell_type": "code",
      "execution_count": null,
      "metadata": {
        "id": "rKCvFYS7RCf4"
      },
      "outputs": [],
      "source": [
        "le = LabelEncoder()\n",
        "trained_le = le.fit(train[\"Gender\"])\n",
        "train[\"Gender\"] = trained_le.transform(train[\"Gender\"])\n",
        "test[\"Gender\"] = trained_le.transform(test[\"Gender\"])\n",
        "train.head(10)"
      ]
    },
    {
      "cell_type": "code",
      "execution_count": null,
      "metadata": {
        "id": "N2K5biHrUOXB"
      },
      "outputs": [],
      "source": [
        "train.dtypes"
      ]
    },
    {
      "cell_type": "code",
      "execution_count": null,
      "metadata": {
        "id": "ioIRo5N6wMw2"
      },
      "outputs": [],
      "source": [
        "train.head()"
      ]
    },
    {
      "cell_type": "code",
      "execution_count": null,
      "metadata": {},
      "outputs": [],
      "source": [
        "df_num_corr = train.corr()['Surge_Pricing_Type'][:-1]\n",
        "features_list = df_num_corr[abs(df_num_corr) > 0.1].sort_values(ascending=False)\n",
        "features_list"
      ]
    }
  ],
  "metadata": {
    "colab": {
      "collapsed_sections": [],
      "name": "MobilityAnalytics_Hackathon.ipynb",
      "provenance": []
    },
    "kernelspec": {
      "display_name": "Python 3",
      "name": "python3"
    },
    "language_info": {
      "codemirror_mode": {
        "name": "ipython",
        "version": 3
      },
      "file_extension": ".py",
      "mimetype": "text/x-python",
      "name": "python",
      "nbconvert_exporter": "python",
      "pygments_lexer": "ipython3",
      "version": "3.10.2"
    }
  },
  "nbformat": 4,
  "nbformat_minor": 0
}
