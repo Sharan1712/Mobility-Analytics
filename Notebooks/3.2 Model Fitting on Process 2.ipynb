{
 "cells": [
  {
   "cell_type": "markdown",
   "metadata": {
    "id": "DHX8PDe_foYB"
   },
   "source": [
    "**Loaded packages**"
   ]
  },
  {
   "cell_type": "code",
   "execution_count": 1,
   "metadata": {
    "id": "EwsjnOEYYaH9"
   },
   "outputs": [],
   "source": [
    "import pandas as pd\n",
    "import numpy as np\n",
    "\n",
    "from sklearn.preprocessing import StandardScaler, LabelEncoder\n",
    "from sklearn.model_selection import train_test_split\n",
    "\n",
    "from sklearn.tree import DecisionTreeClassifier\n",
    "from sklearn.dummy import DummyClassifier\n",
    "from sklearn.neighbors import KNeighborsClassifier\n",
    "from sklearn.naive_bayes import GaussianNB\n",
    "from sklearn.svm import SVC\n",
    "from sklearn.ensemble import RandomForestClassifier\n",
    "from sklearn.feature_selection import SelectKBest, chi2  \n",
    "from sklearn.pipeline import Pipeline\n",
    "import sklearn.metrics as metrics"
   ]
  },
  {
   "cell_type": "markdown",
   "metadata": {
    "id": "sE_vNEg9aLsW"
   },
   "source": [
    "**Load Data**"
   ]
  },
  {
   "cell_type": "code",
   "execution_count": 2,
   "metadata": {
    "id": "l82C1fgK07Jb"
   },
   "outputs": [],
   "source": [
    "train_process2 = pd.read_csv(\"../data/preprocessed/train_process2.csv\")\n",
    "test_process2 = pd.read_csv(\"../data/preprocessed/test_process2.csv\")"
   ]
  },
  {
   "cell_type": "code",
   "execution_count": 3,
   "metadata": {
    "id": "J6wR2edzRFon"
   },
   "outputs": [
    {
     "data": {
      "text/html": [
       "<div>\n",
       "<style scoped>\n",
       "    .dataframe tbody tr th:only-of-type {\n",
       "        vertical-align: middle;\n",
       "    }\n",
       "\n",
       "    .dataframe tbody tr th {\n",
       "        vertical-align: top;\n",
       "    }\n",
       "\n",
       "    .dataframe thead th {\n",
       "        text-align: right;\n",
       "    }\n",
       "</style>\n",
       "<table border=\"1\" class=\"dataframe\">\n",
       "  <thead>\n",
       "    <tr style=\"text-align: right;\">\n",
       "      <th></th>\n",
       "      <th>Trip_ID</th>\n",
       "      <th>Trip_Distance</th>\n",
       "      <th>Type_of_Cab</th>\n",
       "      <th>Customer_Since_Months</th>\n",
       "      <th>Life_Style_Index</th>\n",
       "      <th>Confidence_Life_Style_Index</th>\n",
       "      <th>Destination_Type</th>\n",
       "      <th>Customer_Rating</th>\n",
       "      <th>Cancellation_Last_1Month</th>\n",
       "      <th>Var1</th>\n",
       "      <th>Var2</th>\n",
       "      <th>Var3</th>\n",
       "      <th>Gender</th>\n",
       "      <th>Surge_Pricing_Type</th>\n",
       "    </tr>\n",
       "  </thead>\n",
       "  <tbody>\n",
       "    <tr>\n",
       "      <th>0</th>\n",
       "      <td>T0005689460</td>\n",
       "      <td>6.77</td>\n",
       "      <td>1</td>\n",
       "      <td>1</td>\n",
       "      <td>2</td>\n",
       "      <td>0</td>\n",
       "      <td>0</td>\n",
       "      <td>3.90500</td>\n",
       "      <td>0</td>\n",
       "      <td>40</td>\n",
       "      <td>46</td>\n",
       "      <td>60</td>\n",
       "      <td>0</td>\n",
       "      <td>2</td>\n",
       "    </tr>\n",
       "    <tr>\n",
       "      <th>1</th>\n",
       "      <td>T0005689461</td>\n",
       "      <td>29.47</td>\n",
       "      <td>1</td>\n",
       "      <td>10</td>\n",
       "      <td>2</td>\n",
       "      <td>1</td>\n",
       "      <td>0</td>\n",
       "      <td>3.45000</td>\n",
       "      <td>0</td>\n",
       "      <td>38</td>\n",
       "      <td>56</td>\n",
       "      <td>78</td>\n",
       "      <td>1</td>\n",
       "      <td>2</td>\n",
       "    </tr>\n",
       "    <tr>\n",
       "      <th>2</th>\n",
       "      <td>T0005689464</td>\n",
       "      <td>41.58</td>\n",
       "      <td>1</td>\n",
       "      <td>10</td>\n",
       "      <td>2</td>\n",
       "      <td>1</td>\n",
       "      <td>4</td>\n",
       "      <td>3.50125</td>\n",
       "      <td>2</td>\n",
       "      <td>61</td>\n",
       "      <td>56</td>\n",
       "      <td>77</td>\n",
       "      <td>1</td>\n",
       "      <td>2</td>\n",
       "    </tr>\n",
       "    <tr>\n",
       "      <th>3</th>\n",
       "      <td>T0005689465</td>\n",
       "      <td>61.56</td>\n",
       "      <td>2</td>\n",
       "      <td>10</td>\n",
       "      <td>2</td>\n",
       "      <td>1</td>\n",
       "      <td>0</td>\n",
       "      <td>3.45375</td>\n",
       "      <td>0</td>\n",
       "      <td>61</td>\n",
       "      <td>52</td>\n",
       "      <td>74</td>\n",
       "      <td>1</td>\n",
       "      <td>3</td>\n",
       "    </tr>\n",
       "    <tr>\n",
       "      <th>4</th>\n",
       "      <td>T0005689467</td>\n",
       "      <td>54.95</td>\n",
       "      <td>2</td>\n",
       "      <td>10</td>\n",
       "      <td>3</td>\n",
       "      <td>1</td>\n",
       "      <td>0</td>\n",
       "      <td>3.40250</td>\n",
       "      <td>4</td>\n",
       "      <td>51</td>\n",
       "      <td>49</td>\n",
       "      <td>102</td>\n",
       "      <td>1</td>\n",
       "      <td>2</td>\n",
       "    </tr>\n",
       "  </tbody>\n",
       "</table>\n",
       "</div>"
      ],
      "text/plain": [
       "       Trip_ID  Trip_Distance  Type_of_Cab  Customer_Since_Months  \\\n",
       "0  T0005689460           6.77            1                      1   \n",
       "1  T0005689461          29.47            1                     10   \n",
       "2  T0005689464          41.58            1                     10   \n",
       "3  T0005689465          61.56            2                     10   \n",
       "4  T0005689467          54.95            2                     10   \n",
       "\n",
       "   Life_Style_Index  Confidence_Life_Style_Index  Destination_Type  \\\n",
       "0                 2                            0                 0   \n",
       "1                 2                            1                 0   \n",
       "2                 2                            1                 4   \n",
       "3                 2                            1                 0   \n",
       "4                 3                            1                 0   \n",
       "\n",
       "   Customer_Rating  Cancellation_Last_1Month  Var1  Var2  Var3  Gender  \\\n",
       "0          3.90500                         0    40    46    60       0   \n",
       "1          3.45000                         0    38    56    78       1   \n",
       "2          3.50125                         2    61    56    77       1   \n",
       "3          3.45375                         0    61    52    74       1   \n",
       "4          3.40250                         4    51    49   102       1   \n",
       "\n",
       "   Surge_Pricing_Type  \n",
       "0                   2  \n",
       "1                   2  \n",
       "2                   2  \n",
       "3                   3  \n",
       "4                   2  "
      ]
     },
     "execution_count": 3,
     "metadata": {},
     "output_type": "execute_result"
    }
   ],
   "source": [
    "train_process2.head()"
   ]
  },
  {
   "cell_type": "code",
   "execution_count": 4,
   "metadata": {
    "id": "EfuApUEqP9qw"
   },
   "outputs": [
    {
     "data": {
      "text/html": [
       "<div>\n",
       "<style scoped>\n",
       "    .dataframe tbody tr th:only-of-type {\n",
       "        vertical-align: middle;\n",
       "    }\n",
       "\n",
       "    .dataframe tbody tr th {\n",
       "        vertical-align: top;\n",
       "    }\n",
       "\n",
       "    .dataframe thead th {\n",
       "        text-align: right;\n",
       "    }\n",
       "</style>\n",
       "<table border=\"1\" class=\"dataframe\">\n",
       "  <thead>\n",
       "    <tr style=\"text-align: right;\">\n",
       "      <th></th>\n",
       "      <th>Trip_ID</th>\n",
       "      <th>Trip_Distance</th>\n",
       "      <th>Type_of_Cab</th>\n",
       "      <th>Customer_Since_Months</th>\n",
       "      <th>Life_Style_Index</th>\n",
       "      <th>Confidence_Life_Style_Index</th>\n",
       "      <th>Destination_Type</th>\n",
       "      <th>Customer_Rating</th>\n",
       "      <th>Cancellation_Last_1Month</th>\n",
       "      <th>Var1</th>\n",
       "      <th>Var2</th>\n",
       "      <th>Var3</th>\n",
       "      <th>Gender</th>\n",
       "    </tr>\n",
       "  </thead>\n",
       "  <tbody>\n",
       "    <tr>\n",
       "      <th>0</th>\n",
       "      <td>T0005689459</td>\n",
       "      <td>9.44</td>\n",
       "      <td>0</td>\n",
       "      <td>10</td>\n",
       "      <td>2</td>\n",
       "      <td>0</td>\n",
       "      <td>1</td>\n",
       "      <td>3.68000</td>\n",
       "      <td>2</td>\n",
       "      <td>61</td>\n",
       "      <td>46</td>\n",
       "      <td>63</td>\n",
       "      <td>1</td>\n",
       "    </tr>\n",
       "    <tr>\n",
       "      <th>1</th>\n",
       "      <td>T0005689462</td>\n",
       "      <td>32.15</td>\n",
       "      <td>1</td>\n",
       "      <td>10</td>\n",
       "      <td>2</td>\n",
       "      <td>0</td>\n",
       "      <td>0</td>\n",
       "      <td>1.59375</td>\n",
       "      <td>0</td>\n",
       "      <td>65</td>\n",
       "      <td>49</td>\n",
       "      <td>80</td>\n",
       "      <td>0</td>\n",
       "    </tr>\n",
       "    <tr>\n",
       "      <th>2</th>\n",
       "      <td>T0005689463</td>\n",
       "      <td>10.38</td>\n",
       "      <td>2</td>\n",
       "      <td>4</td>\n",
       "      <td>2</td>\n",
       "      <td>0</td>\n",
       "      <td>3</td>\n",
       "      <td>4.50500</td>\n",
       "      <td>0</td>\n",
       "      <td>61</td>\n",
       "      <td>47</td>\n",
       "      <td>74</td>\n",
       "      <td>1</td>\n",
       "    </tr>\n",
       "    <tr>\n",
       "      <th>3</th>\n",
       "      <td>T0005689466</td>\n",
       "      <td>14.94</td>\n",
       "      <td>1</td>\n",
       "      <td>6</td>\n",
       "      <td>2</td>\n",
       "      <td>2</td>\n",
       "      <td>4</td>\n",
       "      <td>4.53000</td>\n",
       "      <td>0</td>\n",
       "      <td>63</td>\n",
       "      <td>43</td>\n",
       "      <td>54</td>\n",
       "      <td>1</td>\n",
       "    </tr>\n",
       "    <tr>\n",
       "      <th>4</th>\n",
       "      <td>T0005689468</td>\n",
       "      <td>32.03</td>\n",
       "      <td>1</td>\n",
       "      <td>7</td>\n",
       "      <td>2</td>\n",
       "      <td>0</td>\n",
       "      <td>10</td>\n",
       "      <td>4.60125</td>\n",
       "      <td>3</td>\n",
       "      <td>96</td>\n",
       "      <td>44</td>\n",
       "      <td>56</td>\n",
       "      <td>1</td>\n",
       "    </tr>\n",
       "  </tbody>\n",
       "</table>\n",
       "</div>"
      ],
      "text/plain": [
       "       Trip_ID  Trip_Distance  Type_of_Cab  Customer_Since_Months  \\\n",
       "0  T0005689459           9.44            0                     10   \n",
       "1  T0005689462          32.15            1                     10   \n",
       "2  T0005689463          10.38            2                      4   \n",
       "3  T0005689466          14.94            1                      6   \n",
       "4  T0005689468          32.03            1                      7   \n",
       "\n",
       "   Life_Style_Index  Confidence_Life_Style_Index  Destination_Type  \\\n",
       "0                 2                            0                 1   \n",
       "1                 2                            0                 0   \n",
       "2                 2                            0                 3   \n",
       "3                 2                            2                 4   \n",
       "4                 2                            0                10   \n",
       "\n",
       "   Customer_Rating  Cancellation_Last_1Month  Var1  Var2  Var3  Gender  \n",
       "0          3.68000                         2    61    46    63       1  \n",
       "1          1.59375                         0    65    49    80       0  \n",
       "2          4.50500                         0    61    47    74       1  \n",
       "3          4.53000                         0    63    43    54       1  \n",
       "4          4.60125                         3    96    44    56       1  "
      ]
     },
     "execution_count": 4,
     "metadata": {},
     "output_type": "execute_result"
    }
   ],
   "source": [
    "test_process2.head()"
   ]
  },
  {
   "cell_type": "markdown",
   "metadata": {
    "id": "API5yW291P7R"
   },
   "source": [
    "**Train-Validation Split**"
   ]
  },
  {
   "cell_type": "code",
   "execution_count": 5,
   "metadata": {
    "id": "Z34rHn_t1P7S"
   },
   "outputs": [],
   "source": [
    "X = train_process2.drop([\"Surge_Pricing_Type\", \"Trip_ID\"], axis = 1)\n",
    "y = train_process2.Surge_Pricing_Type\n",
    "X_test = test_process2.drop([\"Trip_ID\"], axis = 1)\n",
    "Trip_ID = test_process2.Trip_ID"
   ]
  },
  {
   "cell_type": "code",
   "execution_count": 6,
   "metadata": {
    "id": "3JoN6nv81P7S"
   },
   "outputs": [],
   "source": [
    "X_train, X_val, y_train, y_val = train_test_split(X, y, stratify = y, test_size = 0.2, random_state = 0)"
   ]
  },
  {
   "cell_type": "markdown",
   "metadata": {
    "id": "D93XWr2_njVV"
   },
   "source": [
    "Checking the scores of the features using SelectKBest"
   ]
  },
  {
   "cell_type": "code",
   "execution_count": 7,
   "metadata": {
    "id": "aXxn1GwSnjVW"
   },
   "outputs": [
    {
     "name": "stdout",
     "output_type": "stream",
     "text": [
      "                        feature         Score\n",
      "0                 Trip_Distance  37788.173363\n",
      "1                   Type_of_Cab  23054.584147\n",
      "7      Cancellation_Last_1Month   5183.168216\n",
      "5              Destination_Type    945.223041\n",
      "6               Customer_Rating    856.058342\n",
      "4   Confidence_Life_Style_Index    751.830971\n",
      "10                         Var3    498.593517\n",
      "2         Customer_Since_Months    179.298575\n",
      "8                          Var1     58.423428\n",
      "3              Life_Style_Index     31.330939\n",
      "9                          Var2     29.041903\n",
      "11                       Gender      0.225639\n"
     ]
    }
   ],
   "source": [
    "bestfeatures = SelectKBest(score_func = chi2, k = 'all')\n",
    "fit = bestfeatures.fit(X_train, y_train)\n",
    "dfscores = pd.DataFrame(fit.scores_)\n",
    "dfcolumns = pd.DataFrame(X.columns)\n",
    "featureScores = pd.concat([dfcolumns, dfscores], axis = 1)\n",
    "featureScores.columns = ['feature', 'Score']\n",
    "print(featureScores.sort_values('Score', ascending = False)) "
   ]
  },
  {
   "cell_type": "markdown",
   "metadata": {
    "id": "waZsVJPH1P7T"
   },
   "source": [
    "### Pipelines"
   ]
  },
  {
   "cell_type": "code",
   "execution_count": 8,
   "metadata": {
    "id": "ulbR1m3W1P7T"
   },
   "outputs": [],
   "source": [
    "# Random Forest\n",
    "pipe_rf  = Pipeline([('scaler', StandardScaler()), ('clf', RandomForestClassifier(random_state = 0))])\n",
    "\n",
    "# Decision Tree\n",
    "pipe_dt  = Pipeline([('scaler', StandardScaler()), ('clf', DecisionTreeClassifier(random_state = 0))])\n",
    "\n",
    "# Dummy (Baseline)\n",
    "pipe_dum = Pipeline([('scaler', StandardScaler()), ('clf', DummyClassifier(random_state = 0))])\n",
    "\n",
    "# K Nearest Neighbors\n",
    "pipe_knn = Pipeline([('scaler', StandardScaler()), ('clf', KNeighborsClassifier())])\n",
    "\n",
    "# Naive Bayes\n",
    "pipe_nb  = Pipeline([('scaler', StandardScaler()), ('clf', GaussianNB())])\n",
    "\n",
    "# Support Vector Machine\n",
    "pipe_svm = Pipeline([('scaler', StandardScaler()), ('clf', SVC(random_state = 0))])"
   ]
  },
  {
   "cell_type": "code",
   "execution_count": 9,
   "metadata": {
    "id": "bZ7tMsGm1P7T"
   },
   "outputs": [
    {
     "data": {
      "text/plain": [
       "{'RandomForest': Pipeline(steps=[('scaler', StandardScaler()),\n",
       "                 ('clf', RandomForestClassifier(random_state=0))]),\n",
       " 'DecisionTree': Pipeline(steps=[('scaler', StandardScaler()),\n",
       "                 ('clf', DecisionTreeClassifier(random_state=0))]),\n",
       " 'Dummy(Baseline)': Pipeline(steps=[('scaler', StandardScaler()),\n",
       "                 ('clf', DummyClassifier(random_state=0))]),\n",
       " 'KNN': Pipeline(steps=[('scaler', StandardScaler()), ('clf', KNeighborsClassifier())]),\n",
       " 'NaiveBayes': Pipeline(steps=[('scaler', StandardScaler()), ('clf', GaussianNB())]),\n",
       " 'SupportVectorMachine': Pipeline(steps=[('scaler', StandardScaler()), ('clf', SVC(random_state=0))])}"
      ]
     },
     "execution_count": 9,
     "metadata": {},
     "output_type": "execute_result"
    }
   ],
   "source": [
    "pipelines = [pipe_rf, pipe_dt, pipe_dum, \n",
    "             pipe_knn, pipe_nb, pipe_svm]\n",
    "\n",
    "models = ['RandomForest', \n",
    "          'DecisionTree', \n",
    "          'Dummy(Baseline)', \n",
    "          'KNN', \n",
    "          'NaiveBayes',\n",
    "          'SupportVectorMachine']\n",
    "\n",
    "# Zipping the the strings and pipelines together and creating a dictionary\n",
    "model_pipelines = dict(zip(models, pipelines))\n",
    "model_pipelines"
   ]
  },
  {
   "cell_type": "code",
   "execution_count": 10,
   "metadata": {
    "id": "AxcajKBg1P7T"
   },
   "outputs": [
    {
     "name": "stdout",
     "output_type": "stream",
     "text": [
      "\n",
      "RandomForest Fitting\n",
      "RandomForest (Macro Avg - F1 Score):\n",
      "0.6662916318376942\n",
      "\n",
      "DecisionTree Fitting\n",
      "DecisionTree (Macro Avg - F1 Score):\n",
      "0.5488612609345586\n",
      "\n",
      "Dummy(Baseline) Fitting\n",
      "Dummy(Baseline) (Macro Avg - F1 Score):\n",
      "0.20074842750603783\n",
      "\n",
      "KNN Fitting\n"
     ]
    },
    {
     "name": "stderr",
     "output_type": "stream",
     "text": [
      "D:\\Anaconda\\envs\\DataMining1Project\\lib\\site-packages\\sklearn\\metrics\\_classification.py:1327: UndefinedMetricWarning: Precision and F-score are ill-defined and being set to 0.0 in labels with no predicted samples. Use `zero_division` parameter to control this behavior.\n",
      "  _warn_prf(average, modifier, msg_start, len(result))\n",
      "D:\\Anaconda\\envs\\DataMining1Project\\lib\\site-packages\\sklearn\\metrics\\_classification.py:1327: UndefinedMetricWarning: Precision and F-score are ill-defined and being set to 0.0 in labels with no predicted samples. Use `zero_division` parameter to control this behavior.\n",
      "  _warn_prf(average, modifier, msg_start, len(result))\n",
      "D:\\Anaconda\\envs\\DataMining1Project\\lib\\site-packages\\sklearn\\metrics\\_classification.py:1327: UndefinedMetricWarning: Precision and F-score are ill-defined and being set to 0.0 in labels with no predicted samples. Use `zero_division` parameter to control this behavior.\n",
      "  _warn_prf(average, modifier, msg_start, len(result))\n"
     ]
    },
    {
     "name": "stdout",
     "output_type": "stream",
     "text": [
      "KNN (Macro Avg - F1 Score):\n",
      "0.5974079268491438\n",
      "\n",
      "NaiveBayes Fitting\n",
      "NaiveBayes (Macro Avg - F1 Score):\n",
      "0.6216906302008356\n",
      "\n",
      "SupportVectorMachine Fitting\n",
      "SupportVectorMachine (Macro Avg - F1 Score):\n",
      "0.6634614628262082\n"
     ]
    }
   ],
   "source": [
    "# Dictionary containing the model names and their scores\n",
    "models_f1 = {}\n",
    "classification_reports = {}\n",
    "test_preds = {}\n",
    "\n",
    "for name, pipe in model_pipelines.items():\n",
    "    print('\\n' + name + ' Fitting')\n",
    "    pipe.fit(X_train, y_train)\n",
    "    print(name + ' (Macro Avg - F1 Score):')\n",
    "    \n",
    "    # Classification Report\n",
    "    report = metrics.classification_report(y_val, pipe.predict(X_val), output_dict = True)\n",
    "   \n",
    "    f1 = report['macro avg']['f1-score']\n",
    "    \n",
    "    #We predict on the test set given by the competition\n",
    "    test_pred = pipe.predict(X_test)\n",
    "    \n",
    "    # Assigning to the Dictionary\n",
    "    test_preds[name] = test_pred\n",
    "    classification_reports[name] = report\n",
    "    models_f1[name] = f1\n",
    "    \n",
    "    print(f1)\n",
    "\n"
   ]
  },
  {
   "cell_type": "markdown",
   "metadata": {
    "id": "frvdm_uKrjHX"
   },
   "source": [
    "Check the scores of each model"
   ]
  },
  {
   "cell_type": "code",
   "execution_count": 11,
   "metadata": {
    "id": "uJy5r6CW1P7T"
   },
   "outputs": [
    {
     "name": "stdout",
     "output_type": "stream",
     "text": [
      "RandomForest 0.6662916318376942\n",
      "SupportVectorMachine 0.6634614628262082\n",
      "NaiveBayes 0.6216906302008356\n",
      "KNN 0.5974079268491438\n",
      "DecisionTree 0.5488612609345586\n",
      "Dummy(Baseline) 0.20074842750603783\n"
     ]
    }
   ],
   "source": [
    "for i in sorted(models_f1, key = models_f1.get, reverse = True):\n",
    "    print(i, models_f1[i])"
   ]
  },
  {
   "cell_type": "code",
   "execution_count": 12,
   "metadata": {},
   "outputs": [
    {
     "data": {
      "text/plain": [
       "{'RandomForest': {'1': {'precision': 0.7511520737327189,\n",
       "   'recall': 0.5390409700532794,\n",
       "   'f1-score': 0.6276607123756551,\n",
       "   'support': 5443},\n",
       "  '2': {'precision': 0.6378370922132561,\n",
       "   'recall': 0.8150890181561784,\n",
       "   'f1-score': 0.7156509963242406,\n",
       "   'support': 11346},\n",
       "  '3': {'precision': 0.7223763874873865,\n",
       "   'recall': 0.6000628667225482,\n",
       "   'f1-score': 0.6555631868131869,\n",
       "   'support': 9544},\n",
       "  'accuracy': 0.6800972164204611,\n",
       "  'macro avg': {'precision': 0.7037885178111205,\n",
       "   'recall': 0.6513976183106687,\n",
       "   'f1-score': 0.6662916318376942,\n",
       "   'support': 26333},\n",
       "  'weighted avg': {'precision': 0.6918991618030004,\n",
       "   'recall': 0.6800972164204611,\n",
       "   'f1-score': 0.6756855852618608,\n",
       "   'support': 26333}},\n",
       " 'DecisionTree': {'1': {'precision': 0.49901662792776685,\n",
       "   'recall': 0.5127686937350726,\n",
       "   'f1-score': 0.5057992026096412,\n",
       "   'support': 5443},\n",
       "  '2': {'precision': 0.5756238176740834,\n",
       "   'recall': 0.5631940772078265,\n",
       "   'f1-score': 0.5693411146255625,\n",
       "   'support': 11346},\n",
       "  '3': {'precision': 0.5686274509803921,\n",
       "   'recall': 0.5742875104777871,\n",
       "   'f1-score': 0.5714434655684721,\n",
       "   'support': 9544},\n",
       "  'accuracy': 0.5567918581247864,\n",
       "  'macro avg': {'precision': 0.5477559655274141,\n",
       "   'recall': 0.5500834271402287,\n",
       "   'f1-score': 0.5488612609345586,\n",
       "   'support': 26333},\n",
       "  'weighted avg': {'precision': 0.5572534740932612,\n",
       "   'recall': 0.5567918581247864,\n",
       "   'f1-score': 0.5569690419523566,\n",
       "   'support': 26333}},\n",
       " 'Dummy(Baseline)': {'1': {'precision': 0.0,\n",
       "   'recall': 0.0,\n",
       "   'f1-score': 0.0,\n",
       "   'support': 5443},\n",
       "  '2': {'precision': 0.4308662134963734,\n",
       "   'recall': 1.0,\n",
       "   'f1-score': 0.6022452825181135,\n",
       "   'support': 11346},\n",
       "  '3': {'precision': 0.0, 'recall': 0.0, 'f1-score': 0.0, 'support': 9544},\n",
       "  'accuracy': 0.4308662134963734,\n",
       "  'macro avg': {'precision': 0.1436220711654578,\n",
       "   'recall': 0.3333333333333333,\n",
       "   'f1-score': 0.20074842750603783,\n",
       "   'support': 26333},\n",
       "  'weighted avg': {'precision': 0.18564569393270242,\n",
       "   'recall': 0.4308662134963734,\n",
       "   'f1-score': 0.25948714447463317,\n",
       "   'support': 26333}},\n",
       " 'KNN': {'1': {'precision': 0.5566679259539101,\n",
       "   'recall': 0.5414293588094801,\n",
       "   'f1-score': 0.5489429077023377,\n",
       "   'support': 5443},\n",
       "  '2': {'precision': 0.5935331350568138,\n",
       "   'recall': 0.6859686233033668,\n",
       "   'f1-score': 0.6364119546997016,\n",
       "   'support': 11346},\n",
       "  '3': {'precision': 0.6688115064345193,\n",
       "   'recall': 0.5554274937133278,\n",
       "   'f1-score': 0.6068689181453921,\n",
       "   'support': 9544},\n",
       "  'accuracy': 0.6087798579728857,\n",
       "  'macro avg': {'precision': 0.6063375224817478,\n",
       "   'recall': 0.5942751586087249,\n",
       "   'f1-score': 0.5974079268491438,\n",
       "   'support': 26333},\n",
       "  'weighted avg': {'precision': 0.6131966539601562,\n",
       "   'recall': 0.6087798579728857,\n",
       "   'f1-score': 0.6076247764943706,\n",
       "   'support': 26333}},\n",
       " 'NaiveBayes': {'1': {'precision': 0.6612087647483746,\n",
       "   'recall': 0.5045011941943781,\n",
       "   'f1-score': 0.5723218007503126,\n",
       "   'support': 5443},\n",
       "  '2': {'precision': 0.605272740514165,\n",
       "   'recall': 0.7325048475233562,\n",
       "   'f1-score': 0.6628384575507437,\n",
       "   'support': 11346},\n",
       "  '3': {'precision': 0.6707302639365605,\n",
       "   'recall': 0.5937761944677284,\n",
       "   'f1-score': 0.6299116323014505,\n",
       "   'support': 9544},\n",
       "  'accuracy': 0.6350966467929974,\n",
       "  'macro avg': {'precision': 0.6457372563997,\n",
       "   'recall': 0.6102607453951542,\n",
       "   'f1-score': 0.6216906302008356,\n",
       "   'support': 26333},\n",
       "  'weighted avg': {'precision': 0.6405587460376582,\n",
       "   'recall': 0.6350966467929974,\n",
       "   'f1-score': 0.632194938652631,\n",
       "   'support': 26333}},\n",
       " 'SupportVectorMachine': {'1': {'precision': 0.7686708007549204,\n",
       "   'recall': 0.5237920264559985,\n",
       "   'f1-score': 0.6230332167832169,\n",
       "   'support': 5443},\n",
       "  '2': {'precision': 0.6301475800734678,\n",
       "   'recall': 0.8618015159527587,\n",
       "   'f1-score': 0.7279901723560287,\n",
       "   'support': 11346},\n",
       "  '3': {'precision': 0.7489798789925426,\n",
       "   'recall': 0.5577326068734283,\n",
       "   'f1-score': 0.639360999339379,\n",
       "   'support': 9544},\n",
       "  'accuracy': 0.6817301484828922,\n",
       "  'macro avg': {'precision': 0.7159327532736436,\n",
       "   'recall': 0.6477753830940618,\n",
       "   'f1-score': 0.6634614628262082,\n",
       "   'support': 26333},\n",
       "  'weighted avg': {'precision': 0.7018491465889729,\n",
       "   'recall': 0.6817301484828922,\n",
       "   'f1-score': 0.6741733821515811,\n",
       "   'support': 26333}}}"
      ]
     },
     "execution_count": 12,
     "metadata": {},
     "output_type": "execute_result"
    }
   ],
   "source": [
    "classification_reports"
   ]
  },
  {
   "cell_type": "markdown",
   "metadata": {
    "id": "WRP00FXCro12"
   },
   "source": [
    "Save the test predictions to upload on the competition site"
   ]
  },
  {
   "cell_type": "code",
   "execution_count": 13,
   "metadata": {
    "id": "MKtM1fuRORuc"
   },
   "outputs": [],
   "source": [
    "for k,v in test_preds.items():\n",
    "  new_dict_data = dict(zip(Trip_ID.values,test_preds[k]))\n",
    "  df = pd.DataFrame(new_dict_data.items(), columns = ['Trip_ID', 'Surge_Pricing_Type'])\n",
    "  df.to_csv('../submissions/Preprocess2/Preprocess2_{methodname}_test_prediction.csv'.format(methodname = k), index = False)"
   ]
  }
 ],
 "metadata": {
  "colab": {
   "collapsed_sections": [
    "wEXJxbdhfTaU",
    "DHX8PDe_foYB",
    "sE_vNEg9aLsW",
    "FCGftUo5g_Ma",
    "gEnRUJ1AmBrR",
    "EZheiL2imWmK",
    "UUw3zno3m6vm",
    "D93XWr2_njVV"
   ],
   "name": "3.2 Model Fitting on Process 2.ipynb",
   "provenance": []
  },
  "kernelspec": {
   "display_name": "Python 3 (ipykernel)",
   "language": "python",
   "name": "python3"
  },
  "language_info": {
   "codemirror_mode": {
    "name": "ipython",
    "version": 3
   },
   "file_extension": ".py",
   "mimetype": "text/x-python",
   "name": "python",
   "nbconvert_exporter": "python",
   "pygments_lexer": "ipython3",
   "version": "3.9.12"
  }
 },
 "nbformat": 4,
 "nbformat_minor": 1
}
