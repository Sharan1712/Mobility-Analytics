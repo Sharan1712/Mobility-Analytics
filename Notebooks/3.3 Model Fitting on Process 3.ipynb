{
 "cells": [
  {
   "cell_type": "markdown",
   "metadata": {
    "id": "DHX8PDe_foYB"
   },
   "source": [
    "**Loaded packages**"
   ]
  },
  {
   "cell_type": "code",
   "execution_count": 1,
   "metadata": {
    "id": "EwsjnOEYYaH9"
   },
   "outputs": [],
   "source": [
    "import pandas as pd\n",
    "import numpy as np\n",
    "\n",
    "from sklearn.preprocessing import StandardScaler, LabelEncoder\n",
    "from sklearn.model_selection import train_test_split\n",
    "\n",
    "from sklearn.tree import DecisionTreeClassifier\n",
    "from sklearn.dummy import DummyClassifier\n",
    "from sklearn.neighbors import KNeighborsClassifier\n",
    "from sklearn.naive_bayes import GaussianNB\n",
    "from sklearn.svm import SVC\n",
    "from sklearn.ensemble import RandomForestClassifier\n",
    "from sklearn.feature_selection import SelectKBest, chi2  \n",
    "from sklearn.pipeline import Pipeline\n",
    "import sklearn.metrics as metrics"
   ]
  },
  {
   "cell_type": "markdown",
   "metadata": {
    "id": "sE_vNEg9aLsW"
   },
   "source": [
    "**Load Data**"
   ]
  },
  {
   "cell_type": "code",
   "execution_count": 2,
   "metadata": {
    "id": "l82C1fgK07Jb"
   },
   "outputs": [],
   "source": [
    "train_process3 = pd.read_csv(\"../data/preprocessed/train_process3.csv\")\n",
    "test_process3 = pd.read_csv(\"../data/preprocessed/test_process3.csv\")"
   ]
  },
  {
   "cell_type": "code",
   "execution_count": 3,
   "metadata": {
    "id": "J6wR2edzRFon"
   },
   "outputs": [
    {
     "data": {
      "text/html": [
       "<div>\n",
       "<style scoped>\n",
       "    .dataframe tbody tr th:only-of-type {\n",
       "        vertical-align: middle;\n",
       "    }\n",
       "\n",
       "    .dataframe tbody tr th {\n",
       "        vertical-align: top;\n",
       "    }\n",
       "\n",
       "    .dataframe thead th {\n",
       "        text-align: right;\n",
       "    }\n",
       "</style>\n",
       "<table border=\"1\" class=\"dataframe\">\n",
       "  <thead>\n",
       "    <tr style=\"text-align: right;\">\n",
       "      <th></th>\n",
       "      <th>Trip_ID</th>\n",
       "      <th>Trip_Distance</th>\n",
       "      <th>Type_of_Cab</th>\n",
       "      <th>Customer_Since_Months</th>\n",
       "      <th>Life_Style_Index</th>\n",
       "      <th>Confidence_Life_Style_Index</th>\n",
       "      <th>Destination_Type</th>\n",
       "      <th>Customer_Rating</th>\n",
       "      <th>Cancellation_Last_1Month</th>\n",
       "      <th>Var1</th>\n",
       "      <th>Var2</th>\n",
       "      <th>Var3</th>\n",
       "      <th>Gender</th>\n",
       "      <th>Surge_Pricing_Type</th>\n",
       "    </tr>\n",
       "  </thead>\n",
       "  <tbody>\n",
       "    <tr>\n",
       "      <th>0</th>\n",
       "      <td>T0005689460</td>\n",
       "      <td>6.77</td>\n",
       "      <td>2.0</td>\n",
       "      <td>1.0</td>\n",
       "      <td>2.427690</td>\n",
       "      <td>1.0</td>\n",
       "      <td>0.0</td>\n",
       "      <td>3.90500</td>\n",
       "      <td>0.0</td>\n",
       "      <td>40.0</td>\n",
       "      <td>46.0</td>\n",
       "      <td>60.0</td>\n",
       "      <td>0.0</td>\n",
       "      <td>2</td>\n",
       "    </tr>\n",
       "    <tr>\n",
       "      <th>1</th>\n",
       "      <td>T0005689461</td>\n",
       "      <td>29.47</td>\n",
       "      <td>2.0</td>\n",
       "      <td>10.0</td>\n",
       "      <td>2.782450</td>\n",
       "      <td>2.0</td>\n",
       "      <td>0.0</td>\n",
       "      <td>3.45000</td>\n",
       "      <td>0.0</td>\n",
       "      <td>38.0</td>\n",
       "      <td>56.0</td>\n",
       "      <td>78.0</td>\n",
       "      <td>1.0</td>\n",
       "      <td>2</td>\n",
       "    </tr>\n",
       "    <tr>\n",
       "      <th>2</th>\n",
       "      <td>T0005689464</td>\n",
       "      <td>41.58</td>\n",
       "      <td>2.8</td>\n",
       "      <td>10.0</td>\n",
       "      <td>2.838005</td>\n",
       "      <td>1.7</td>\n",
       "      <td>4.0</td>\n",
       "      <td>3.50125</td>\n",
       "      <td>2.0</td>\n",
       "      <td>48.6</td>\n",
       "      <td>56.0</td>\n",
       "      <td>77.0</td>\n",
       "      <td>1.0</td>\n",
       "      <td>2</td>\n",
       "    </tr>\n",
       "    <tr>\n",
       "      <th>3</th>\n",
       "      <td>T0005689465</td>\n",
       "      <td>61.56</td>\n",
       "      <td>3.0</td>\n",
       "      <td>10.0</td>\n",
       "      <td>2.887663</td>\n",
       "      <td>2.4</td>\n",
       "      <td>0.0</td>\n",
       "      <td>3.45375</td>\n",
       "      <td>0.0</td>\n",
       "      <td>63.5</td>\n",
       "      <td>52.0</td>\n",
       "      <td>74.0</td>\n",
       "      <td>1.0</td>\n",
       "      <td>3</td>\n",
       "    </tr>\n",
       "    <tr>\n",
       "      <th>4</th>\n",
       "      <td>T0005689467</td>\n",
       "      <td>54.95</td>\n",
       "      <td>3.0</td>\n",
       "      <td>10.0</td>\n",
       "      <td>3.034530</td>\n",
       "      <td>2.0</td>\n",
       "      <td>0.0</td>\n",
       "      <td>3.40250</td>\n",
       "      <td>4.0</td>\n",
       "      <td>51.0</td>\n",
       "      <td>49.0</td>\n",
       "      <td>102.0</td>\n",
       "      <td>1.0</td>\n",
       "      <td>2</td>\n",
       "    </tr>\n",
       "  </tbody>\n",
       "</table>\n",
       "</div>"
      ],
      "text/plain": [
       "       Trip_ID  Trip_Distance  Type_of_Cab  Customer_Since_Months  \\\n",
       "0  T0005689460           6.77          2.0                    1.0   \n",
       "1  T0005689461          29.47          2.0                   10.0   \n",
       "2  T0005689464          41.58          2.8                   10.0   \n",
       "3  T0005689465          61.56          3.0                   10.0   \n",
       "4  T0005689467          54.95          3.0                   10.0   \n",
       "\n",
       "   Life_Style_Index  Confidence_Life_Style_Index  Destination_Type  \\\n",
       "0          2.427690                          1.0               0.0   \n",
       "1          2.782450                          2.0               0.0   \n",
       "2          2.838005                          1.7               4.0   \n",
       "3          2.887663                          2.4               0.0   \n",
       "4          3.034530                          2.0               0.0   \n",
       "\n",
       "   Customer_Rating  Cancellation_Last_1Month  Var1  Var2   Var3  Gender  \\\n",
       "0          3.90500                       0.0  40.0  46.0   60.0     0.0   \n",
       "1          3.45000                       0.0  38.0  56.0   78.0     1.0   \n",
       "2          3.50125                       2.0  48.6  56.0   77.0     1.0   \n",
       "3          3.45375                       0.0  63.5  52.0   74.0     1.0   \n",
       "4          3.40250                       4.0  51.0  49.0  102.0     1.0   \n",
       "\n",
       "   Surge_Pricing_Type  \n",
       "0                   2  \n",
       "1                   2  \n",
       "2                   2  \n",
       "3                   3  \n",
       "4                   2  "
      ]
     },
     "execution_count": 3,
     "metadata": {},
     "output_type": "execute_result"
    }
   ],
   "source": [
    "train_process3.head()"
   ]
  },
  {
   "cell_type": "code",
   "execution_count": 4,
   "metadata": {
    "id": "EfuApUEqP9qw"
   },
   "outputs": [
    {
     "data": {
      "text/html": [
       "<div>\n",
       "<style scoped>\n",
       "    .dataframe tbody tr th:only-of-type {\n",
       "        vertical-align: middle;\n",
       "    }\n",
       "\n",
       "    .dataframe tbody tr th {\n",
       "        vertical-align: top;\n",
       "    }\n",
       "\n",
       "    .dataframe thead th {\n",
       "        text-align: right;\n",
       "    }\n",
       "</style>\n",
       "<table border=\"1\" class=\"dataframe\">\n",
       "  <thead>\n",
       "    <tr style=\"text-align: right;\">\n",
       "      <th></th>\n",
       "      <th>Trip_ID</th>\n",
       "      <th>Trip_Distance</th>\n",
       "      <th>Type_of_Cab</th>\n",
       "      <th>Customer_Since_Months</th>\n",
       "      <th>Life_Style_Index</th>\n",
       "      <th>Confidence_Life_Style_Index</th>\n",
       "      <th>Destination_Type</th>\n",
       "      <th>Customer_Rating</th>\n",
       "      <th>Cancellation_Last_1Month</th>\n",
       "      <th>Var1</th>\n",
       "      <th>Var2</th>\n",
       "      <th>Var3</th>\n",
       "      <th>Gender</th>\n",
       "    </tr>\n",
       "  </thead>\n",
       "  <tbody>\n",
       "    <tr>\n",
       "      <th>0</th>\n",
       "      <td>T0005689459</td>\n",
       "      <td>9.44</td>\n",
       "      <td>1.0</td>\n",
       "      <td>10.0</td>\n",
       "      <td>2.57438</td>\n",
       "      <td>1.0</td>\n",
       "      <td>1.0</td>\n",
       "      <td>3.68000</td>\n",
       "      <td>2.0</td>\n",
       "      <td>68.3</td>\n",
       "      <td>46.0</td>\n",
       "      <td>63.0</td>\n",
       "      <td>1.0</td>\n",
       "    </tr>\n",
       "    <tr>\n",
       "      <th>1</th>\n",
       "      <td>T0005689462</td>\n",
       "      <td>32.15</td>\n",
       "      <td>2.0</td>\n",
       "      <td>10.0</td>\n",
       "      <td>2.85143</td>\n",
       "      <td>1.0</td>\n",
       "      <td>0.0</td>\n",
       "      <td>1.59375</td>\n",
       "      <td>0.0</td>\n",
       "      <td>65.0</td>\n",
       "      <td>49.0</td>\n",
       "      <td>80.0</td>\n",
       "      <td>0.0</td>\n",
       "    </tr>\n",
       "    <tr>\n",
       "      <th>2</th>\n",
       "      <td>T0005689463</td>\n",
       "      <td>10.38</td>\n",
       "      <td>3.0</td>\n",
       "      <td>4.0</td>\n",
       "      <td>2.70530</td>\n",
       "      <td>1.0</td>\n",
       "      <td>3.0</td>\n",
       "      <td>4.50500</td>\n",
       "      <td>0.0</td>\n",
       "      <td>59.0</td>\n",
       "      <td>47.0</td>\n",
       "      <td>74.0</td>\n",
       "      <td>1.0</td>\n",
       "    </tr>\n",
       "    <tr>\n",
       "      <th>3</th>\n",
       "      <td>T0005689466</td>\n",
       "      <td>14.94</td>\n",
       "      <td>3.0</td>\n",
       "      <td>6.0</td>\n",
       "      <td>2.48159</td>\n",
       "      <td>3.0</td>\n",
       "      <td>4.0</td>\n",
       "      <td>4.53000</td>\n",
       "      <td>0.0</td>\n",
       "      <td>63.0</td>\n",
       "      <td>43.0</td>\n",
       "      <td>54.0</td>\n",
       "      <td>1.0</td>\n",
       "    </tr>\n",
       "    <tr>\n",
       "      <th>4</th>\n",
       "      <td>T0005689468</td>\n",
       "      <td>32.03</td>\n",
       "      <td>2.0</td>\n",
       "      <td>7.0</td>\n",
       "      <td>2.81598</td>\n",
       "      <td>1.0</td>\n",
       "      <td>10.0</td>\n",
       "      <td>4.60125</td>\n",
       "      <td>3.0</td>\n",
       "      <td>96.0</td>\n",
       "      <td>44.0</td>\n",
       "      <td>56.0</td>\n",
       "      <td>1.0</td>\n",
       "    </tr>\n",
       "  </tbody>\n",
       "</table>\n",
       "</div>"
      ],
      "text/plain": [
       "       Trip_ID  Trip_Distance  Type_of_Cab  Customer_Since_Months  \\\n",
       "0  T0005689459           9.44          1.0                   10.0   \n",
       "1  T0005689462          32.15          2.0                   10.0   \n",
       "2  T0005689463          10.38          3.0                    4.0   \n",
       "3  T0005689466          14.94          3.0                    6.0   \n",
       "4  T0005689468          32.03          2.0                    7.0   \n",
       "\n",
       "   Life_Style_Index  Confidence_Life_Style_Index  Destination_Type  \\\n",
       "0           2.57438                          1.0               1.0   \n",
       "1           2.85143                          1.0               0.0   \n",
       "2           2.70530                          1.0               3.0   \n",
       "3           2.48159                          3.0               4.0   \n",
       "4           2.81598                          1.0              10.0   \n",
       "\n",
       "   Customer_Rating  Cancellation_Last_1Month  Var1  Var2  Var3  Gender  \n",
       "0          3.68000                       2.0  68.3  46.0  63.0     1.0  \n",
       "1          1.59375                       0.0  65.0  49.0  80.0     0.0  \n",
       "2          4.50500                       0.0  59.0  47.0  74.0     1.0  \n",
       "3          4.53000                       0.0  63.0  43.0  54.0     1.0  \n",
       "4          4.60125                       3.0  96.0  44.0  56.0     1.0  "
      ]
     },
     "execution_count": 4,
     "metadata": {},
     "output_type": "execute_result"
    }
   ],
   "source": [
    "test_process3.head()"
   ]
  },
  {
   "cell_type": "markdown",
   "metadata": {
    "id": "OaY3bjn4b3DI"
   },
   "source": [
    "**Train-Validation Split**"
   ]
  },
  {
   "cell_type": "code",
   "execution_count": 5,
   "metadata": {
    "id": "UzftgWzGb3DJ"
   },
   "outputs": [],
   "source": [
    "X = train_process3.drop([\"Surge_Pricing_Type\", \"Trip_ID\"], axis = 1)\n",
    "y = train_process3.Surge_Pricing_Type\n",
    "X_test = test_process3.drop([\"Trip_ID\"], axis = 1)\n",
    "Trip_ID = test_process3.Trip_ID"
   ]
  },
  {
   "cell_type": "code",
   "execution_count": 6,
   "metadata": {
    "id": "iB7f2vfpb3DJ"
   },
   "outputs": [],
   "source": [
    "X_train, X_val, y_train, y_val = train_test_split(X, y, stratify = y, test_size = 0.2, random_state = 0)"
   ]
  },
  {
   "cell_type": "markdown",
   "metadata": {
    "id": "Tfhs-s4xpRek"
   },
   "source": [
    "Checking the scores of the features using SelectKBest"
   ]
  },
  {
   "cell_type": "code",
   "execution_count": 7,
   "metadata": {
    "id": "EPsUceK3pRek"
   },
   "outputs": [
    {
     "name": "stdout",
     "output_type": "stream",
     "text": [
      "                        feature         Score\n",
      "0                 Trip_Distance  37788.173363\n",
      "1                   Type_of_Cab  14197.177188\n",
      "7      Cancellation_Last_1Month   5183.168216\n",
      "5              Destination_Type    945.223041\n",
      "6               Customer_Rating    856.058342\n",
      "10                         Var3    498.593517\n",
      "4   Confidence_Life_Style_Index    438.737026\n",
      "8                          Var1    323.039875\n",
      "2         Customer_Since_Months    180.231134\n",
      "9                          Var2     29.041903\n",
      "3              Life_Style_Index     15.666168\n",
      "11                       Gender      0.225639\n"
     ]
    }
   ],
   "source": [
    "bestfeatures = SelectKBest(score_func = chi2, k = 'all')\n",
    "fit = bestfeatures.fit(X_train, y_train)\n",
    "dfscores = pd.DataFrame(fit.scores_)\n",
    "dfcolumns = pd.DataFrame(X.columns)\n",
    "featureScores = pd.concat([dfcolumns, dfscores], axis = 1)\n",
    "featureScores.columns = ['feature', 'Score']\n",
    "print(featureScores.sort_values('Score', ascending = False)) "
   ]
  },
  {
   "cell_type": "markdown",
   "metadata": {
    "id": "93hgKoBfMhkU"
   },
   "source": [
    "###Pipelines"
   ]
  },
  {
   "cell_type": "code",
   "execution_count": 8,
   "metadata": {
    "id": "mtyA2N3-MhkU"
   },
   "outputs": [],
   "source": [
    "# Random Forest\n",
    "pipe_rf  = Pipeline([('scaler', StandardScaler()), ('clf', RandomForestClassifier(random_state = 0))])\n",
    "\n",
    "# Decision Tree\n",
    "pipe_dt  = Pipeline([('scaler', StandardScaler()), ('clf', DecisionTreeClassifier(random_state = 0))])\n",
    "\n",
    "# Dummy (Baseline)\n",
    "pipe_dum = Pipeline([('scaler', StandardScaler()), ('clf', DummyClassifier(random_state = 0))])\n",
    "\n",
    "# K Nearest Neighbors\n",
    "pipe_knn = Pipeline([('scaler', StandardScaler()), ('clf', KNeighborsClassifier())])\n",
    "\n",
    "# Naive Bayes\n",
    "pipe_nb  = Pipeline([('scaler', StandardScaler()), ('clf', GaussianNB())])\n",
    "\n",
    "# Support Vector Machine\n",
    "pipe_svm = Pipeline([('scaler', StandardScaler()), ('clf', SVC(random_state = 0))])"
   ]
  },
  {
   "cell_type": "code",
   "execution_count": 9,
   "metadata": {
    "id": "gGjqQV9NMhkU"
   },
   "outputs": [
    {
     "data": {
      "text/plain": [
       "{'RandomForest': Pipeline(steps=[('scaler', StandardScaler()),\n",
       "                 ('clf', RandomForestClassifier(random_state=0))]),\n",
       " 'DecisionTree': Pipeline(steps=[('scaler', StandardScaler()),\n",
       "                 ('clf', DecisionTreeClassifier(random_state=0))]),\n",
       " 'Dummy(Baseline)': Pipeline(steps=[('scaler', StandardScaler()),\n",
       "                 ('clf', DummyClassifier(random_state=0))]),\n",
       " 'KNN': Pipeline(steps=[('scaler', StandardScaler()), ('clf', KNeighborsClassifier())]),\n",
       " 'NaiveBayes': Pipeline(steps=[('scaler', StandardScaler()), ('clf', GaussianNB())]),\n",
       " 'SupportVectorMachine': Pipeline(steps=[('scaler', StandardScaler()), ('clf', SVC(random_state=0))])}"
      ]
     },
     "execution_count": 9,
     "metadata": {},
     "output_type": "execute_result"
    }
   ],
   "source": [
    "pipelines = [pipe_rf, pipe_dt, pipe_dum, \n",
    "             pipe_knn, pipe_nb, pipe_svm]\n",
    "\n",
    "models = ['RandomForest', \n",
    "          'DecisionTree', \n",
    "          'Dummy(Baseline)', \n",
    "          'KNN', \n",
    "          'NaiveBayes',\n",
    "          'SupportVectorMachine']\n",
    "\n",
    "# Zipping the the strings and pipelines together and creating a dictionary\n",
    "model_pipelines = dict(zip(models, pipelines))\n",
    "model_pipelines"
   ]
  },
  {
   "cell_type": "code",
   "execution_count": 10,
   "metadata": {
    "id": "d-W4sQ6aMhkV"
   },
   "outputs": [
    {
     "name": "stdout",
     "output_type": "stream",
     "text": [
      "\n",
      "RandomForest Fitting\n",
      "RandomForest (Macro Avg - F1 Score):\n",
      "0.6774983240256301\n",
      "\n",
      "DecisionTree Fitting\n",
      "DecisionTree (Macro Avg - F1 Score):\n",
      "0.559973780554167\n",
      "\n",
      "Dummy(Baseline) Fitting\n",
      "Dummy(Baseline) (Macro Avg - F1 Score):\n",
      "0.20074842750603783\n",
      "\n",
      "KNN Fitting\n"
     ]
    },
    {
     "name": "stderr",
     "output_type": "stream",
     "text": [
      "D:\\Anaconda\\envs\\DataMining1Project\\lib\\site-packages\\sklearn\\metrics\\_classification.py:1327: UndefinedMetricWarning: Precision and F-score are ill-defined and being set to 0.0 in labels with no predicted samples. Use `zero_division` parameter to control this behavior.\n",
      "  _warn_prf(average, modifier, msg_start, len(result))\n",
      "D:\\Anaconda\\envs\\DataMining1Project\\lib\\site-packages\\sklearn\\metrics\\_classification.py:1327: UndefinedMetricWarning: Precision and F-score are ill-defined and being set to 0.0 in labels with no predicted samples. Use `zero_division` parameter to control this behavior.\n",
      "  _warn_prf(average, modifier, msg_start, len(result))\n",
      "D:\\Anaconda\\envs\\DataMining1Project\\lib\\site-packages\\sklearn\\metrics\\_classification.py:1327: UndefinedMetricWarning: Precision and F-score are ill-defined and being set to 0.0 in labels with no predicted samples. Use `zero_division` parameter to control this behavior.\n",
      "  _warn_prf(average, modifier, msg_start, len(result))\n"
     ]
    },
    {
     "name": "stdout",
     "output_type": "stream",
     "text": [
      "KNN (Macro Avg - F1 Score):\n",
      "0.6034851309430658\n",
      "\n",
      "NaiveBayes Fitting\n",
      "NaiveBayes (Macro Avg - F1 Score):\n",
      "0.6343436170211314\n",
      "\n",
      "SupportVectorMachine Fitting\n",
      "SupportVectorMachine (Macro Avg - F1 Score):\n",
      "0.669256309243632\n"
     ]
    }
   ],
   "source": [
    "# Dictionary containing the model names and their scores\n",
    "models_f1 = {}\n",
    "classification_reports = {}\n",
    "test_preds = {}\n",
    "\n",
    "for name, pipe in model_pipelines.items():\n",
    "    print('\\n' + name + ' Fitting')\n",
    "    pipe.fit(X_train, y_train)\n",
    "    print(name + ' (Macro Avg - F1 Score):')\n",
    "    \n",
    "    # Classification Report\n",
    "    report = metrics.classification_report(y_val, pipe.predict(X_val), output_dict = True)\n",
    "   \n",
    "    f1 = report['macro avg']['f1-score']\n",
    "    \n",
    "    #We predict on the test set given by the competition\n",
    "    test_pred = pipe.predict(X_test)\n",
    "    \n",
    "    # Assigning to the Dictionary\n",
    "    test_preds[name] = test_pred\n",
    "    classification_reports[name] = report\n",
    "    models_f1[name] = f1\n",
    "    \n",
    "    print(f1)\n",
    "\n"
   ]
  },
  {
   "cell_type": "markdown",
   "metadata": {
    "id": "1l2QVtjzrlkI"
   },
   "source": [
    "Check the scores of each model"
   ]
  },
  {
   "cell_type": "code",
   "execution_count": 11,
   "metadata": {
    "id": "n3ppYDEdMhkV"
   },
   "outputs": [
    {
     "name": "stdout",
     "output_type": "stream",
     "text": [
      "RandomForest 0.6774983240256301\n",
      "SupportVectorMachine 0.669256309243632\n",
      "NaiveBayes 0.6343436170211314\n",
      "KNN 0.6034851309430658\n",
      "DecisionTree 0.559973780554167\n",
      "Dummy(Baseline) 0.20074842750603783\n"
     ]
    }
   ],
   "source": [
    "for i in sorted(models_f1, key = models_f1.get, reverse = True):\n",
    "    print(i, models_f1[i])"
   ]
  },
  {
   "cell_type": "code",
   "execution_count": 12,
   "metadata": {},
   "outputs": [
    {
     "data": {
      "text/plain": [
       "{'RandomForest': {'1': {'precision': 0.7503797468354431,\n",
       "   'recall': 0.5445526364137424,\n",
       "   'f1-score': 0.6311082721175343,\n",
       "   'support': 5443},\n",
       "  '2': {'precision': 0.6575077121744745,\n",
       "   'recall': 0.8077736647276573,\n",
       "   'f1-score': 0.7249357326478149,\n",
       "   'support': 11346},\n",
       "  '3': {'precision': 0.7205116058739933,\n",
       "   'recall': 0.6374685666387259,\n",
       "   'f1-score': 0.676450967311541,\n",
       "   'support': 9544},\n",
       "  'accuracy': 0.691641666350207,\n",
       "  'macro avg': {'precision': 0.7094663549613035,\n",
       "   'recall': 0.6632649559267085,\n",
       "   'f1-score': 0.6774983240256301,\n",
       "   'support': 26333},\n",
       "  'weighted avg': {'precision': 0.6995390662217862,\n",
       "   'recall': 0.691641666350207,\n",
       "   'f1-score': 0.6879691330186152,\n",
       "   'support': 26333}},\n",
       " 'DecisionTree': {'1': {'precision': 0.49373069234962746,\n",
       "   'recall': 0.49917325004593055,\n",
       "   'f1-score': 0.49643705463182897,\n",
       "   'support': 5443},\n",
       "  '2': {'precision': 0.5940943146760688,\n",
       "   'recall': 0.5940419531112286,\n",
       "   'f1-score': 0.5940681327398528,\n",
       "   'support': 11346},\n",
       "  '3': {'precision': 0.5912493410648392,\n",
       "   'recall': 0.5875943000838223,\n",
       "   'f1-score': 0.5894161542908193,\n",
       "   'support': 9544},\n",
       "  'accuracy': 0.5720958493145483,\n",
       "  'macro avg': {'precision': 0.5596914493635118,\n",
       "   'recall': 0.5602698344136604,\n",
       "   'f1-score': 0.559973780554167,\n",
       "   'support': 26333},\n",
       "  'weighted avg': {'precision': 0.5723181545549889,\n",
       "   'recall': 0.5720958493145483,\n",
       "   'f1-score': 0.5722018645417914,\n",
       "   'support': 26333}},\n",
       " 'Dummy(Baseline)': {'1': {'precision': 0.0,\n",
       "   'recall': 0.0,\n",
       "   'f1-score': 0.0,\n",
       "   'support': 5443},\n",
       "  '2': {'precision': 0.4308662134963734,\n",
       "   'recall': 1.0,\n",
       "   'f1-score': 0.6022452825181135,\n",
       "   'support': 11346},\n",
       "  '3': {'precision': 0.0, 'recall': 0.0, 'f1-score': 0.0, 'support': 9544},\n",
       "  'accuracy': 0.4308662134963734,\n",
       "  'macro avg': {'precision': 0.1436220711654578,\n",
       "   'recall': 0.3333333333333333,\n",
       "   'f1-score': 0.20074842750603783,\n",
       "   'support': 26333},\n",
       "  'weighted avg': {'precision': 0.18564569393270242,\n",
       "   'recall': 0.4308662134963734,\n",
       "   'f1-score': 0.25948714447463317,\n",
       "   'support': 26333}},\n",
       " 'KNN': {'1': {'precision': 0.5648326279338207,\n",
       "   'recall': 0.5394084144773104,\n",
       "   'f1-score': 0.5518278357297247,\n",
       "   'support': 5443},\n",
       "  '2': {'precision': 0.6004403279684178,\n",
       "   'recall': 0.6970738586285916,\n",
       "   'f1-score': 0.645158658944449,\n",
       "   'support': 11346},\n",
       "  '3': {'precision': 0.6743689564234585,\n",
       "   'recall': 0.5626571668063705,\n",
       "   'f1-score': 0.6134688981550237,\n",
       "   'support': 9544},\n",
       "  'accuracy': 0.6157672881935214,\n",
       "  'macro avg': {'precision': 0.6132139707752323,\n",
       "   'recall': 0.5997131466374241,\n",
       "   'f1-score': 0.6034851309430658,\n",
       "   'support': 26333},\n",
       "  'weighted avg': {'precision': 0.6198745784786748,\n",
       "   'recall': 0.6157672881935214,\n",
       "   'f1-score': 0.6143818105894564,\n",
       "   'support': 26333}},\n",
       " 'NaiveBayes': {'1': {'precision': 0.7156105100463679,\n",
       "   'recall': 0.510380304978872,\n",
       "   'f1-score': 0.5958176943699732,\n",
       "   'support': 5443},\n",
       "  '2': {'precision': 0.6161427235450687,\n",
       "   'recall': 0.7548915917503967,\n",
       "   'f1-score': 0.6784964550243594,\n",
       "   'support': 11346},\n",
       "  '3': {'precision': 0.6652631578947369,\n",
       "   'recall': 0.5959765297569153,\n",
       "   'f1-score': 0.6287167016690615,\n",
       "   'support': 9544},\n",
       "  'accuracy': 0.6467550222154711,\n",
       "  'macro avg': {'precision': 0.6656721304953912,\n",
       "   'recall': 0.6204161421620613,\n",
       "   'f1-score': 0.6343436170211314,\n",
       "   'support': 26333},\n",
       "  'weighted avg': {'precision': 0.6545055605693274,\n",
       "   'recall': 0.6467550222154711,\n",
       "   'f1-score': 0.6433649295519565,\n",
       "   'support': 26333}},\n",
       " 'SupportVectorMachine': {'1': {'precision': 0.761578947368421,\n",
       "   'recall': 0.5316920815726621,\n",
       "   'f1-score': 0.6262036135453857,\n",
       "   'support': 5443},\n",
       "  '2': {'precision': 0.6396144898637421,\n",
       "   'recall': 0.8481403137669663,\n",
       "   'f1-score': 0.7292637641620249,\n",
       "   'support': 11346},\n",
       "  '3': {'precision': 0.7418536324786325,\n",
       "   'recall': 0.5820410729253982,\n",
       "   'f1-score': 0.6523015500234852,\n",
       "   'support': 9544},\n",
       "  'accuracy': 0.6862871681920024,\n",
       "  'macro avg': {'precision': 0.7143490232369318,\n",
       "   'recall': 0.6539578227550089,\n",
       "   'f1-score': 0.669256309243632,\n",
       "   'support': 26333},\n",
       "  'weighted avg': {'precision': 0.7018794395206169,\n",
       "   'recall': 0.6862871681920024,\n",
       "   'f1-score': 0.6800675551640152,\n",
       "   'support': 26333}}}"
      ]
     },
     "execution_count": 12,
     "metadata": {},
     "output_type": "execute_result"
    }
   ],
   "source": [
    "classification_reports"
   ]
  },
  {
   "cell_type": "markdown",
   "metadata": {
    "id": "hPmeSiiirmjm"
   },
   "source": [
    "Save the test predictions to upload on the competition site"
   ]
  },
  {
   "cell_type": "code",
   "execution_count": 13,
   "metadata": {
    "id": "iKGu3cB8WzUy"
   },
   "outputs": [],
   "source": [
    "for k,v in test_preds.items():\n",
    "  new_dict_data = dict(zip(Trip_ID.values,test_preds[k]))\n",
    "  df = pd.DataFrame(new_dict_data.items(), columns=['Trip_ID', 'Surge_Pricing_Type'])\n",
    "  df.to_csv('../submissions/Preprocess3/Preprocess3_{methodname}_test_prediction.csv'.format(methodname = k), index = False)"
   ]
  }
 ],
 "metadata": {
  "colab": {
   "collapsed_sections": [
    "wEXJxbdhfTaU",
    "DHX8PDe_foYB",
    "sE_vNEg9aLsW",
    "FCGftUo5g_Ma",
    "gEnRUJ1AmBrR",
    "EZheiL2imWmK",
    "UUw3zno3m6vm",
    "D93XWr2_njVV"
   ],
   "name": "3.3 Model Fitting on Process 3.ipynb",
   "provenance": [],
   "toc_visible": true
  },
  "kernelspec": {
   "display_name": "Python 3 (ipykernel)",
   "language": "python",
   "name": "python3"
  },
  "language_info": {
   "codemirror_mode": {
    "name": "ipython",
    "version": 3
   },
   "file_extension": ".py",
   "mimetype": "text/x-python",
   "name": "python",
   "nbconvert_exporter": "python",
   "pygments_lexer": "ipython3",
   "version": "3.9.12"
  }
 },
 "nbformat": 4,
 "nbformat_minor": 1
}
