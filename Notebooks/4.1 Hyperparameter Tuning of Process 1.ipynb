{
  "cells": [
    {
      "cell_type": "markdown",
      "metadata": {
        "id": "DHX8PDe_foYB"
      },
      "source": [
        "**Loaded packages**"
      ]
    },
    {
      "cell_type": "code",
      "execution_count": 1,
      "metadata": {
        "id": "EwsjnOEYYaH9"
      },
      "outputs": [],
      "source": [
        "import pandas as pd\n",
        "import numpy as np\n",
        "import matplotlib.pyplot as plt\n",
        "import seaborn as sns\n",
        "\n",
        "from sklearn.preprocessing import RobustScaler, StandardScaler, MinMaxScaler, MaxAbsScaler, LabelEncoder\n",
        "from sklearn.model_selection import train_test_split, RepeatedStratifiedKFold\n",
        "from sklearn.experimental import enable_halving_search_cv\n",
        "from sklearn.model_selection import HalvingGridSearchCV\n",
        "\n",
        "from sklearn.neighbors import KNeighborsClassifier\n",
        "from sklearn.ensemble import RandomForestClassifier\n",
        "from sklearn.feature_selection import SelectKBest, chi2 \n",
        "from sklearn.pipeline import Pipeline\n",
        "import sklearn.metrics as metrics"
      ]
    },
    {
      "cell_type": "markdown",
      "metadata": {
        "id": "sE_vNEg9aLsW"
      },
      "source": [
        "**Load Data**"
      ]
    },
    {
      "cell_type": "code",
      "execution_count": null,
      "metadata": {
        "id": "nPzN0hKGuBaZ"
      },
      "outputs": [],
      "source": [
        "train_process1 = pd.read_csv(\"../data/preprocessed/train_process1.csv\")\n",
        "test_process1 = pd.read_csv(\"../data/preprocessed/test_process1.csv\")"
      ]
    },
    {
      "cell_type": "code",
      "source": [
        "train_process1.head()"
      ],
      "metadata": {
        "id": "hFMI0nIpuBaa"
      },
      "execution_count": null,
      "outputs": []
    },
    {
      "cell_type": "code",
      "execution_count": null,
      "metadata": {
        "id": "9Vd4vwSluBaa"
      },
      "outputs": [],
      "source": [
        "test_process1.head()"
      ]
    },
    {
      "cell_type": "markdown",
      "metadata": {
        "id": "T4UZXmZNEktX"
      },
      "source": [
        "**Train-Validation Split**"
      ]
    },
    {
      "cell_type": "code",
      "execution_count": null,
      "metadata": {
        "id": "yYh0Ca3Hc3XP"
      },
      "outputs": [],
      "source": [
        "X = train_process1.drop([\"Surge_Pricing_Type\",\"Trip_ID\"], axis=1)\n",
        "y = train_process1.Surge_Pricing_Type\n",
        "X_test = test_process1.drop([\"Trip_ID\"], axis=1)\n",
        "Trip_ID = test_process1.Trip_ID"
      ]
    },
    {
      "cell_type": "code",
      "execution_count": null,
      "metadata": {
        "id": "a2iwWHjsc3UB"
      },
      "outputs": [],
      "source": [
        "X_train, X_val, y_train, y_val = train_test_split(X, y, stratify = y, test_size = 0.2, random_state = 0)"
      ]
    },
    {
      "cell_type": "markdown",
      "source": [
        "Checking the scores of the features using SelectKBest"
      ],
      "metadata": {
        "id": "UUw3zno3m6vm"
      }
    },
    {
      "cell_type": "code",
      "source": [
        "bestfeatures = SelectKBest(score_func = chi2, k='all')\n",
        "fit = bestfeatures.fit(X_train, y_train)\n",
        "dfscores = pd.DataFrame(fit.scores_)\n",
        "dfcolumns = pd.DataFrame(X.columns)\n",
        "featureScores = pd.concat([dfcolumns, dfscores], axis = 1)\n",
        "featureScores.columns = ['feature','Score']\n",
        "print(featureScores.sort_values('Score', ascending = False)) "
      ],
      "metadata": {
        "id": "XDvHaW7gm97j"
      },
      "execution_count": null,
      "outputs": []
    },
    {
      "cell_type": "markdown",
      "source": [
        "As we can see that gender has very low importance, we will drop the variable"
      ],
      "metadata": {
        "id": "Sbyc1GKzv6pp"
      }
    },
    {
      "cell_type": "code",
      "source": [
        "X = train_process1.drop([\"Surge_Pricing_Type\",\"Trip_ID\",'Gender'], axis=1)\n",
        "y = train_process1.Surge_Pricing_Type\n",
        "X_test = test_process1.drop([\"Trip_ID\",'Gender'], axis=1)\n",
        "Trip_ID = test_process1.Trip_ID"
      ],
      "metadata": {
        "id": "Hz0NGfOrv6MX"
      },
      "execution_count": null,
      "outputs": []
    },
    {
      "cell_type": "code",
      "source": [
        "X_train, X_val, y_train, y_val = train_test_split(X, y, stratify = y, test_size = 0.2, random_state = 0)"
      ],
      "metadata": {
        "id": "HgDTqG5RwGy5"
      },
      "execution_count": null,
      "outputs": []
    },
    {
      "cell_type": "markdown",
      "source": [
        "## Grid Search for Random Forest and KNN"
      ],
      "metadata": {
        "id": "EUjAgZ1bSbGv"
      }
    },
    {
      "cell_type": "markdown",
      "source": [
        "###Random Forest"
      ],
      "metadata": {
        "id": "uuVbqZlfSjjO"
      }
    },
    {
      "cell_type": "code",
      "source": [
        "# Random Forest\n",
        "pipe_rf  = Pipeline([('scaler', StandardScaler()), ('clf', RandomForestClassifier(random_state = 0))])"
      ],
      "metadata": {
        "id": "uI0AwlWUSlRw"
      },
      "execution_count": null,
      "outputs": []
    },
    {
      "cell_type": "code",
      "source": [
        "rf_params = {\n",
        "    'scaler': [StandardScaler(), MinMaxScaler(), RobustScaler(), MaxAbsScaler()],\n",
        "    'clf__n_estimators': [10, 50, 100, 200, 500],\n",
        "    'clf__criterion': ['gini', 'entropy'],\n",
        "    'clf__max_depth': [None, 2, 5, 10],\n",
        "    'clf__min_samples_split': [2, 4, 8],\n",
        "    'clf__min_samples_leaf': [1, 2, 5]\n",
        "    }\n",
        "\n",
        "cv = RepeatedStratifiedKFold(n_splits = 5, n_repeats = 2, random_state = 1)"
      ],
      "metadata": {
        "id": "J8xyBA4PS71k"
      },
      "execution_count": null,
      "outputs": []
    },
    {
      "cell_type": "code",
      "source": [
        "gs = HalvingGridSearchCV(pipe_rf, rf_params, scoring=\"f1_macro\", n_jobs=-1, min_resources=\"exhaust\", factor=3, verbose = 2, cv = cv)\n",
        "gs.fit(X_train, y_train)\n",
        "y_pred = gs.predict(X_val)"
      ],
      "metadata": {
        "id": "eNvBecHFS7yN"
      },
      "execution_count": null,
      "outputs": []
    },
    {
      "cell_type": "code",
      "source": [
        "print(\"accuracy\",metrics.accuracy_score(y_val, y_pred))\n",
        "print(\"f1 score macro\",metrics.f1_score(y_val, y_pred, average='macro')) \n",
        "print(\"f1 score micro\",metrics.f1_score(y_val, y_pred, average='micro')) \n",
        "print(\"precision score\",metrics.precision_score(y_val, y_pred, average='macro')) \n",
        "print(\"recall score\",metrics.recall_score(y_val, y_pred, average='macro')) \n",
        "print(\"hamming_loss\",metrics.hamming_loss(y_val, y_pred))\n",
        "print(\"classification_report\", metrics.classification_report(y_val, y_pred))"
      ],
      "metadata": {
        "id": "oZJQvMVDS7vM"
      },
      "execution_count": null,
      "outputs": []
    },
    {
      "cell_type": "code",
      "source": [
        "# Printing out the best parameters for the selected classifier\n",
        "print('Best Parameters: ', gs.best_params_)\n",
        "\n",
        "# Access the best set of parameters\n",
        "best_params_rf = gs.best_params_\n",
        "\n",
        "# Stores the optimum model in best_pipe\n",
        "best_pipe_rf = gs.best_estimator_\n",
        "print(best_pipe_rf)\n",
        "\n",
        "results_df_rf = pd.DataFrame.from_dict(gs.cv_results_, orient='columns')\n",
        "print(results_df_rf.columns)"
      ],
      "metadata": {
        "id": "svyfeGZtS7qe"
      },
      "execution_count": null,
      "outputs": []
    },
    {
      "cell_type": "markdown",
      "source": [
        "Training using the best parameters by grid search "
      ],
      "metadata": {
        "id": "_Z5F-vltvBC0"
      }
    },
    {
      "cell_type": "code",
      "source": [
        "tuned_rf_pipe = Pipeline([('scaler', RobustScaler()),\n",
        "                          ('clf', RandomForestClassifier(n_estimators = 200, criterion = 'gini', max_depth = None,\n",
        "                                                         min_samples_split = 2, min_samples_leaf = 5, random_state = 0))])"
      ],
      "metadata": {
        "id": "44-zX7lRvAnA"
      },
      "execution_count": null,
      "outputs": []
    },
    {
      "cell_type": "code",
      "source": [
        "tuned_rf_pipe.fit(X_train, y_train)\n",
        "y_pred = tuned_rf_pipe.predict(X_val)"
      ],
      "metadata": {
        "id": "qjrffq3vv1r3"
      },
      "execution_count": null,
      "outputs": []
    },
    {
      "cell_type": "markdown",
      "source": [
        "Plot the confusion matrix on Validation set for the tuned Random Forest Model"
      ],
      "metadata": {
        "id": "xpnETM7pwYxO"
      }
    },
    {
      "cell_type": "code",
      "source": [
        "def plot_confusion_matrix(y_true, y_pred, labels = ['Low', 'Medium', 'High'],\n",
        "                          normalize=False, title=None, cmap=plt.cm.coolwarm):\n",
        "\n",
        "    cm = metrics.confusion_matrix(y_true, y_pred)\n",
        "    fig, ax = plt.subplots(figsize=(12,6))\n",
        "    im = ax.imshow(cm, interpolation='nearest', cmap=cmap)\n",
        "    ax.figure.colorbar(im, ax=ax)\n",
        "    # We want to show all ticks...\n",
        "    ax.set(xticks=np.arange(cm.shape[1]),\n",
        "           yticks=np.arange(cm.shape[0]),\n",
        "           # ... and label them with the respective list entries\n",
        "           xticklabels=labels, yticklabels=labels,\n",
        "           title=title,\n",
        "           ylabel='ACTUAL',\n",
        "           xlabel='PREDICTED')\n",
        "    # Rotate the tick labels and set their alignment.\n",
        "    plt.setp(ax.get_xticklabels(), rotation=45, ha=\"right\",\n",
        "             rotation_mode=\"anchor\")\n",
        "    # Loop over data dimensions and create text annotations.\n",
        "    fmt = '.2f' if normalize else 'd'\n",
        "    thresh = cm.max() / 1.5\n",
        "    for i in range(cm.shape[0]):\n",
        "        for j in range(cm.shape[1]):\n",
        "            ax.text(j, i, format(cm[i, j], fmt),\n",
        "                    ha=\"center\", va=\"center\",\n",
        "                    color=\"snow\" if cm[i, j] > thresh else \"orange\",\n",
        "                    size=26)\n",
        "    ax.grid(False)\n",
        "    fig.tight_layout()\n",
        "    return ax"
      ],
      "metadata": {
        "id": "c-9d3eMjv1g_"
      },
      "execution_count": null,
      "outputs": []
    },
    {
      "cell_type": "code",
      "source": [
        "plot_confusion_matrix(y_val, y_pred, title=\"Confusion Matrix For Tuned Random Forest\")\n",
        "np.set_printoptions(precision=1)\n",
        "# Plot non-normalized confusion matrix\n",
        "plt.show()\n",
        "\n",
        "# Final Classification Report\n",
        "print(metrics.classification_report(y_val, y_pred, target_names=['Low', 'Medium', 'High']))"
      ],
      "metadata": {
        "id": "w7A_JYOhwXGw"
      },
      "execution_count": null,
      "outputs": []
    },
    {
      "cell_type": "markdown",
      "source": [
        "Save the test predictions to upload on the competition site"
      ],
      "metadata": {
        "id": "ZIP7f3jEw2VN"
      }
    },
    {
      "cell_type": "code",
      "source": [
        "test_pred = tuned_rf_pipe.predict(X_test)\n",
        "\n",
        "new_dict_data = dict(zip(Trip_ID.values,test_pred))\n",
        "\n",
        "df = pd.DataFrame(new_dict_data.items(), columns=['Trip_ID', 'Surge_Pricing_Type'])\n",
        "df.to_csv(r'../submissions/Preprocess1/tuned_RF_test_prediction.csv', index = False)"
      ],
      "metadata": {
        "id": "oWtCvzykwgm-"
      },
      "execution_count": null,
      "outputs": []
    },
    {
      "cell_type": "markdown",
      "source": [
        "### KNN"
      ],
      "metadata": {
        "id": "O25dCxLkf3Od"
      }
    },
    {
      "cell_type": "code",
      "source": [
        "# K Nearest Neighbors\n",
        "pipe_knn = Pipeline([('scaler', StandardScaler()), ('clf', KNeighborsClassifier())])"
      ],
      "metadata": {
        "id": "cGHTe8STbESc"
      },
      "execution_count": null,
      "outputs": []
    },
    {
      "cell_type": "code",
      "source": [
        "knn_params = {\n",
        "    'scaler': [StandardScaler(), MinMaxScaler(), RobustScaler(), MaxAbsScaler()],\n",
        "    'clf__n_neighbors': [5, 10, 25, 50, 100, 200],\n",
        "    'clf__weights': ['uniform', 'distance'],\n",
        "    'clf__p': [1,2],\n",
        "    'clf__leaf_size': [1, 5, 10, 15]\n",
        "    }\n",
        "\n",
        "cv = RepeatedStratifiedKFold(n_splits = 5, n_repeats = 2, random_state = 1)"
      ],
      "metadata": {
        "id": "olvVHuarf2yG"
      },
      "execution_count": null,
      "outputs": []
    },
    {
      "cell_type": "code",
      "source": [
        "gs = HalvingGridSearchCV(pipe_knn, knn_params, scoring = \"f1_macro\", n_jobs = -1,\n",
        "                         min_resources = \"exhaust\", factor = 3, verbose = 2, cv = cv)\n",
        "gs.fit(X_train, y_train)\n",
        "y_pred = gs.predict(X_val)"
      ],
      "metadata": {
        "id": "YMltEClnf2u8"
      },
      "execution_count": null,
      "outputs": []
    },
    {
      "cell_type": "code",
      "source": [
        "print(\"accuracy\",metrics.accuracy_score(y_val, y_pred))\n",
        "print(\"f1 score macro\",metrics.f1_score(y_val, y_pred, average='macro')) \n",
        "print(\"f1 score micro\",metrics.f1_score(y_val, y_pred, average='micro')) \n",
        "print(\"precision score\",metrics.precision_score(y_val, y_pred, average='macro')) \n",
        "print(\"recall score\",metrics.recall_score(y_val, y_pred, average='macro')) \n",
        "print(\"hamming_loss\",metrics.hamming_loss(y_val, y_pred))\n",
        "print(\"classification_report\", metrics.classification_report(y_val, y_pred))"
      ],
      "metadata": {
        "id": "ZHDai0l-f2rj"
      },
      "execution_count": null,
      "outputs": []
    },
    {
      "cell_type": "code",
      "source": [
        "# Printing out the best parameters for the selected classifier\n",
        "print('Best Parameters: ', gs.best_params_)\n",
        "\n",
        "# Access the best set of parameters\n",
        "best_params_knn = gs.best_params_\n",
        "\n",
        "# Stores the optimum model in best_pipe\n",
        "best_pipe_knn = gs.best_estimator_\n",
        "print(best_pipe_knn)\n",
        "\n",
        "results_df_knn = pd.DataFrame.from_dict(gs.cv_results_, orient='columns')\n",
        "print(results_df_knn.columns)"
      ],
      "metadata": {
        "id": "ZxTIfYlcf2ox"
      },
      "execution_count": null,
      "outputs": []
    },
    {
      "cell_type": "markdown",
      "source": [
        "Training using the best parameters by grid search "
      ],
      "metadata": {
        "id": "-I86tQnNxq1p"
      }
    },
    {
      "cell_type": "code",
      "source": [
        "tuned_knn_pipe = Pipeline([('scaler', MaxAbsScaler()),\n",
        "                          ('clf', KNeighborsClassifier(n_neighbors = 50, weights = 'distance', p = 1, leaf_size = 1))])"
      ],
      "metadata": {
        "id": "82bBeDK3xq1q"
      },
      "execution_count": null,
      "outputs": []
    },
    {
      "cell_type": "code",
      "source": [
        "tuned_knn_pipe.fit(X_train, y_train)\n",
        "y_pred = tuned_knn_pipe.predict(X_val)"
      ],
      "metadata": {
        "id": "EYY2-aUXxq1q"
      },
      "execution_count": null,
      "outputs": []
    },
    {
      "cell_type": "markdown",
      "source": [
        "Plot the confusion matrix on Validation set for the tuned KNN Model"
      ],
      "metadata": {
        "id": "qGjOShkQxq1q"
      }
    },
    {
      "cell_type": "code",
      "source": [
        "plot_confusion_matrix(y_val, y_pred, title=\"Confusion Matrix For Tuned KNN\")\n",
        "np.set_printoptions(precision=1)\n",
        "# Plot non-normalized confusion matrix\n",
        "plt.show()\n",
        "\n",
        "# Final Classification Report\n",
        "print(metrics.classification_report(y_val, y_pred, target_names=['Low', 'Medium', 'High']))"
      ],
      "metadata": {
        "id": "sFbWYPlsbEPU"
      },
      "execution_count": null,
      "outputs": []
    },
    {
      "cell_type": "markdown",
      "source": [
        "Save the test predictions to upload on the competition site"
      ],
      "metadata": {
        "id": "qkZw-ccryaTB"
      }
    },
    {
      "cell_type": "code",
      "source": [
        "test_pred = tuned_knn_pipe.predict(X_test)\n",
        "\n",
        "new_dict_data = dict(zip(Trip_ID.values,test_pred))\n",
        "\n",
        "df = pd.DataFrame(new_dict_data.items(), columns=['Trip_ID', 'Surge_Pricing_Type'])\n",
        "df.to_csv(r'../submissions/Preprocess1/tuned_KNN_test_prediction.csv', index = False)"
      ],
      "metadata": {
        "id": "Ayvg8MQfyaTB"
      },
      "execution_count": null,
      "outputs": []
    }
  ],
  "metadata": {
    "colab": {
      "collapsed_sections": [
        "wEXJxbdhfTaU",
        "DHX8PDe_foYB",
        "sE_vNEg9aLsW",
        "FCGftUo5g_Ma",
        "gEnRUJ1AmBrR",
        "EZheiL2imWmK",
        "UUw3zno3m6vm",
        "D93XWr2_njVV"
      ],
      "name": "4.1 Hyperparameter Tuning of Process 1",
      "provenance": [],
      "toc_visible": true
    },
    "kernelspec": {
      "display_name": "Python 3",
      "name": "python3"
    }
  },
  "nbformat": 4,
  "nbformat_minor": 0
}