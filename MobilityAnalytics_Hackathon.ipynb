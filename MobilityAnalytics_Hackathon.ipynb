{
  "cells": [
    {
      "cell_type": "markdown",
      "metadata": {
        "id": "wEXJxbdhfTaU"
      },
      "source": [
        "##Connect to Gdrive because I uploaded files in there"
      ]
    },
    {
      "cell_type": "code",
      "execution_count": 1,
      "metadata": {
        "id": "LMZgeOO9jN4N"
      },
      "outputs": [],
      "source": [
        "# from google.colab import drive\n",
        "# drive.mount('/content/drive')\n",
        "\n",
        "# import os\n",
        "# os.chdir(\"/content/drive/My Drive/Mobility\")\n"
      ]
    },
    {
      "cell_type": "markdown",
      "metadata": {
        "id": "DHX8PDe_foYB"
      },
      "source": [
        "### Loaded packages (some of them are extra, will clean later)"
      ]
    },
    {
      "cell_type": "code",
      "execution_count": 2,
      "metadata": {
        "id": "TMNs1U7y0kZa"
      },
      "outputs": [],
      "source": [
        "import pandas as pd\n",
        "import numpy as np\n",
        "import matplotlib.pyplot as plt\n",
        "import seaborn as sns\n",
        "import os\n",
        "import sklearn \n",
        "from datetime import datetime\n",
        "from sklearn import *\n",
        "from sklearn.preprocessing import StandardScaler, MinMaxScaler, LabelEncoder\n",
        "from imblearn.over_sampling import SMOTE\n",
        "import sklearn.ensemble as ensemble\n",
        "import sklearn.metrics as metrics\n",
        "from sklearn.metrics import accuracy_score\n",
        "from sklearn.metrics import r2_score\n",
        "from sklearn.feature_selection import chi2\n",
        "from sklearn.model_selection import train_test_split\n",
        "from tqdm import tqdm_notebook as tqdm\n",
        "from sklearn.model_selection import RandomizedSearchCV, GridSearchCV\n",
        "# !pip3 install bayesian-optimization\n",
        "from bayes_opt import BayesianOptimization\n",
        "\n",
        "\n",
        "from sklearn.ensemble import RandomForestClassifier, ExtraTreesClassifier ,ExtraTreesClassifier,AdaBoostClassifier, BaggingClassifier, GradientBoostingClassifier, VotingClassifier\n",
        "from sklearn.neighbors import KNeighborsClassifier\n",
        "from sklearn.svm import SVC\n",
        "from sklearn.linear_model import LogisticRegression\n",
        "from sklearn.naive_bayes import GaussianNB\n",
        "from sklearn.tree import DecisionTreeClassifier\n",
        "from xgboost.sklearn import XGBClassifier\n",
        "import lightgbm\n",
        "from lightgbm import LGBMClassifier\n",
        "# !pip3 install catboost\n",
        "from catboost import CatBoostClassifier\n",
        "import operator"
      ]
    },
    {
      "cell_type": "markdown",
      "metadata": {
        "id": "FCGftUo5g_Ma"
      },
      "source": [
        "### Read train test files and EDA (Need to do more EDA)"
      ]
    },
    {
      "cell_type": "code",
      "execution_count": 3,
      "metadata": {
        "id": "l82C1fgK07Jb"
      },
      "outputs": [],
      "source": [
        "train = pd.read_csv(\"data/train.csv\")\n",
        "test = pd.read_csv(\"data/test.csv\")"
      ]
    },
    {
      "cell_type": "code",
      "execution_count": 4,
      "metadata": {
        "id": "EfuApUEqP9qw"
      },
      "outputs": [
        {
          "data": {
            "text/html": [
              "<div>\n",
              "<style scoped>\n",
              "    .dataframe tbody tr th:only-of-type {\n",
              "        vertical-align: middle;\n",
              "    }\n",
              "\n",
              "    .dataframe tbody tr th {\n",
              "        vertical-align: top;\n",
              "    }\n",
              "\n",
              "    .dataframe thead th {\n",
              "        text-align: right;\n",
              "    }\n",
              "</style>\n",
              "<table border=\"1\" class=\"dataframe\">\n",
              "  <thead>\n",
              "    <tr style=\"text-align: right;\">\n",
              "      <th></th>\n",
              "      <th>Trip_ID</th>\n",
              "      <th>Trip_Distance</th>\n",
              "      <th>Type_of_Cab</th>\n",
              "      <th>Customer_Since_Months</th>\n",
              "      <th>Life_Style_Index</th>\n",
              "      <th>Confidence_Life_Style_Index</th>\n",
              "      <th>Destination_Type</th>\n",
              "      <th>Customer_Rating</th>\n",
              "      <th>Cancellation_Last_1Month</th>\n",
              "      <th>Var1</th>\n",
              "      <th>Var2</th>\n",
              "      <th>Var3</th>\n",
              "      <th>Gender</th>\n",
              "      <th>Surge_Pricing_Type</th>\n",
              "    </tr>\n",
              "  </thead>\n",
              "  <tbody>\n",
              "    <tr>\n",
              "      <th>0</th>\n",
              "      <td>T0005689460</td>\n",
              "      <td>6.77</td>\n",
              "      <td>B</td>\n",
              "      <td>1.0</td>\n",
              "      <td>2.42769</td>\n",
              "      <td>A</td>\n",
              "      <td>A</td>\n",
              "      <td>3.90500</td>\n",
              "      <td>0</td>\n",
              "      <td>40.0</td>\n",
              "      <td>46</td>\n",
              "      <td>60</td>\n",
              "      <td>Female</td>\n",
              "      <td>2</td>\n",
              "    </tr>\n",
              "    <tr>\n",
              "      <th>1</th>\n",
              "      <td>T0005689461</td>\n",
              "      <td>29.47</td>\n",
              "      <td>B</td>\n",
              "      <td>10.0</td>\n",
              "      <td>2.78245</td>\n",
              "      <td>B</td>\n",
              "      <td>A</td>\n",
              "      <td>3.45000</td>\n",
              "      <td>0</td>\n",
              "      <td>38.0</td>\n",
              "      <td>56</td>\n",
              "      <td>78</td>\n",
              "      <td>Male</td>\n",
              "      <td>2</td>\n",
              "    </tr>\n",
              "    <tr>\n",
              "      <th>2</th>\n",
              "      <td>T0005689464</td>\n",
              "      <td>41.58</td>\n",
              "      <td>NaN</td>\n",
              "      <td>10.0</td>\n",
              "      <td>NaN</td>\n",
              "      <td>NaN</td>\n",
              "      <td>E</td>\n",
              "      <td>3.50125</td>\n",
              "      <td>2</td>\n",
              "      <td>NaN</td>\n",
              "      <td>56</td>\n",
              "      <td>77</td>\n",
              "      <td>Male</td>\n",
              "      <td>2</td>\n",
              "    </tr>\n",
              "    <tr>\n",
              "      <th>3</th>\n",
              "      <td>T0005689465</td>\n",
              "      <td>61.56</td>\n",
              "      <td>C</td>\n",
              "      <td>10.0</td>\n",
              "      <td>NaN</td>\n",
              "      <td>NaN</td>\n",
              "      <td>A</td>\n",
              "      <td>3.45375</td>\n",
              "      <td>0</td>\n",
              "      <td>NaN</td>\n",
              "      <td>52</td>\n",
              "      <td>74</td>\n",
              "      <td>Male</td>\n",
              "      <td>3</td>\n",
              "    </tr>\n",
              "    <tr>\n",
              "      <th>4</th>\n",
              "      <td>T0005689467</td>\n",
              "      <td>54.95</td>\n",
              "      <td>C</td>\n",
              "      <td>10.0</td>\n",
              "      <td>3.03453</td>\n",
              "      <td>B</td>\n",
              "      <td>A</td>\n",
              "      <td>3.40250</td>\n",
              "      <td>4</td>\n",
              "      <td>51.0</td>\n",
              "      <td>49</td>\n",
              "      <td>102</td>\n",
              "      <td>Male</td>\n",
              "      <td>2</td>\n",
              "    </tr>\n",
              "  </tbody>\n",
              "</table>\n",
              "</div>"
            ],
            "text/plain": [
              "       Trip_ID  Trip_Distance Type_of_Cab  Customer_Since_Months  \\\n",
              "0  T0005689460           6.77           B                    1.0   \n",
              "1  T0005689461          29.47           B                   10.0   \n",
              "2  T0005689464          41.58         NaN                   10.0   \n",
              "3  T0005689465          61.56           C                   10.0   \n",
              "4  T0005689467          54.95           C                   10.0   \n",
              "\n",
              "   Life_Style_Index Confidence_Life_Style_Index Destination_Type  \\\n",
              "0           2.42769                           A                A   \n",
              "1           2.78245                           B                A   \n",
              "2               NaN                         NaN                E   \n",
              "3               NaN                         NaN                A   \n",
              "4           3.03453                           B                A   \n",
              "\n",
              "   Customer_Rating  Cancellation_Last_1Month  Var1  Var2  Var3  Gender  \\\n",
              "0          3.90500                         0  40.0    46    60  Female   \n",
              "1          3.45000                         0  38.0    56    78    Male   \n",
              "2          3.50125                         2   NaN    56    77    Male   \n",
              "3          3.45375                         0   NaN    52    74    Male   \n",
              "4          3.40250                         4  51.0    49   102    Male   \n",
              "\n",
              "   Surge_Pricing_Type  \n",
              "0                   2  \n",
              "1                   2  \n",
              "2                   2  \n",
              "3                   3  \n",
              "4                   2  "
            ]
          },
          "execution_count": 4,
          "metadata": {},
          "output_type": "execute_result"
        }
      ],
      "source": [
        "train.head()"
      ]
    },
    {
      "cell_type": "code",
      "execution_count": 5,
      "metadata": {
        "cellView": "code",
        "id": "Yt0RSERy2bhJ"
      },
      "outputs": [
        {
          "data": {
            "text/plain": [
              "Trip_ID                         object\n",
              "Trip_Distance                  float64\n",
              "Type_of_Cab                     object\n",
              "Customer_Since_Months          float64\n",
              "Life_Style_Index               float64\n",
              "Confidence_Life_Style_Index     object\n",
              "Destination_Type                object\n",
              "Customer_Rating                float64\n",
              "Cancellation_Last_1Month         int64\n",
              "Var1                           float64\n",
              "Var2                             int64\n",
              "Var3                             int64\n",
              "Gender                          object\n",
              "Surge_Pricing_Type               int64\n",
              "dtype: object"
            ]
          },
          "execution_count": 5,
          "metadata": {},
          "output_type": "execute_result"
        }
      ],
      "source": [
        "train.dtypes"
      ]
    },
    {
      "cell_type": "code",
      "execution_count": 6,
      "metadata": {
        "cellView": "both",
        "id": "Y8DJqnDL3_Pw"
      },
      "outputs": [
        {
          "data": {
            "text/plain": [
              "Trip_ID                         object\n",
              "Trip_Distance                  float64\n",
              "Type_of_Cab                     object\n",
              "Customer_Since_Months          float64\n",
              "Life_Style_Index               float64\n",
              "Confidence_Life_Style_Index     object\n",
              "Destination_Type                object\n",
              "Customer_Rating                float64\n",
              "Cancellation_Last_1Month         int64\n",
              "Var1                           float64\n",
              "Var2                             int64\n",
              "Var3                             int64\n",
              "Gender                          object\n",
              "dtype: object"
            ]
          },
          "execution_count": 6,
          "metadata": {},
          "output_type": "execute_result"
        }
      ],
      "source": [
        "test.dtypes"
      ]
    },
    {
      "cell_type": "code",
      "execution_count": 7,
      "metadata": {
        "cellView": "both",
        "id": "xehBYHvV2W-1"
      },
      "outputs": [
        {
          "name": "stdout",
          "output_type": "stream",
          "text": [
            "Trip_ID                            0\n",
            "Trip_Distance                      0\n",
            "Type_of_Cab                    20210\n",
            "Customer_Since_Months           5920\n",
            "Life_Style_Index               20193\n",
            "Confidence_Life_Style_Index    20193\n",
            "Destination_Type                   0\n",
            "Customer_Rating                    0\n",
            "Cancellation_Last_1Month           0\n",
            "Var1                           71030\n",
            "Var2                               0\n",
            "Var3                               0\n",
            "Gender                             0\n",
            "Surge_Pricing_Type                 0\n",
            "dtype: int64\n"
          ]
        }
      ],
      "source": [
        "print(train.isna().sum())"
      ]
    },
    {
      "cell_type": "code",
      "execution_count": 8,
      "metadata": {
        "cellView": "both",
        "id": "EuzENU9R2YTY"
      },
      "outputs": [
        {
          "name": "stdout",
          "output_type": "stream",
          "text": [
            "Trip_ID                            0\n",
            "Trip_Distance                      0\n",
            "Type_of_Cab                    13158\n",
            "Customer_Since_Months           3966\n",
            "Life_Style_Index               13327\n",
            "Confidence_Life_Style_Index    13327\n",
            "Destination_Type                   0\n",
            "Customer_Rating                    0\n",
            "Cancellation_Last_1Month           0\n",
            "Var1                           46789\n",
            "Var2                               0\n",
            "Var3                               0\n",
            "Gender                             0\n",
            "dtype: int64\n"
          ]
        }
      ],
      "source": [
        "print(test.isna().sum())"
      ]
    },
    {
      "cell_type": "code",
      "execution_count": 9,
      "metadata": {
        "id": "rd1NZA8fhLnw"
      },
      "outputs": [
        {
          "data": {
            "text/html": [
              "<div>\n",
              "<style scoped>\n",
              "    .dataframe tbody tr th:only-of-type {\n",
              "        vertical-align: middle;\n",
              "    }\n",
              "\n",
              "    .dataframe tbody tr th {\n",
              "        vertical-align: top;\n",
              "    }\n",
              "\n",
              "    .dataframe thead th {\n",
              "        text-align: right;\n",
              "    }\n",
              "</style>\n",
              "<table border=\"1\" class=\"dataframe\">\n",
              "  <thead>\n",
              "    <tr style=\"text-align: right;\">\n",
              "      <th></th>\n",
              "      <th>Trip_Distance</th>\n",
              "      <th>Customer_Since_Months</th>\n",
              "      <th>Life_Style_Index</th>\n",
              "      <th>Customer_Rating</th>\n",
              "      <th>Cancellation_Last_1Month</th>\n",
              "      <th>Var1</th>\n",
              "      <th>Var2</th>\n",
              "      <th>Var3</th>\n",
              "      <th>Surge_Pricing_Type</th>\n",
              "    </tr>\n",
              "  </thead>\n",
              "  <tbody>\n",
              "    <tr>\n",
              "      <th>count</th>\n",
              "      <td>131662.000000</td>\n",
              "      <td>125742.000000</td>\n",
              "      <td>111469.000000</td>\n",
              "      <td>131662.000000</td>\n",
              "      <td>131662.000000</td>\n",
              "      <td>60632.000000</td>\n",
              "      <td>131662.000000</td>\n",
              "      <td>131662.000000</td>\n",
              "      <td>131662.000000</td>\n",
              "    </tr>\n",
              "    <tr>\n",
              "      <th>mean</th>\n",
              "      <td>44.200909</td>\n",
              "      <td>6.016661</td>\n",
              "      <td>2.802064</td>\n",
              "      <td>2.849458</td>\n",
              "      <td>0.782838</td>\n",
              "      <td>64.202698</td>\n",
              "      <td>51.202800</td>\n",
              "      <td>75.099019</td>\n",
              "      <td>2.155747</td>\n",
              "    </tr>\n",
              "    <tr>\n",
              "      <th>std</th>\n",
              "      <td>25.522882</td>\n",
              "      <td>3.626887</td>\n",
              "      <td>0.225796</td>\n",
              "      <td>0.980675</td>\n",
              "      <td>1.037559</td>\n",
              "      <td>21.820447</td>\n",
              "      <td>4.986142</td>\n",
              "      <td>11.578278</td>\n",
              "      <td>0.738164</td>\n",
              "    </tr>\n",
              "    <tr>\n",
              "      <th>min</th>\n",
              "      <td>0.310000</td>\n",
              "      <td>0.000000</td>\n",
              "      <td>1.596380</td>\n",
              "      <td>0.001250</td>\n",
              "      <td>0.000000</td>\n",
              "      <td>30.000000</td>\n",
              "      <td>40.000000</td>\n",
              "      <td>52.000000</td>\n",
              "      <td>1.000000</td>\n",
              "    </tr>\n",
              "    <tr>\n",
              "      <th>25%</th>\n",
              "      <td>24.580000</td>\n",
              "      <td>3.000000</td>\n",
              "      <td>2.654730</td>\n",
              "      <td>2.152500</td>\n",
              "      <td>0.000000</td>\n",
              "      <td>46.000000</td>\n",
              "      <td>48.000000</td>\n",
              "      <td>67.000000</td>\n",
              "      <td>2.000000</td>\n",
              "    </tr>\n",
              "    <tr>\n",
              "      <th>50%</th>\n",
              "      <td>38.200000</td>\n",
              "      <td>6.000000</td>\n",
              "      <td>2.798050</td>\n",
              "      <td>2.895000</td>\n",
              "      <td>0.000000</td>\n",
              "      <td>61.000000</td>\n",
              "      <td>50.000000</td>\n",
              "      <td>74.000000</td>\n",
              "      <td>2.000000</td>\n",
              "    </tr>\n",
              "    <tr>\n",
              "      <th>75%</th>\n",
              "      <td>60.730000</td>\n",
              "      <td>10.000000</td>\n",
              "      <td>2.946780</td>\n",
              "      <td>3.582500</td>\n",
              "      <td>1.000000</td>\n",
              "      <td>80.000000</td>\n",
              "      <td>54.000000</td>\n",
              "      <td>82.000000</td>\n",
              "      <td>3.000000</td>\n",
              "    </tr>\n",
              "    <tr>\n",
              "      <th>max</th>\n",
              "      <td>109.230000</td>\n",
              "      <td>10.000000</td>\n",
              "      <td>4.875110</td>\n",
              "      <td>5.000000</td>\n",
              "      <td>8.000000</td>\n",
              "      <td>210.000000</td>\n",
              "      <td>124.000000</td>\n",
              "      <td>206.000000</td>\n",
              "      <td>3.000000</td>\n",
              "    </tr>\n",
              "  </tbody>\n",
              "</table>\n",
              "</div>"
            ],
            "text/plain": [
              "       Trip_Distance  Customer_Since_Months  Life_Style_Index  \\\n",
              "count  131662.000000          125742.000000     111469.000000   \n",
              "mean       44.200909               6.016661          2.802064   \n",
              "std        25.522882               3.626887          0.225796   \n",
              "min         0.310000               0.000000          1.596380   \n",
              "25%        24.580000               3.000000          2.654730   \n",
              "50%        38.200000               6.000000          2.798050   \n",
              "75%        60.730000              10.000000          2.946780   \n",
              "max       109.230000              10.000000          4.875110   \n",
              "\n",
              "       Customer_Rating  Cancellation_Last_1Month          Var1           Var2  \\\n",
              "count    131662.000000             131662.000000  60632.000000  131662.000000   \n",
              "mean          2.849458                  0.782838     64.202698      51.202800   \n",
              "std           0.980675                  1.037559     21.820447       4.986142   \n",
              "min           0.001250                  0.000000     30.000000      40.000000   \n",
              "25%           2.152500                  0.000000     46.000000      48.000000   \n",
              "50%           2.895000                  0.000000     61.000000      50.000000   \n",
              "75%           3.582500                  1.000000     80.000000      54.000000   \n",
              "max           5.000000                  8.000000    210.000000     124.000000   \n",
              "\n",
              "                Var3  Surge_Pricing_Type  \n",
              "count  131662.000000       131662.000000  \n",
              "mean       75.099019            2.155747  \n",
              "std        11.578278            0.738164  \n",
              "min        52.000000            1.000000  \n",
              "25%        67.000000            2.000000  \n",
              "50%        74.000000            2.000000  \n",
              "75%        82.000000            3.000000  \n",
              "max       206.000000            3.000000  "
            ]
          },
          "execution_count": 9,
          "metadata": {},
          "output_type": "execute_result"
        }
      ],
      "source": [
        "train.describe()"
      ]
    },
    {
      "cell_type": "code",
      "execution_count": 10,
      "metadata": {},
      "outputs": [
        {
          "data": {
            "text/html": [
              "<div>\n",
              "<style scoped>\n",
              "    .dataframe tbody tr th:only-of-type {\n",
              "        vertical-align: middle;\n",
              "    }\n",
              "\n",
              "    .dataframe tbody tr th {\n",
              "        vertical-align: top;\n",
              "    }\n",
              "\n",
              "    .dataframe thead th {\n",
              "        text-align: right;\n",
              "    }\n",
              "</style>\n",
              "<table border=\"1\" class=\"dataframe\">\n",
              "  <thead>\n",
              "    <tr style=\"text-align: right;\">\n",
              "      <th></th>\n",
              "      <th>Trip_ID</th>\n",
              "      <th>Type_of_Cab</th>\n",
              "      <th>Confidence_Life_Style_Index</th>\n",
              "      <th>Destination_Type</th>\n",
              "      <th>Gender</th>\n",
              "    </tr>\n",
              "  </thead>\n",
              "  <tbody>\n",
              "    <tr>\n",
              "      <th>0</th>\n",
              "      <td>T0005689460</td>\n",
              "      <td>B</td>\n",
              "      <td>A</td>\n",
              "      <td>A</td>\n",
              "      <td>Female</td>\n",
              "    </tr>\n",
              "    <tr>\n",
              "      <th>1</th>\n",
              "      <td>T0005689461</td>\n",
              "      <td>B</td>\n",
              "      <td>B</td>\n",
              "      <td>A</td>\n",
              "      <td>Male</td>\n",
              "    </tr>\n",
              "    <tr>\n",
              "      <th>2</th>\n",
              "      <td>T0005689464</td>\n",
              "      <td>NaN</td>\n",
              "      <td>NaN</td>\n",
              "      <td>E</td>\n",
              "      <td>Male</td>\n",
              "    </tr>\n",
              "    <tr>\n",
              "      <th>3</th>\n",
              "      <td>T0005689465</td>\n",
              "      <td>C</td>\n",
              "      <td>NaN</td>\n",
              "      <td>A</td>\n",
              "      <td>Male</td>\n",
              "    </tr>\n",
              "    <tr>\n",
              "      <th>4</th>\n",
              "      <td>T0005689467</td>\n",
              "      <td>C</td>\n",
              "      <td>B</td>\n",
              "      <td>A</td>\n",
              "      <td>Male</td>\n",
              "    </tr>\n",
              "    <tr>\n",
              "      <th>...</th>\n",
              "      <td>...</td>\n",
              "      <td>...</td>\n",
              "      <td>...</td>\n",
              "      <td>...</td>\n",
              "      <td>...</td>\n",
              "    </tr>\n",
              "    <tr>\n",
              "      <th>131657</th>\n",
              "      <td>T0005908509</td>\n",
              "      <td>D</td>\n",
              "      <td>A</td>\n",
              "      <td>A</td>\n",
              "      <td>Male</td>\n",
              "    </tr>\n",
              "    <tr>\n",
              "      <th>131658</th>\n",
              "      <td>T0005908510</td>\n",
              "      <td>C</td>\n",
              "      <td>C</td>\n",
              "      <td>A</td>\n",
              "      <td>Male</td>\n",
              "    </tr>\n",
              "    <tr>\n",
              "      <th>131659</th>\n",
              "      <td>T0005908512</td>\n",
              "      <td>C</td>\n",
              "      <td>B</td>\n",
              "      <td>A</td>\n",
              "      <td>Female</td>\n",
              "    </tr>\n",
              "    <tr>\n",
              "      <th>131660</th>\n",
              "      <td>T0005908513</td>\n",
              "      <td>B</td>\n",
              "      <td>A</td>\n",
              "      <td>B</td>\n",
              "      <td>Male</td>\n",
              "    </tr>\n",
              "    <tr>\n",
              "      <th>131661</th>\n",
              "      <td>T0005908514</td>\n",
              "      <td>A</td>\n",
              "      <td>A</td>\n",
              "      <td>E</td>\n",
              "      <td>Male</td>\n",
              "    </tr>\n",
              "  </tbody>\n",
              "</table>\n",
              "<p>131662 rows × 5 columns</p>\n",
              "</div>"
            ],
            "text/plain": [
              "            Trip_ID Type_of_Cab Confidence_Life_Style_Index Destination_Type  \\\n",
              "0       T0005689460           B                           A                A   \n",
              "1       T0005689461           B                           B                A   \n",
              "2       T0005689464         NaN                         NaN                E   \n",
              "3       T0005689465           C                         NaN                A   \n",
              "4       T0005689467           C                           B                A   \n",
              "...             ...         ...                         ...              ...   \n",
              "131657  T0005908509           D                           A                A   \n",
              "131658  T0005908510           C                           C                A   \n",
              "131659  T0005908512           C                           B                A   \n",
              "131660  T0005908513           B                           A                B   \n",
              "131661  T0005908514           A                           A                E   \n",
              "\n",
              "        Gender  \n",
              "0       Female  \n",
              "1         Male  \n",
              "2         Male  \n",
              "3         Male  \n",
              "4         Male  \n",
              "...        ...  \n",
              "131657    Male  \n",
              "131658    Male  \n",
              "131659  Female  \n",
              "131660    Male  \n",
              "131661    Male  \n",
              "\n",
              "[131662 rows x 5 columns]"
            ]
          },
          "execution_count": 10,
          "metadata": {},
          "output_type": "execute_result"
        }
      ],
      "source": [
        "train.select_dtypes(include=['object'])"
      ]
    },
    {
      "cell_type": "code",
      "execution_count": 11,
      "metadata": {
        "id": "nrUInklhO4EU"
      },
      "outputs": [
        {
          "data": {
            "text/plain": [
              "<matplotlib.axes._subplots.AxesSubplot at 0x1285f62e0>"
            ]
          },
          "execution_count": 11,
          "metadata": {},
          "output_type": "execute_result"
        },
        {
          "data": {
            "image/png": "[encoded data removed]",
            "text/plain": [
              "<Figure size 432x288 with 1 Axes>"
            ]
          },
          "metadata": {
            "needs_background": "light"
          },
          "output_type": "display_data"
        }
      ],
      "source": [
        "sns.boxplot(x='Customer_Since_Months',data=train,color='red')"
      ]
    },
    {
      "cell_type": "code",
      "execution_count": 12,
      "metadata": {
        "id": "ZYcAGhpaPSG3"
      },
      "outputs": [
        {
          "data": {
            "text/plain": [
              "<matplotlib.axes._subplots.AxesSubplot at 0x1286a7af0>"
            ]
          },
          "execution_count": 12,
          "metadata": {},
          "output_type": "execute_result"
        },
        {
          "data": {
            "image/png": "[encoded data removed]",
            "text/plain": [
              "<Figure size 432x288 with 1 Axes>"
            ]
          },
          "metadata": {
            "needs_background": "light"
          },
          "output_type": "display_data"
        }
      ],
      "source": [
        "sns.boxplot(x='Life_Style_Index',data=train,color='red')"
      ]
    },
    {
      "cell_type": "code",
      "execution_count": 13,
      "metadata": {
        "id": "vlrj_JFoPUXv"
      },
      "outputs": [
        {
          "data": {
            "text/plain": [
              "<matplotlib.axes._subplots.AxesSubplot at 0x1286fb9a0>"
            ]
          },
          "execution_count": 13,
          "metadata": {},
          "output_type": "execute_result"
        },
        {
          "data": {
            "image/png": "[encoded data removed]",
            "text/plain": [
              "<Figure size 432x288 with 1 Axes>"
            ]
          },
          "metadata": {
            "needs_background": "light"
          },
          "output_type": "display_data"
        }
      ],
      "source": [
        "sns.boxplot(x='Var1',data=train,color='red')"
      ]
    },
    {
      "cell_type": "code",
      "execution_count": 14,
      "metadata": {},
      "outputs": [
        {
          "name": "stdout",
          "output_type": "stream",
          "text": [
            "Trip_ID                            0\n",
            "Trip_Distance                      0\n",
            "Type_of_Cab                    20210\n",
            "Customer_Since_Months           5920\n",
            "Life_Style_Index               20193\n",
            "Confidence_Life_Style_Index    20193\n",
            "Destination_Type                   0\n",
            "Customer_Rating                    0\n",
            "Cancellation_Last_1Month           0\n",
            "Var1                           71030\n",
            "Var2                               0\n",
            "Var3                               0\n",
            "Gender                             0\n",
            "Surge_Pricing_Type                 0\n",
            "dtype: int64\n"
          ]
        }
      ],
      "source": [
        "print(train.isna().sum())"
      ]
    },
    {
      "cell_type": "code",
      "execution_count": 15,
      "metadata": {},
      "outputs": [
        {
          "data": {
            "text/html": [
              "<div>\n",
              "<style scoped>\n",
              "    .dataframe tbody tr th:only-of-type {\n",
              "        vertical-align: middle;\n",
              "    }\n",
              "\n",
              "    .dataframe tbody tr th {\n",
              "        vertical-align: top;\n",
              "    }\n",
              "\n",
              "    .dataframe thead th {\n",
              "        text-align: right;\n",
              "    }\n",
              "</style>\n",
              "<table border=\"1\" class=\"dataframe\">\n",
              "  <thead>\n",
              "    <tr style=\"text-align: right;\">\n",
              "      <th></th>\n",
              "      <th>Trip_ID</th>\n",
              "      <th>Trip_Distance</th>\n",
              "      <th>Type_of_Cab</th>\n",
              "      <th>Customer_Since_Months</th>\n",
              "      <th>Life_Style_Index</th>\n",
              "      <th>Confidence_Life_Style_Index</th>\n",
              "      <th>Destination_Type</th>\n",
              "      <th>Customer_Rating</th>\n",
              "      <th>Cancellation_Last_1Month</th>\n",
              "      <th>Var1</th>\n",
              "      <th>Var2</th>\n",
              "      <th>Var3</th>\n",
              "      <th>Gender</th>\n",
              "      <th>Surge_Pricing_Type</th>\n",
              "    </tr>\n",
              "  </thead>\n",
              "  <tbody>\n",
              "    <tr>\n",
              "      <th>0</th>\n",
              "      <td>T0005689460</td>\n",
              "      <td>6.77</td>\n",
              "      <td>B</td>\n",
              "      <td>1.0</td>\n",
              "      <td>2.42769</td>\n",
              "      <td>A</td>\n",
              "      <td>A</td>\n",
              "      <td>3.90500</td>\n",
              "      <td>0</td>\n",
              "      <td>40.0</td>\n",
              "      <td>46</td>\n",
              "      <td>60</td>\n",
              "      <td>Female</td>\n",
              "      <td>2</td>\n",
              "    </tr>\n",
              "    <tr>\n",
              "      <th>1</th>\n",
              "      <td>T0005689461</td>\n",
              "      <td>29.47</td>\n",
              "      <td>B</td>\n",
              "      <td>10.0</td>\n",
              "      <td>2.78245</td>\n",
              "      <td>B</td>\n",
              "      <td>A</td>\n",
              "      <td>3.45000</td>\n",
              "      <td>0</td>\n",
              "      <td>38.0</td>\n",
              "      <td>56</td>\n",
              "      <td>78</td>\n",
              "      <td>Male</td>\n",
              "      <td>2</td>\n",
              "    </tr>\n",
              "    <tr>\n",
              "      <th>2</th>\n",
              "      <td>T0005689464</td>\n",
              "      <td>41.58</td>\n",
              "      <td>NaN</td>\n",
              "      <td>10.0</td>\n",
              "      <td>NaN</td>\n",
              "      <td>NaN</td>\n",
              "      <td>E</td>\n",
              "      <td>3.50125</td>\n",
              "      <td>2</td>\n",
              "      <td>NaN</td>\n",
              "      <td>56</td>\n",
              "      <td>77</td>\n",
              "      <td>Male</td>\n",
              "      <td>2</td>\n",
              "    </tr>\n",
              "    <tr>\n",
              "      <th>3</th>\n",
              "      <td>T0005689465</td>\n",
              "      <td>61.56</td>\n",
              "      <td>C</td>\n",
              "      <td>10.0</td>\n",
              "      <td>NaN</td>\n",
              "      <td>NaN</td>\n",
              "      <td>A</td>\n",
              "      <td>3.45375</td>\n",
              "      <td>0</td>\n",
              "      <td>NaN</td>\n",
              "      <td>52</td>\n",
              "      <td>74</td>\n",
              "      <td>Male</td>\n",
              "      <td>3</td>\n",
              "    </tr>\n",
              "    <tr>\n",
              "      <th>4</th>\n",
              "      <td>T0005689467</td>\n",
              "      <td>54.95</td>\n",
              "      <td>C</td>\n",
              "      <td>10.0</td>\n",
              "      <td>3.03453</td>\n",
              "      <td>B</td>\n",
              "      <td>A</td>\n",
              "      <td>3.40250</td>\n",
              "      <td>4</td>\n",
              "      <td>51.0</td>\n",
              "      <td>49</td>\n",
              "      <td>102</td>\n",
              "      <td>Male</td>\n",
              "      <td>2</td>\n",
              "    </tr>\n",
              "  </tbody>\n",
              "</table>\n",
              "</div>"
            ],
            "text/plain": [
              "       Trip_ID  Trip_Distance Type_of_Cab  Customer_Since_Months  \\\n",
              "0  T0005689460           6.77           B                    1.0   \n",
              "1  T0005689461          29.47           B                   10.0   \n",
              "2  T0005689464          41.58         NaN                   10.0   \n",
              "3  T0005689465          61.56           C                   10.0   \n",
              "4  T0005689467          54.95           C                   10.0   \n",
              "\n",
              "   Life_Style_Index Confidence_Life_Style_Index Destination_Type  \\\n",
              "0           2.42769                           A                A   \n",
              "1           2.78245                           B                A   \n",
              "2               NaN                         NaN                E   \n",
              "3               NaN                         NaN                A   \n",
              "4           3.03453                           B                A   \n",
              "\n",
              "   Customer_Rating  Cancellation_Last_1Month  Var1  Var2  Var3  Gender  \\\n",
              "0          3.90500                         0  40.0    46    60  Female   \n",
              "1          3.45000                         0  38.0    56    78    Male   \n",
              "2          3.50125                         2   NaN    56    77    Male   \n",
              "3          3.45375                         0   NaN    52    74    Male   \n",
              "4          3.40250                         4  51.0    49   102    Male   \n",
              "\n",
              "   Surge_Pricing_Type  \n",
              "0                   2  \n",
              "1                   2  \n",
              "2                   2  \n",
              "3                   3  \n",
              "4                   2  "
            ]
          },
          "execution_count": 15,
          "metadata": {},
          "output_type": "execute_result"
        }
      ],
      "source": [
        "train.head()"
      ]
    },
    {
      "cell_type": "code",
      "execution_count": 16,
      "metadata": {},
      "outputs": [
        {
          "data": {
            "text/plain": [
              "Cancellation_Last_1Month    0.185646\n",
              "Trip_Distance               0.135928\n",
              "Name: Surge_Pricing_Type, dtype: float64"
            ]
          },
          "execution_count": 16,
          "metadata": {},
          "output_type": "execute_result"
        }
      ],
      "source": [
        "df_num_corr = train.corr()['Surge_Pricing_Type'][:-1]\n",
        "features_list = df_num_corr[df_num_corr > 0.1].sort_values(ascending=False)\n",
        "features_list"
      ]
    },
    {
      "cell_type": "code",
      "execution_count": 17,
      "metadata": {},
      "outputs": [
        {
          "name": "stdout",
          "output_type": "stream",
          "text": [
            "     Customer_Rating: -0.155279271593299\n",
            "    Life_Style_Index: -0.08010768728632614\n",
            "                Var1: -0.040734761187583284\n",
            "                Var3: -0.039308573266452575\n",
            "                Var2: 0.0034367010185634675\n",
            "Customer_Since_Months: 0.02458993448151122\n",
            "Cancellation_Last_1Month: 0.10437538582106334\n",
            "       Trip_Distance: 0.13592839560015293\n"
          ]
        }
      ],
      "source": [
        "train_num = train.select_dtypes(include = ['float64', 'int64'])\n",
        "individual_features_df = []\n",
        "for i in range(0, len(train_num.columns) - 1):\n",
        "    tmpDf = train_num[[train_num.columns[i], 'Surge_Pricing_Type']]\n",
        "    tmpDf = tmpDf[tmpDf[train_num.columns[i]] != 0]\n",
        "    individual_features_df.append(tmpDf)\n",
        "\n",
        "all_correlations = {feature.columns[0]: feature.corr()['Surge_Pricing_Type'][0] for feature in individual_features_df}\n",
        "all_correlations = sorted(all_correlations.items(), key=operator.itemgetter(1))\n",
        "for (key, value) in all_correlations:\n",
        "    print(\"{:>20}: {:>5}\".format(key, value))"
      ]
    },
    {
      "cell_type": "code",
      "execution_count": 18,
      "metadata": {},
      "outputs": [
        {
          "data": {
            "text/plain": [
              "count    131662.000000\n",
              "mean          2.155747\n",
              "std           0.738164\n",
              "min           1.000000\n",
              "25%           2.000000\n",
              "50%           2.000000\n",
              "75%           3.000000\n",
              "max           3.000000\n",
              "Name: Surge_Pricing_Type, dtype: float64"
            ]
          },
          "execution_count": 18,
          "metadata": {},
          "output_type": "execute_result"
        }
      ],
      "source": [
        "train['Surge_Pricing_Type'].describe()"
      ]
    },
    {
      "cell_type": "code",
      "execution_count": 19,
      "metadata": {},
      "outputs": [
        {
          "data": {
            "image/png": "[encoded data removed]",
            "text/plain": [
              "<Figure size 1440x1440 with 9 Axes>"
            ]
          },
          "metadata": {
            "needs_background": "light"
          },
          "output_type": "display_data"
        }
      ],
      "source": [
        "train.hist(figsize=(20, 20), bins=50, xlabelsize=8, ylabelsize=8);"
      ]
    },
    {
      "cell_type": "code",
      "execution_count": 20,
      "metadata": {},
      "outputs": [
        {
          "data": {
            "image/png": "[encoded data removed]",
            "text/plain": [
              "<Figure size 864x720 with 2 Axes>"
            ]
          },
          "metadata": {
            "needs_background": "light"
          },
          "output_type": "display_data"
        }
      ],
      "source": [
        "corr = train.drop('Surge_Pricing_Type', axis=1).corr() \n",
        "plt.figure(figsize=(12, 10))\n",
        "\n",
        "sns.heatmap(corr, \n",
        "             vmax=1.0, vmin=-1.0, linewidths=0.1,\n",
        "            annot=True, annot_kws={\"size\": 8}, square=True);"
      ]
    },
    {
      "cell_type": "code",
      "execution_count": 21,
      "metadata": {},
      "outputs": [
        {
          "data": {
            "text/html": [
              "<div>\n",
              "<style scoped>\n",
              "    .dataframe tbody tr th:only-of-type {\n",
              "        vertical-align: middle;\n",
              "    }\n",
              "\n",
              "    .dataframe tbody tr th {\n",
              "        vertical-align: top;\n",
              "    }\n",
              "\n",
              "    .dataframe thead th {\n",
              "        text-align: right;\n",
              "    }\n",
              "</style>\n",
              "<table border=\"1\" class=\"dataframe\">\n",
              "  <thead>\n",
              "    <tr style=\"text-align: right;\">\n",
              "      <th></th>\n",
              "      <th>Trip_ID</th>\n",
              "      <th>Type_of_Cab</th>\n",
              "      <th>Confidence_Life_Style_Index</th>\n",
              "      <th>Destination_Type</th>\n",
              "      <th>Gender</th>\n",
              "      <th>Surge_Pricing_Type</th>\n",
              "    </tr>\n",
              "  </thead>\n",
              "  <tbody>\n",
              "    <tr>\n",
              "      <th>0</th>\n",
              "      <td>T0005689460</td>\n",
              "      <td>B</td>\n",
              "      <td>A</td>\n",
              "      <td>A</td>\n",
              "      <td>Female</td>\n",
              "      <td>2</td>\n",
              "    </tr>\n",
              "    <tr>\n",
              "      <th>1</th>\n",
              "      <td>T0005689461</td>\n",
              "      <td>B</td>\n",
              "      <td>B</td>\n",
              "      <td>A</td>\n",
              "      <td>Male</td>\n",
              "      <td>2</td>\n",
              "    </tr>\n",
              "    <tr>\n",
              "      <th>2</th>\n",
              "      <td>T0005689464</td>\n",
              "      <td>NaN</td>\n",
              "      <td>NaN</td>\n",
              "      <td>E</td>\n",
              "      <td>Male</td>\n",
              "      <td>2</td>\n",
              "    </tr>\n",
              "    <tr>\n",
              "      <th>3</th>\n",
              "      <td>T0005689465</td>\n",
              "      <td>C</td>\n",
              "      <td>NaN</td>\n",
              "      <td>A</td>\n",
              "      <td>Male</td>\n",
              "      <td>3</td>\n",
              "    </tr>\n",
              "    <tr>\n",
              "      <th>4</th>\n",
              "      <td>T0005689467</td>\n",
              "      <td>C</td>\n",
              "      <td>B</td>\n",
              "      <td>A</td>\n",
              "      <td>Male</td>\n",
              "      <td>2</td>\n",
              "    </tr>\n",
              "  </tbody>\n",
              "</table>\n",
              "</div>"
            ],
            "text/plain": [
              "       Trip_ID Type_of_Cab Confidence_Life_Style_Index Destination_Type  \\\n",
              "0  T0005689460           B                           A                A   \n",
              "1  T0005689461           B                           B                A   \n",
              "2  T0005689464         NaN                         NaN                E   \n",
              "3  T0005689465           C                         NaN                A   \n",
              "4  T0005689467           C                           B                A   \n",
              "\n",
              "   Gender  Surge_Pricing_Type  \n",
              "0  Female                   2  \n",
              "1    Male                   2  \n",
              "2    Male                   2  \n",
              "3    Male                   3  \n",
              "4    Male                   2  "
            ]
          },
          "execution_count": 21,
          "metadata": {},
          "output_type": "execute_result"
        }
      ],
      "source": [
        "train_categ_columns = list(train.select_dtypes(include=['object']))\n",
        "train_categ_columns.append('Surge_Pricing_Type')\n",
        "train_categ = train[train_categ_columns]\n",
        "train_categ.head()"
      ]
    },
    {
      "cell_type": "code",
      "execution_count": 22,
      "metadata": {},
      "outputs": [
        {
          "data": {
            "image/png": "[encoded data removed]",
            "text/plain": [
              "<Figure size 720x432 with 1 Axes>"
            ]
          },
          "metadata": {
            "needs_background": "light"
          },
          "output_type": "display_data"
        }
      ],
      "source": [
        "plt.figure(figsize = (10, 6));\n",
        "ax = sns.boxplot(x='Type_of_Cab', y='Surge_Pricing_Type', data=train_categ);\n",
        "plt.setp(ax.artists, alpha=.5, linewidth=2, edgecolor=\"k\");\n",
        "plt.xticks(rotation=45);"
      ]
    },
    {
      "cell_type": "code",
      "execution_count": 23,
      "metadata": {},
      "outputs": [
        {
          "data": {
            "image/png": "[encoded data removed]",
            "text/plain": [
              "<Figure size 720x432 with 1 Axes>"
            ]
          },
          "metadata": {
            "needs_background": "light"
          },
          "output_type": "display_data"
        }
      ],
      "source": [
        "plt.figure(figsize = (10, 6));\n",
        "ax = sns.boxplot(x='Confidence_Life_Style_Index', y='Surge_Pricing_Type', data=train_categ);\n",
        "plt.setp(ax.artists, alpha=.5, linewidth=2, edgecolor=\"k\");\n",
        "plt.xticks(rotation=45);"
      ]
    },
    {
      "cell_type": "code",
      "execution_count": 24,
      "metadata": {},
      "outputs": [
        {
          "data": {
            "image/png": "[encoded data removed]",
            "text/plain": [
              "<Figure size 720x432 with 1 Axes>"
            ]
          },
          "metadata": {
            "needs_background": "light"
          },
          "output_type": "display_data"
        }
      ],
      "source": [
        "plt.figure(figsize = (10, 6));\n",
        "ax = sns.boxplot(x='Destination_Type', y='Surge_Pricing_Type', data=train_categ);\n",
        "plt.setp(ax.artists, alpha=.5, linewidth=2, edgecolor=\"k\");\n",
        "plt.xticks(rotation=45);"
      ]
    },
    {
      "cell_type": "code",
      "execution_count": 25,
      "metadata": {},
      "outputs": [
        {
          "data": {
            "image/png": "[encoded data removed]",
            "text/plain": [
              "<Figure size 720x432 with 1 Axes>"
            ]
          },
          "metadata": {
            "needs_background": "light"
          },
          "output_type": "display_data"
        }
      ],
      "source": [
        "plt.figure(figsize = (10, 6));\n",
        "ax = sns.boxplot(x='Gender', y='Surge_Pricing_Type', data=train_categ);\n",
        "plt.setp(ax.artists, alpha=.5, linewidth=2, edgecolor=\"k\");\n",
        "plt.xticks(rotation=45);"
      ]
    },
    {
      "cell_type": "code",
      "execution_count": 35,
      "metadata": {},
      "outputs": [
        {
          "data": {
            "image/png": "[encoded data removed]",
            "text/plain": [
              "<Figure size 1080x1080 with 6 Axes>"
            ]
          },
          "metadata": {
            "needs_background": "light"
          },
          "output_type": "display_data"
        }
      ],
      "source": [
        "fig, axes = plt.subplots(round(len(train_categ.columns) / 3), 3, figsize=(15, 15))\n",
        "\n",
        "for i, ax in enumerate(fig.axes):\n",
        "    if i < len(train_categ.columns):\n",
        "        ax.set_xticklabels(ax.xaxis.get_majorticklabels(), rotation=45)\n",
        "        sns.countplot(x=train_categ.columns[i], alpha=0.7, data=train_categ, ax=ax)\n",
        "\n",
        "fig.tight_layout()"
      ]
    },
    {
      "cell_type": "markdown",
      "metadata": {
        "id": "XZw3LTbbhoGR"
      },
      "source": [
        "## Treatment of NA Values (Can try more things)"
      ]
    },
    {
      "cell_type": "code",
      "execution_count": 26,
      "metadata": {
        "id": "0-bhAlJv2n95"
      },
      "outputs": [],
      "source": [
        "#treating NA values\n",
        "train['Type_of_Cab'].fillna(\"B\", inplace=True)\n",
        "test['Type_of_Cab'].fillna(\"B\", inplace=True)\n",
        "\n",
        "train['Confidence_Life_Style_Index'].fillna(\"B\", inplace=True)\n",
        "test['Confidence_Life_Style_Index'].fillna(\"B\", inplace=True)\n",
        "\n",
        "for col in ['Customer_Since_Months','Var1']:\n",
        "    train[col].fillna(train[col].median(), inplace = True)\n",
        "for col in ['Customer_Since_Months','Var1']:\n",
        "    test[col].fillna(test[col].median(), inplace = True)\n",
        "\n",
        "train['Var1']=train['Var1'].astype('int')\n",
        "test['Var1']=test['Var1'].astype('int')\n",
        "\n",
        "train['Life_Style_Index'].fillna(train['Life_Style_Index'].mean(), inplace = True)\n",
        "test['Life_Style_Index'].fillna(test['Life_Style_Index'].mean(), inplace = True)\n",
        "\n",
        "\n",
        "train['Customer_Since_Months']=train['Customer_Since_Months'].astype('int')\n",
        "test['Customer_Since_Months']=test['Customer_Since_Months'].astype('int')\n"
      ]
    },
    {
      "cell_type": "code",
      "execution_count": 27,
      "metadata": {
        "id": "Yk7tJkkgq3jz"
      },
      "outputs": [
        {
          "data": {
            "text/html": [
              "<div>\n",
              "<style scoped>\n",
              "    .dataframe tbody tr th:only-of-type {\n",
              "        vertical-align: middle;\n",
              "    }\n",
              "\n",
              "    .dataframe tbody tr th {\n",
              "        vertical-align: top;\n",
              "    }\n",
              "\n",
              "    .dataframe thead th {\n",
              "        text-align: right;\n",
              "    }\n",
              "</style>\n",
              "<table border=\"1\" class=\"dataframe\">\n",
              "  <thead>\n",
              "    <tr style=\"text-align: right;\">\n",
              "      <th></th>\n",
              "      <th>Trip_ID</th>\n",
              "      <th>Trip_Distance</th>\n",
              "      <th>Type_of_Cab</th>\n",
              "      <th>Customer_Since_Months</th>\n",
              "      <th>Life_Style_Index</th>\n",
              "      <th>Confidence_Life_Style_Index</th>\n",
              "      <th>Destination_Type</th>\n",
              "      <th>Customer_Rating</th>\n",
              "      <th>Cancellation_Last_1Month</th>\n",
              "      <th>Var1</th>\n",
              "      <th>Var2</th>\n",
              "      <th>Var3</th>\n",
              "      <th>Gender</th>\n",
              "      <th>Surge_Pricing_Type</th>\n",
              "    </tr>\n",
              "  </thead>\n",
              "  <tbody>\n",
              "    <tr>\n",
              "      <th>0</th>\n",
              "      <td>T0005689460</td>\n",
              "      <td>6.77</td>\n",
              "      <td>B</td>\n",
              "      <td>1</td>\n",
              "      <td>2.427690</td>\n",
              "      <td>A</td>\n",
              "      <td>A</td>\n",
              "      <td>3.90500</td>\n",
              "      <td>0</td>\n",
              "      <td>40</td>\n",
              "      <td>46</td>\n",
              "      <td>60</td>\n",
              "      <td>Female</td>\n",
              "      <td>2</td>\n",
              "    </tr>\n",
              "    <tr>\n",
              "      <th>1</th>\n",
              "      <td>T0005689461</td>\n",
              "      <td>29.47</td>\n",
              "      <td>B</td>\n",
              "      <td>10</td>\n",
              "      <td>2.782450</td>\n",
              "      <td>B</td>\n",
              "      <td>A</td>\n",
              "      <td>3.45000</td>\n",
              "      <td>0</td>\n",
              "      <td>38</td>\n",
              "      <td>56</td>\n",
              "      <td>78</td>\n",
              "      <td>Male</td>\n",
              "      <td>2</td>\n",
              "    </tr>\n",
              "    <tr>\n",
              "      <th>2</th>\n",
              "      <td>T0005689464</td>\n",
              "      <td>41.58</td>\n",
              "      <td>B</td>\n",
              "      <td>10</td>\n",
              "      <td>2.802064</td>\n",
              "      <td>B</td>\n",
              "      <td>E</td>\n",
              "      <td>3.50125</td>\n",
              "      <td>2</td>\n",
              "      <td>61</td>\n",
              "      <td>56</td>\n",
              "      <td>77</td>\n",
              "      <td>Male</td>\n",
              "      <td>2</td>\n",
              "    </tr>\n",
              "    <tr>\n",
              "      <th>3</th>\n",
              "      <td>T0005689465</td>\n",
              "      <td>61.56</td>\n",
              "      <td>C</td>\n",
              "      <td>10</td>\n",
              "      <td>2.802064</td>\n",
              "      <td>B</td>\n",
              "      <td>A</td>\n",
              "      <td>3.45375</td>\n",
              "      <td>0</td>\n",
              "      <td>61</td>\n",
              "      <td>52</td>\n",
              "      <td>74</td>\n",
              "      <td>Male</td>\n",
              "      <td>3</td>\n",
              "    </tr>\n",
              "    <tr>\n",
              "      <th>4</th>\n",
              "      <td>T0005689467</td>\n",
              "      <td>54.95</td>\n",
              "      <td>C</td>\n",
              "      <td>10</td>\n",
              "      <td>3.034530</td>\n",
              "      <td>B</td>\n",
              "      <td>A</td>\n",
              "      <td>3.40250</td>\n",
              "      <td>4</td>\n",
              "      <td>51</td>\n",
              "      <td>49</td>\n",
              "      <td>102</td>\n",
              "      <td>Male</td>\n",
              "      <td>2</td>\n",
              "    </tr>\n",
              "  </tbody>\n",
              "</table>\n",
              "</div>"
            ],
            "text/plain": [
              "       Trip_ID  Trip_Distance Type_of_Cab  Customer_Since_Months  \\\n",
              "0  T0005689460           6.77           B                      1   \n",
              "1  T0005689461          29.47           B                     10   \n",
              "2  T0005689464          41.58           B                     10   \n",
              "3  T0005689465          61.56           C                     10   \n",
              "4  T0005689467          54.95           C                     10   \n",
              "\n",
              "   Life_Style_Index Confidence_Life_Style_Index Destination_Type  \\\n",
              "0          2.427690                           A                A   \n",
              "1          2.782450                           B                A   \n",
              "2          2.802064                           B                E   \n",
              "3          2.802064                           B                A   \n",
              "4          3.034530                           B                A   \n",
              "\n",
              "   Customer_Rating  Cancellation_Last_1Month  Var1  Var2  Var3  Gender  \\\n",
              "0          3.90500                         0    40    46    60  Female   \n",
              "1          3.45000                         0    38    56    78    Male   \n",
              "2          3.50125                         2    61    56    77    Male   \n",
              "3          3.45375                         0    61    52    74    Male   \n",
              "4          3.40250                         4    51    49   102    Male   \n",
              "\n",
              "   Surge_Pricing_Type  \n",
              "0                   2  \n",
              "1                   2  \n",
              "2                   2  \n",
              "3                   3  \n",
              "4                   2  "
            ]
          },
          "execution_count": 27,
          "metadata": {},
          "output_type": "execute_result"
        }
      ],
      "source": [
        "train.head()"
      ]
    },
    {
      "cell_type": "code",
      "execution_count": 28,
      "metadata": {
        "id": "iTx4Xlg0sjZR"
      },
      "outputs": [
        {
          "data": {
            "text/html": [
              "<div>\n",
              "<style scoped>\n",
              "    .dataframe tbody tr th:only-of-type {\n",
              "        vertical-align: middle;\n",
              "    }\n",
              "\n",
              "    .dataframe tbody tr th {\n",
              "        vertical-align: top;\n",
              "    }\n",
              "\n",
              "    .dataframe thead th {\n",
              "        text-align: right;\n",
              "    }\n",
              "</style>\n",
              "<table border=\"1\" class=\"dataframe\">\n",
              "  <thead>\n",
              "    <tr style=\"text-align: right;\">\n",
              "      <th></th>\n",
              "      <th>Trip_ID</th>\n",
              "      <th>Trip_Distance</th>\n",
              "      <th>Type_of_Cab</th>\n",
              "      <th>Customer_Since_Months</th>\n",
              "      <th>Life_Style_Index</th>\n",
              "      <th>Confidence_Life_Style_Index</th>\n",
              "      <th>Destination_Type</th>\n",
              "      <th>Customer_Rating</th>\n",
              "      <th>Cancellation_Last_1Month</th>\n",
              "      <th>Var1</th>\n",
              "      <th>Var2</th>\n",
              "      <th>Var3</th>\n",
              "      <th>Gender</th>\n",
              "    </tr>\n",
              "  </thead>\n",
              "  <tbody>\n",
              "    <tr>\n",
              "      <th>0</th>\n",
              "      <td>T0005689459</td>\n",
              "      <td>9.44</td>\n",
              "      <td>A</td>\n",
              "      <td>10</td>\n",
              "      <td>2.57438</td>\n",
              "      <td>A</td>\n",
              "      <td>B</td>\n",
              "      <td>3.68000</td>\n",
              "      <td>2</td>\n",
              "      <td>61</td>\n",
              "      <td>46</td>\n",
              "      <td>63</td>\n",
              "      <td>Male</td>\n",
              "    </tr>\n",
              "    <tr>\n",
              "      <th>1</th>\n",
              "      <td>T0005689462</td>\n",
              "      <td>32.15</td>\n",
              "      <td>B</td>\n",
              "      <td>10</td>\n",
              "      <td>2.85143</td>\n",
              "      <td>A</td>\n",
              "      <td>A</td>\n",
              "      <td>1.59375</td>\n",
              "      <td>0</td>\n",
              "      <td>65</td>\n",
              "      <td>49</td>\n",
              "      <td>80</td>\n",
              "      <td>Female</td>\n",
              "    </tr>\n",
              "    <tr>\n",
              "      <th>2</th>\n",
              "      <td>T0005689463</td>\n",
              "      <td>10.38</td>\n",
              "      <td>C</td>\n",
              "      <td>4</td>\n",
              "      <td>2.70530</td>\n",
              "      <td>A</td>\n",
              "      <td>D</td>\n",
              "      <td>4.50500</td>\n",
              "      <td>0</td>\n",
              "      <td>61</td>\n",
              "      <td>47</td>\n",
              "      <td>74</td>\n",
              "      <td>Male</td>\n",
              "    </tr>\n",
              "    <tr>\n",
              "      <th>3</th>\n",
              "      <td>T0005689466</td>\n",
              "      <td>14.94</td>\n",
              "      <td>B</td>\n",
              "      <td>6</td>\n",
              "      <td>2.48159</td>\n",
              "      <td>C</td>\n",
              "      <td>E</td>\n",
              "      <td>4.53000</td>\n",
              "      <td>0</td>\n",
              "      <td>63</td>\n",
              "      <td>43</td>\n",
              "      <td>54</td>\n",
              "      <td>Male</td>\n",
              "    </tr>\n",
              "    <tr>\n",
              "      <th>4</th>\n",
              "      <td>T0005689468</td>\n",
              "      <td>32.03</td>\n",
              "      <td>B</td>\n",
              "      <td>7</td>\n",
              "      <td>2.81598</td>\n",
              "      <td>A</td>\n",
              "      <td>K</td>\n",
              "      <td>4.60125</td>\n",
              "      <td>3</td>\n",
              "      <td>96</td>\n",
              "      <td>44</td>\n",
              "      <td>56</td>\n",
              "      <td>Male</td>\n",
              "    </tr>\n",
              "  </tbody>\n",
              "</table>\n",
              "</div>"
            ],
            "text/plain": [
              "       Trip_ID  Trip_Distance Type_of_Cab  Customer_Since_Months  \\\n",
              "0  T0005689459           9.44           A                     10   \n",
              "1  T0005689462          32.15           B                     10   \n",
              "2  T0005689463          10.38           C                      4   \n",
              "3  T0005689466          14.94           B                      6   \n",
              "4  T0005689468          32.03           B                      7   \n",
              "\n",
              "   Life_Style_Index Confidence_Life_Style_Index Destination_Type  \\\n",
              "0           2.57438                           A                B   \n",
              "1           2.85143                           A                A   \n",
              "2           2.70530                           A                D   \n",
              "3           2.48159                           C                E   \n",
              "4           2.81598                           A                K   \n",
              "\n",
              "   Customer_Rating  Cancellation_Last_1Month  Var1  Var2  Var3  Gender  \n",
              "0          3.68000                         2    61    46    63    Male  \n",
              "1          1.59375                         0    65    49    80  Female  \n",
              "2          4.50500                         0    61    47    74    Male  \n",
              "3          4.53000                         0    63    43    54    Male  \n",
              "4          4.60125                         3    96    44    56    Male  "
            ]
          },
          "execution_count": 28,
          "metadata": {},
          "output_type": "execute_result"
        }
      ],
      "source": [
        "test.head()"
      ]
    },
    {
      "cell_type": "markdown",
      "metadata": {
        "id": "TQksEGQRhynv"
      },
      "source": [
        "### Label Encoding (We can decide if necessary or not)"
      ]
    },
    {
      "cell_type": "code",
      "execution_count": 29,
      "metadata": {
        "id": "t2q6jK0JRCGr"
      },
      "outputs": [
        {
          "data": {
            "text/plain": [
              "B    51346\n",
              "C    28122\n",
              "A    21569\n",
              "D    18991\n",
              "E    11634\n",
              "Name: Type_of_Cab, dtype: int64"
            ]
          },
          "execution_count": 29,
          "metadata": {},
          "output_type": "execute_result"
        }
      ],
      "source": [
        "train.Type_of_Cab.value_counts()"
      ]
    },
    {
      "cell_type": "code",
      "execution_count": 30,
      "metadata": {
        "id": "29IBbnuzRr-9"
      },
      "outputs": [
        {
          "data": {
            "text/html": [
              "<div>\n",
              "<style scoped>\n",
              "    .dataframe tbody tr th:only-of-type {\n",
              "        vertical-align: middle;\n",
              "    }\n",
              "\n",
              "    .dataframe tbody tr th {\n",
              "        vertical-align: top;\n",
              "    }\n",
              "\n",
              "    .dataframe thead th {\n",
              "        text-align: right;\n",
              "    }\n",
              "</style>\n",
              "<table border=\"1\" class=\"dataframe\">\n",
              "  <thead>\n",
              "    <tr style=\"text-align: right;\">\n",
              "      <th></th>\n",
              "      <th>Trip_ID</th>\n",
              "      <th>Trip_Distance</th>\n",
              "      <th>Type_of_Cab</th>\n",
              "      <th>Customer_Since_Months</th>\n",
              "      <th>Life_Style_Index</th>\n",
              "      <th>Confidence_Life_Style_Index</th>\n",
              "      <th>Destination_Type</th>\n",
              "      <th>Customer_Rating</th>\n",
              "      <th>Cancellation_Last_1Month</th>\n",
              "      <th>Var1</th>\n",
              "      <th>Var2</th>\n",
              "      <th>Var3</th>\n",
              "      <th>Gender</th>\n",
              "      <th>Surge_Pricing_Type</th>\n",
              "    </tr>\n",
              "  </thead>\n",
              "  <tbody>\n",
              "    <tr>\n",
              "      <th>0</th>\n",
              "      <td>T0005689460</td>\n",
              "      <td>6.77</td>\n",
              "      <td>1</td>\n",
              "      <td>1</td>\n",
              "      <td>2.427690</td>\n",
              "      <td>A</td>\n",
              "      <td>A</td>\n",
              "      <td>3.90500</td>\n",
              "      <td>0</td>\n",
              "      <td>40</td>\n",
              "      <td>46</td>\n",
              "      <td>60</td>\n",
              "      <td>Female</td>\n",
              "      <td>2</td>\n",
              "    </tr>\n",
              "    <tr>\n",
              "      <th>1</th>\n",
              "      <td>T0005689461</td>\n",
              "      <td>29.47</td>\n",
              "      <td>1</td>\n",
              "      <td>10</td>\n",
              "      <td>2.782450</td>\n",
              "      <td>B</td>\n",
              "      <td>A</td>\n",
              "      <td>3.45000</td>\n",
              "      <td>0</td>\n",
              "      <td>38</td>\n",
              "      <td>56</td>\n",
              "      <td>78</td>\n",
              "      <td>Male</td>\n",
              "      <td>2</td>\n",
              "    </tr>\n",
              "    <tr>\n",
              "      <th>2</th>\n",
              "      <td>T0005689464</td>\n",
              "      <td>41.58</td>\n",
              "      <td>1</td>\n",
              "      <td>10</td>\n",
              "      <td>2.802064</td>\n",
              "      <td>B</td>\n",
              "      <td>E</td>\n",
              "      <td>3.50125</td>\n",
              "      <td>2</td>\n",
              "      <td>61</td>\n",
              "      <td>56</td>\n",
              "      <td>77</td>\n",
              "      <td>Male</td>\n",
              "      <td>2</td>\n",
              "    </tr>\n",
              "    <tr>\n",
              "      <th>3</th>\n",
              "      <td>T0005689465</td>\n",
              "      <td>61.56</td>\n",
              "      <td>2</td>\n",
              "      <td>10</td>\n",
              "      <td>2.802064</td>\n",
              "      <td>B</td>\n",
              "      <td>A</td>\n",
              "      <td>3.45375</td>\n",
              "      <td>0</td>\n",
              "      <td>61</td>\n",
              "      <td>52</td>\n",
              "      <td>74</td>\n",
              "      <td>Male</td>\n",
              "      <td>3</td>\n",
              "    </tr>\n",
              "    <tr>\n",
              "      <th>4</th>\n",
              "      <td>T0005689467</td>\n",
              "      <td>54.95</td>\n",
              "      <td>2</td>\n",
              "      <td>10</td>\n",
              "      <td>3.034530</td>\n",
              "      <td>B</td>\n",
              "      <td>A</td>\n",
              "      <td>3.40250</td>\n",
              "      <td>4</td>\n",
              "      <td>51</td>\n",
              "      <td>49</td>\n",
              "      <td>102</td>\n",
              "      <td>Male</td>\n",
              "      <td>2</td>\n",
              "    </tr>\n",
              "    <tr>\n",
              "      <th>5</th>\n",
              "      <td>T0005689469</td>\n",
              "      <td>19.06</td>\n",
              "      <td>4</td>\n",
              "      <td>10</td>\n",
              "      <td>2.802064</td>\n",
              "      <td>B</td>\n",
              "      <td>A</td>\n",
              "      <td>2.59750</td>\n",
              "      <td>1</td>\n",
              "      <td>72</td>\n",
              "      <td>63</td>\n",
              "      <td>91</td>\n",
              "      <td>Male</td>\n",
              "      <td>3</td>\n",
              "    </tr>\n",
              "    <tr>\n",
              "      <th>6</th>\n",
              "      <td>T0005689470</td>\n",
              "      <td>29.72</td>\n",
              "      <td>4</td>\n",
              "      <td>10</td>\n",
              "      <td>2.839580</td>\n",
              "      <td>C</td>\n",
              "      <td>B</td>\n",
              "      <td>2.97500</td>\n",
              "      <td>1</td>\n",
              "      <td>83</td>\n",
              "      <td>50</td>\n",
              "      <td>75</td>\n",
              "      <td>Male</td>\n",
              "      <td>2</td>\n",
              "    </tr>\n",
              "    <tr>\n",
              "      <th>7</th>\n",
              "      <td>T0005689472</td>\n",
              "      <td>18.44</td>\n",
              "      <td>1</td>\n",
              "      <td>2</td>\n",
              "      <td>2.818710</td>\n",
              "      <td>B</td>\n",
              "      <td>A</td>\n",
              "      <td>3.58250</td>\n",
              "      <td>0</td>\n",
              "      <td>103</td>\n",
              "      <td>46</td>\n",
              "      <td>63</td>\n",
              "      <td>Male</td>\n",
              "      <td>2</td>\n",
              "    </tr>\n",
              "    <tr>\n",
              "      <th>8</th>\n",
              "      <td>T0005689473</td>\n",
              "      <td>106.80</td>\n",
              "      <td>2</td>\n",
              "      <td>3</td>\n",
              "      <td>2.802064</td>\n",
              "      <td>B</td>\n",
              "      <td>A</td>\n",
              "      <td>3.14625</td>\n",
              "      <td>0</td>\n",
              "      <td>61</td>\n",
              "      <td>58</td>\n",
              "      <td>92</td>\n",
              "      <td>Male</td>\n",
              "      <td>2</td>\n",
              "    </tr>\n",
              "    <tr>\n",
              "      <th>9</th>\n",
              "      <td>T0005689474</td>\n",
              "      <td>107.19</td>\n",
              "      <td>3</td>\n",
              "      <td>5</td>\n",
              "      <td>3.044670</td>\n",
              "      <td>B</td>\n",
              "      <td>A</td>\n",
              "      <td>2.44375</td>\n",
              "      <td>1</td>\n",
              "      <td>61</td>\n",
              "      <td>58</td>\n",
              "      <td>83</td>\n",
              "      <td>Male</td>\n",
              "      <td>3</td>\n",
              "    </tr>\n",
              "  </tbody>\n",
              "</table>\n",
              "</div>"
            ],
            "text/plain": [
              "       Trip_ID  Trip_Distance  Type_of_Cab  Customer_Since_Months  \\\n",
              "0  T0005689460           6.77            1                      1   \n",
              "1  T0005689461          29.47            1                     10   \n",
              "2  T0005689464          41.58            1                     10   \n",
              "3  T0005689465          61.56            2                     10   \n",
              "4  T0005689467          54.95            2                     10   \n",
              "5  T0005689469          19.06            4                     10   \n",
              "6  T0005689470          29.72            4                     10   \n",
              "7  T0005689472          18.44            1                      2   \n",
              "8  T0005689473         106.80            2                      3   \n",
              "9  T0005689474         107.19            3                      5   \n",
              "\n",
              "   Life_Style_Index Confidence_Life_Style_Index Destination_Type  \\\n",
              "0          2.427690                           A                A   \n",
              "1          2.782450                           B                A   \n",
              "2          2.802064                           B                E   \n",
              "3          2.802064                           B                A   \n",
              "4          3.034530                           B                A   \n",
              "5          2.802064                           B                A   \n",
              "6          2.839580                           C                B   \n",
              "7          2.818710                           B                A   \n",
              "8          2.802064                           B                A   \n",
              "9          3.044670                           B                A   \n",
              "\n",
              "   Customer_Rating  Cancellation_Last_1Month  Var1  Var2  Var3  Gender  \\\n",
              "0          3.90500                         0    40    46    60  Female   \n",
              "1          3.45000                         0    38    56    78    Male   \n",
              "2          3.50125                         2    61    56    77    Male   \n",
              "3          3.45375                         0    61    52    74    Male   \n",
              "4          3.40250                         4    51    49   102    Male   \n",
              "5          2.59750                         1    72    63    91    Male   \n",
              "6          2.97500                         1    83    50    75    Male   \n",
              "7          3.58250                         0   103    46    63    Male   \n",
              "8          3.14625                         0    61    58    92    Male   \n",
              "9          2.44375                         1    61    58    83    Male   \n",
              "\n",
              "   Surge_Pricing_Type  \n",
              "0                   2  \n",
              "1                   2  \n",
              "2                   2  \n",
              "3                   3  \n",
              "4                   2  \n",
              "5                   3  \n",
              "6                   2  \n",
              "7                   2  \n",
              "8                   2  \n",
              "9                   3  "
            ]
          },
          "execution_count": 30,
          "metadata": {},
          "output_type": "execute_result"
        }
      ],
      "source": [
        "'''train['Type_of_Cab']=train['Type_of_Cab'].replace(\"Unknown\",'0')\n",
        "train['Type_of_Cab']=train['Type_of_Cab'].replace(\"A\",'1')\n",
        "train['Type_of_Cab']=train['Type_of_Cab'].replace(\"B\",'2')\n",
        "train['Type_of_Cab']=train['Type_of_Cab'].replace(\"C\",'3')\n",
        "train['Type_of_Cab']=train['Type_of_Cab'].replace(\"D\",'4')\n",
        "train['Type_of_Cab']=train['Type_of_Cab'].replace(\"E\",'5')\n",
        "train['Type_of_Cab']=train['Type_of_Cab'].astype('int')\n",
        "\n",
        "test['Type_of_Cab']=test['Type_of_Cab'].replace(\"Unknown\",'0')\n",
        "test['Type_of_Cab']=test['Type_of_Cab'].replace(\"A\",'1')\n",
        "test['Type_of_Cab']=test['Type_of_Cab'].replace(\"B\",'2')\n",
        "test['Type_of_Cab']=test['Type_of_Cab'].replace(\"C\",'3')\n",
        "test['Type_of_Cab']=test['Type_of_Cab'].replace(\"D\",'4')\n",
        "test['Type_of_Cab']=test['Type_of_Cab'].replace(\"E\",'5')\n",
        "test['Type_of_Cab']=test['Type_of_Cab'].astype('int')\n",
        "'''\n",
        "le = LabelEncoder()\n",
        "trained_le = le.fit(train[\"Type_of_Cab\"])\n",
        "train[\"Type_of_Cab\"] = trained_le.transform(train[\"Type_of_Cab\"])\n",
        "test[\"Type_of_Cab\"] = trained_le.transform(test[\"Type_of_Cab\"])\n",
        "train.head(10)"
      ]
    },
    {
      "cell_type": "code",
      "execution_count": 31,
      "metadata": {
        "id": "jT2ZxFYSSDlK"
      },
      "outputs": [
        {
          "data": {
            "text/plain": [
              "B    60548\n",
              "C    35967\n",
              "A    35147\n",
              "Name: Confidence_Life_Style_Index, dtype: int64"
            ]
          },
          "execution_count": 31,
          "metadata": {},
          "output_type": "execute_result"
        }
      ],
      "source": [
        "train.Confidence_Life_Style_Index.value_counts()"
      ]
    },
    {
      "cell_type": "code",
      "execution_count": 32,
      "metadata": {
        "id": "61QZCG7JSeF1"
      },
      "outputs": [
        {
          "data": {
            "text/html": [
              "<div>\n",
              "<style scoped>\n",
              "    .dataframe tbody tr th:only-of-type {\n",
              "        vertical-align: middle;\n",
              "    }\n",
              "\n",
              "    .dataframe tbody tr th {\n",
              "        vertical-align: top;\n",
              "    }\n",
              "\n",
              "    .dataframe thead th {\n",
              "        text-align: right;\n",
              "    }\n",
              "</style>\n",
              "<table border=\"1\" class=\"dataframe\">\n",
              "  <thead>\n",
              "    <tr style=\"text-align: right;\">\n",
              "      <th></th>\n",
              "      <th>Trip_ID</th>\n",
              "      <th>Trip_Distance</th>\n",
              "      <th>Type_of_Cab</th>\n",
              "      <th>Customer_Since_Months</th>\n",
              "      <th>Life_Style_Index</th>\n",
              "      <th>Confidence_Life_Style_Index</th>\n",
              "      <th>Destination_Type</th>\n",
              "      <th>Customer_Rating</th>\n",
              "      <th>Cancellation_Last_1Month</th>\n",
              "      <th>Var1</th>\n",
              "      <th>Var2</th>\n",
              "      <th>Var3</th>\n",
              "      <th>Gender</th>\n",
              "      <th>Surge_Pricing_Type</th>\n",
              "    </tr>\n",
              "  </thead>\n",
              "  <tbody>\n",
              "    <tr>\n",
              "      <th>0</th>\n",
              "      <td>T0005689460</td>\n",
              "      <td>6.77</td>\n",
              "      <td>1</td>\n",
              "      <td>1</td>\n",
              "      <td>2.427690</td>\n",
              "      <td>0</td>\n",
              "      <td>A</td>\n",
              "      <td>3.90500</td>\n",
              "      <td>0</td>\n",
              "      <td>40</td>\n",
              "      <td>46</td>\n",
              "      <td>60</td>\n",
              "      <td>Female</td>\n",
              "      <td>2</td>\n",
              "    </tr>\n",
              "    <tr>\n",
              "      <th>1</th>\n",
              "      <td>T0005689461</td>\n",
              "      <td>29.47</td>\n",
              "      <td>1</td>\n",
              "      <td>10</td>\n",
              "      <td>2.782450</td>\n",
              "      <td>1</td>\n",
              "      <td>A</td>\n",
              "      <td>3.45000</td>\n",
              "      <td>0</td>\n",
              "      <td>38</td>\n",
              "      <td>56</td>\n",
              "      <td>78</td>\n",
              "      <td>Male</td>\n",
              "      <td>2</td>\n",
              "    </tr>\n",
              "    <tr>\n",
              "      <th>2</th>\n",
              "      <td>T0005689464</td>\n",
              "      <td>41.58</td>\n",
              "      <td>1</td>\n",
              "      <td>10</td>\n",
              "      <td>2.802064</td>\n",
              "      <td>1</td>\n",
              "      <td>E</td>\n",
              "      <td>3.50125</td>\n",
              "      <td>2</td>\n",
              "      <td>61</td>\n",
              "      <td>56</td>\n",
              "      <td>77</td>\n",
              "      <td>Male</td>\n",
              "      <td>2</td>\n",
              "    </tr>\n",
              "    <tr>\n",
              "      <th>3</th>\n",
              "      <td>T0005689465</td>\n",
              "      <td>61.56</td>\n",
              "      <td>2</td>\n",
              "      <td>10</td>\n",
              "      <td>2.802064</td>\n",
              "      <td>1</td>\n",
              "      <td>A</td>\n",
              "      <td>3.45375</td>\n",
              "      <td>0</td>\n",
              "      <td>61</td>\n",
              "      <td>52</td>\n",
              "      <td>74</td>\n",
              "      <td>Male</td>\n",
              "      <td>3</td>\n",
              "    </tr>\n",
              "    <tr>\n",
              "      <th>4</th>\n",
              "      <td>T0005689467</td>\n",
              "      <td>54.95</td>\n",
              "      <td>2</td>\n",
              "      <td>10</td>\n",
              "      <td>3.034530</td>\n",
              "      <td>1</td>\n",
              "      <td>A</td>\n",
              "      <td>3.40250</td>\n",
              "      <td>4</td>\n",
              "      <td>51</td>\n",
              "      <td>49</td>\n",
              "      <td>102</td>\n",
              "      <td>Male</td>\n",
              "      <td>2</td>\n",
              "    </tr>\n",
              "    <tr>\n",
              "      <th>5</th>\n",
              "      <td>T0005689469</td>\n",
              "      <td>19.06</td>\n",
              "      <td>4</td>\n",
              "      <td>10</td>\n",
              "      <td>2.802064</td>\n",
              "      <td>1</td>\n",
              "      <td>A</td>\n",
              "      <td>2.59750</td>\n",
              "      <td>1</td>\n",
              "      <td>72</td>\n",
              "      <td>63</td>\n",
              "      <td>91</td>\n",
              "      <td>Male</td>\n",
              "      <td>3</td>\n",
              "    </tr>\n",
              "    <tr>\n",
              "      <th>6</th>\n",
              "      <td>T0005689470</td>\n",
              "      <td>29.72</td>\n",
              "      <td>4</td>\n",
              "      <td>10</td>\n",
              "      <td>2.839580</td>\n",
              "      <td>2</td>\n",
              "      <td>B</td>\n",
              "      <td>2.97500</td>\n",
              "      <td>1</td>\n",
              "      <td>83</td>\n",
              "      <td>50</td>\n",
              "      <td>75</td>\n",
              "      <td>Male</td>\n",
              "      <td>2</td>\n",
              "    </tr>\n",
              "    <tr>\n",
              "      <th>7</th>\n",
              "      <td>T0005689472</td>\n",
              "      <td>18.44</td>\n",
              "      <td>1</td>\n",
              "      <td>2</td>\n",
              "      <td>2.818710</td>\n",
              "      <td>1</td>\n",
              "      <td>A</td>\n",
              "      <td>3.58250</td>\n",
              "      <td>0</td>\n",
              "      <td>103</td>\n",
              "      <td>46</td>\n",
              "      <td>63</td>\n",
              "      <td>Male</td>\n",
              "      <td>2</td>\n",
              "    </tr>\n",
              "    <tr>\n",
              "      <th>8</th>\n",
              "      <td>T0005689473</td>\n",
              "      <td>106.80</td>\n",
              "      <td>2</td>\n",
              "      <td>3</td>\n",
              "      <td>2.802064</td>\n",
              "      <td>1</td>\n",
              "      <td>A</td>\n",
              "      <td>3.14625</td>\n",
              "      <td>0</td>\n",
              "      <td>61</td>\n",
              "      <td>58</td>\n",
              "      <td>92</td>\n",
              "      <td>Male</td>\n",
              "      <td>2</td>\n",
              "    </tr>\n",
              "    <tr>\n",
              "      <th>9</th>\n",
              "      <td>T0005689474</td>\n",
              "      <td>107.19</td>\n",
              "      <td>3</td>\n",
              "      <td>5</td>\n",
              "      <td>3.044670</td>\n",
              "      <td>1</td>\n",
              "      <td>A</td>\n",
              "      <td>2.44375</td>\n",
              "      <td>1</td>\n",
              "      <td>61</td>\n",
              "      <td>58</td>\n",
              "      <td>83</td>\n",
              "      <td>Male</td>\n",
              "      <td>3</td>\n",
              "    </tr>\n",
              "  </tbody>\n",
              "</table>\n",
              "</div>"
            ],
            "text/plain": [
              "       Trip_ID  Trip_Distance  Type_of_Cab  Customer_Since_Months  \\\n",
              "0  T0005689460           6.77            1                      1   \n",
              "1  T0005689461          29.47            1                     10   \n",
              "2  T0005689464          41.58            1                     10   \n",
              "3  T0005689465          61.56            2                     10   \n",
              "4  T0005689467          54.95            2                     10   \n",
              "5  T0005689469          19.06            4                     10   \n",
              "6  T0005689470          29.72            4                     10   \n",
              "7  T0005689472          18.44            1                      2   \n",
              "8  T0005689473         106.80            2                      3   \n",
              "9  T0005689474         107.19            3                      5   \n",
              "\n",
              "   Life_Style_Index  Confidence_Life_Style_Index Destination_Type  \\\n",
              "0          2.427690                            0                A   \n",
              "1          2.782450                            1                A   \n",
              "2          2.802064                            1                E   \n",
              "3          2.802064                            1                A   \n",
              "4          3.034530                            1                A   \n",
              "5          2.802064                            1                A   \n",
              "6          2.839580                            2                B   \n",
              "7          2.818710                            1                A   \n",
              "8          2.802064                            1                A   \n",
              "9          3.044670                            1                A   \n",
              "\n",
              "   Customer_Rating  Cancellation_Last_1Month  Var1  Var2  Var3  Gender  \\\n",
              "0          3.90500                         0    40    46    60  Female   \n",
              "1          3.45000                         0    38    56    78    Male   \n",
              "2          3.50125                         2    61    56    77    Male   \n",
              "3          3.45375                         0    61    52    74    Male   \n",
              "4          3.40250                         4    51    49   102    Male   \n",
              "5          2.59750                         1    72    63    91    Male   \n",
              "6          2.97500                         1    83    50    75    Male   \n",
              "7          3.58250                         0   103    46    63    Male   \n",
              "8          3.14625                         0    61    58    92    Male   \n",
              "9          2.44375                         1    61    58    83    Male   \n",
              "\n",
              "   Surge_Pricing_Type  \n",
              "0                   2  \n",
              "1                   2  \n",
              "2                   2  \n",
              "3                   3  \n",
              "4                   2  \n",
              "5                   3  \n",
              "6                   2  \n",
              "7                   2  \n",
              "8                   2  \n",
              "9                   3  "
            ]
          },
          "execution_count": 32,
          "metadata": {},
          "output_type": "execute_result"
        }
      ],
      "source": [
        "'''train['Confidence_Life_Style_Index']=train['Confidence_Life_Style_Index'].replace(\"Unknown\",'0')\n",
        "train['Confidence_Life_Style_Index']=train['Confidence_Life_Style_Index'].replace(\"A\",'1')\n",
        "train['Confidence_Life_Style_Index']=train['Confidence_Life_Style_Index'].replace(\"B\",'2')\n",
        "train['Confidence_Life_Style_Index']=train['Confidence_Life_Style_Index'].replace(\"C\",'3')\n",
        "train['Confidence_Life_Style_Index']=train['Confidence_Life_Style_Index'].astype('int')\n",
        "\n",
        "test['Confidence_Life_Style_Index']=test['Confidence_Life_Style_Index'].replace(\"Unknown\",'0')\n",
        "test['Confidence_Life_Style_Index']=test['Confidence_Life_Style_Index'].replace(\"A\",'1')\n",
        "test['Confidence_Life_Style_Index']=test['Confidence_Life_Style_Index'].replace(\"B\",'2')\n",
        "test['Confidence_Life_Style_Index']=test['Confidence_Life_Style_Index'].replace(\"C\",'3')\n",
        "test['Confidence_Life_Style_Index']=test['Confidence_Life_Style_Index'].astype('int')'''\n",
        "\n",
        "le = LabelEncoder()\n",
        "trained_le = le.fit(train[\"Confidence_Life_Style_Index\"])\n",
        "train[\"Confidence_Life_Style_Index\"] = trained_le.transform(train[\"Confidence_Life_Style_Index\"])\n",
        "test[\"Confidence_Life_Style_Index\"] = trained_le.transform(test[\"Confidence_Life_Style_Index\"])\n",
        "train.head(10)"
      ]
    },
    {
      "cell_type": "code",
      "execution_count": 46,
      "metadata": {
        "id": "AtaGkDAzifvW"
      },
      "outputs": [
        {
          "data": {
            "text/plain": [
              "A    77597\n",
              "B    29555\n",
              "C     7484\n",
              "D     6588\n",
              "E     2717\n",
              "F     1950\n",
              "G     1489\n",
              "H     1260\n",
              "I      813\n",
              "J      695\n",
              "K      680\n",
              "L      643\n",
              "N       98\n",
              "M       93\n",
              "Name: Destination_Type, dtype: int64"
            ]
          },
          "execution_count": 46,
          "metadata": {},
          "output_type": "execute_result"
        }
      ],
      "source": [
        "train.Destination_Type.value_counts()"
      ]
    },
    {
      "cell_type": "code",
      "execution_count": 47,
      "metadata": {
        "id": "lbxWV5zqkmyc"
      },
      "outputs": [
        {
          "data": {
            "text/html": [
              "<div>\n",
              "<style scoped>\n",
              "    .dataframe tbody tr th:only-of-type {\n",
              "        vertical-align: middle;\n",
              "    }\n",
              "\n",
              "    .dataframe tbody tr th {\n",
              "        vertical-align: top;\n",
              "    }\n",
              "\n",
              "    .dataframe thead th {\n",
              "        text-align: right;\n",
              "    }\n",
              "</style>\n",
              "<table border=\"1\" class=\"dataframe\">\n",
              "  <thead>\n",
              "    <tr style=\"text-align: right;\">\n",
              "      <th></th>\n",
              "      <th>Trip_ID</th>\n",
              "      <th>Trip_Distance</th>\n",
              "      <th>Type_of_Cab</th>\n",
              "      <th>Customer_Since_Months</th>\n",
              "      <th>Life_Style_Index</th>\n",
              "      <th>Confidence_Life_Style_Index</th>\n",
              "      <th>Destination_Type</th>\n",
              "      <th>Customer_Rating</th>\n",
              "      <th>Cancellation_Last_1Month</th>\n",
              "      <th>Var1</th>\n",
              "      <th>Var2</th>\n",
              "      <th>Var3</th>\n",
              "      <th>Gender</th>\n",
              "      <th>Surge_Pricing_Type</th>\n",
              "    </tr>\n",
              "  </thead>\n",
              "  <tbody>\n",
              "    <tr>\n",
              "      <th>0</th>\n",
              "      <td>T0005689460</td>\n",
              "      <td>6.77</td>\n",
              "      <td>1</td>\n",
              "      <td>1</td>\n",
              "      <td>2.427690</td>\n",
              "      <td>0</td>\n",
              "      <td>0</td>\n",
              "      <td>3.90500</td>\n",
              "      <td>0</td>\n",
              "      <td>40</td>\n",
              "      <td>46</td>\n",
              "      <td>60</td>\n",
              "      <td>Female</td>\n",
              "      <td>2</td>\n",
              "    </tr>\n",
              "    <tr>\n",
              "      <th>1</th>\n",
              "      <td>T0005689461</td>\n",
              "      <td>29.47</td>\n",
              "      <td>1</td>\n",
              "      <td>10</td>\n",
              "      <td>2.782450</td>\n",
              "      <td>1</td>\n",
              "      <td>0</td>\n",
              "      <td>3.45000</td>\n",
              "      <td>0</td>\n",
              "      <td>38</td>\n",
              "      <td>56</td>\n",
              "      <td>78</td>\n",
              "      <td>Male</td>\n",
              "      <td>2</td>\n",
              "    </tr>\n",
              "    <tr>\n",
              "      <th>2</th>\n",
              "      <td>T0005689464</td>\n",
              "      <td>41.58</td>\n",
              "      <td>5</td>\n",
              "      <td>10</td>\n",
              "      <td>2.802064</td>\n",
              "      <td>3</td>\n",
              "      <td>4</td>\n",
              "      <td>3.50125</td>\n",
              "      <td>2</td>\n",
              "      <td>61</td>\n",
              "      <td>56</td>\n",
              "      <td>77</td>\n",
              "      <td>Male</td>\n",
              "      <td>2</td>\n",
              "    </tr>\n",
              "    <tr>\n",
              "      <th>3</th>\n",
              "      <td>T0005689465</td>\n",
              "      <td>61.56</td>\n",
              "      <td>2</td>\n",
              "      <td>10</td>\n",
              "      <td>2.802064</td>\n",
              "      <td>3</td>\n",
              "      <td>0</td>\n",
              "      <td>3.45375</td>\n",
              "      <td>0</td>\n",
              "      <td>61</td>\n",
              "      <td>52</td>\n",
              "      <td>74</td>\n",
              "      <td>Male</td>\n",
              "      <td>3</td>\n",
              "    </tr>\n",
              "    <tr>\n",
              "      <th>4</th>\n",
              "      <td>T0005689467</td>\n",
              "      <td>54.95</td>\n",
              "      <td>2</td>\n",
              "      <td>10</td>\n",
              "      <td>3.034530</td>\n",
              "      <td>1</td>\n",
              "      <td>0</td>\n",
              "      <td>3.40250</td>\n",
              "      <td>4</td>\n",
              "      <td>51</td>\n",
              "      <td>49</td>\n",
              "      <td>102</td>\n",
              "      <td>Male</td>\n",
              "      <td>2</td>\n",
              "    </tr>\n",
              "    <tr>\n",
              "      <th>5</th>\n",
              "      <td>T0005689469</td>\n",
              "      <td>19.06</td>\n",
              "      <td>4</td>\n",
              "      <td>10</td>\n",
              "      <td>2.802064</td>\n",
              "      <td>3</td>\n",
              "      <td>0</td>\n",
              "      <td>2.59750</td>\n",
              "      <td>1</td>\n",
              "      <td>72</td>\n",
              "      <td>63</td>\n",
              "      <td>91</td>\n",
              "      <td>Male</td>\n",
              "      <td>3</td>\n",
              "    </tr>\n",
              "    <tr>\n",
              "      <th>6</th>\n",
              "      <td>T0005689470</td>\n",
              "      <td>29.72</td>\n",
              "      <td>4</td>\n",
              "      <td>10</td>\n",
              "      <td>2.839580</td>\n",
              "      <td>2</td>\n",
              "      <td>1</td>\n",
              "      <td>2.97500</td>\n",
              "      <td>1</td>\n",
              "      <td>83</td>\n",
              "      <td>50</td>\n",
              "      <td>75</td>\n",
              "      <td>Male</td>\n",
              "      <td>2</td>\n",
              "    </tr>\n",
              "    <tr>\n",
              "      <th>7</th>\n",
              "      <td>T0005689472</td>\n",
              "      <td>18.44</td>\n",
              "      <td>1</td>\n",
              "      <td>2</td>\n",
              "      <td>2.818710</td>\n",
              "      <td>1</td>\n",
              "      <td>0</td>\n",
              "      <td>3.58250</td>\n",
              "      <td>0</td>\n",
              "      <td>103</td>\n",
              "      <td>46</td>\n",
              "      <td>63</td>\n",
              "      <td>Male</td>\n",
              "      <td>2</td>\n",
              "    </tr>\n",
              "    <tr>\n",
              "      <th>8</th>\n",
              "      <td>T0005689473</td>\n",
              "      <td>106.80</td>\n",
              "      <td>2</td>\n",
              "      <td>3</td>\n",
              "      <td>2.802064</td>\n",
              "      <td>3</td>\n",
              "      <td>0</td>\n",
              "      <td>3.14625</td>\n",
              "      <td>0</td>\n",
              "      <td>61</td>\n",
              "      <td>58</td>\n",
              "      <td>92</td>\n",
              "      <td>Male</td>\n",
              "      <td>2</td>\n",
              "    </tr>\n",
              "    <tr>\n",
              "      <th>9</th>\n",
              "      <td>T0005689474</td>\n",
              "      <td>107.19</td>\n",
              "      <td>3</td>\n",
              "      <td>5</td>\n",
              "      <td>3.044670</td>\n",
              "      <td>1</td>\n",
              "      <td>0</td>\n",
              "      <td>2.44375</td>\n",
              "      <td>1</td>\n",
              "      <td>61</td>\n",
              "      <td>58</td>\n",
              "      <td>83</td>\n",
              "      <td>Male</td>\n",
              "      <td>3</td>\n",
              "    </tr>\n",
              "  </tbody>\n",
              "</table>\n",
              "</div>"
            ],
            "text/plain": [
              "       Trip_ID  Trip_Distance  Type_of_Cab  Customer_Since_Months  \\\n",
              "0  T0005689460           6.77            1                      1   \n",
              "1  T0005689461          29.47            1                     10   \n",
              "2  T0005689464          41.58            5                     10   \n",
              "3  T0005689465          61.56            2                     10   \n",
              "4  T0005689467          54.95            2                     10   \n",
              "5  T0005689469          19.06            4                     10   \n",
              "6  T0005689470          29.72            4                     10   \n",
              "7  T0005689472          18.44            1                      2   \n",
              "8  T0005689473         106.80            2                      3   \n",
              "9  T0005689474         107.19            3                      5   \n",
              "\n",
              "   Life_Style_Index  Confidence_Life_Style_Index  Destination_Type  \\\n",
              "0          2.427690                            0                 0   \n",
              "1          2.782450                            1                 0   \n",
              "2          2.802064                            3                 4   \n",
              "3          2.802064                            3                 0   \n",
              "4          3.034530                            1                 0   \n",
              "5          2.802064                            3                 0   \n",
              "6          2.839580                            2                 1   \n",
              "7          2.818710                            1                 0   \n",
              "8          2.802064                            3                 0   \n",
              "9          3.044670                            1                 0   \n",
              "\n",
              "   Customer_Rating  Cancellation_Last_1Month  Var1  Var2  Var3  Gender  \\\n",
              "0          3.90500                         0    40    46    60  Female   \n",
              "1          3.45000                         0    38    56    78    Male   \n",
              "2          3.50125                         2    61    56    77    Male   \n",
              "3          3.45375                         0    61    52    74    Male   \n",
              "4          3.40250                         4    51    49   102    Male   \n",
              "5          2.59750                         1    72    63    91    Male   \n",
              "6          2.97500                         1    83    50    75    Male   \n",
              "7          3.58250                         0   103    46    63    Male   \n",
              "8          3.14625                         0    61    58    92    Male   \n",
              "9          2.44375                         1    61    58    83    Male   \n",
              "\n",
              "   Surge_Pricing_Type  \n",
              "0                   2  \n",
              "1                   2  \n",
              "2                   2  \n",
              "3                   3  \n",
              "4                   2  \n",
              "5                   3  \n",
              "6                   2  \n",
              "7                   2  \n",
              "8                   2  \n",
              "9                   3  "
            ]
          },
          "execution_count": 47,
          "metadata": {},
          "output_type": "execute_result"
        }
      ],
      "source": [
        "le = LabelEncoder()\n",
        "trained_le = le.fit(train[\"Destination_Type\"])\n",
        "train[\"Destination_Type\"] = trained_le.transform(train[\"Destination_Type\"])\n",
        "test[\"Destination_Type\"] = trained_le.transform(test[\"Destination_Type\"])\n",
        "train.head(10)"
      ]
    },
    {
      "cell_type": "code",
      "execution_count": 48,
      "metadata": {
        "id": "rKCvFYS7RCf4"
      },
      "outputs": [
        {
          "data": {
            "text/html": [
              "<div>\n",
              "<style scoped>\n",
              "    .dataframe tbody tr th:only-of-type {\n",
              "        vertical-align: middle;\n",
              "    }\n",
              "\n",
              "    .dataframe tbody tr th {\n",
              "        vertical-align: top;\n",
              "    }\n",
              "\n",
              "    .dataframe thead th {\n",
              "        text-align: right;\n",
              "    }\n",
              "</style>\n",
              "<table border=\"1\" class=\"dataframe\">\n",
              "  <thead>\n",
              "    <tr style=\"text-align: right;\">\n",
              "      <th></th>\n",
              "      <th>Trip_ID</th>\n",
              "      <th>Trip_Distance</th>\n",
              "      <th>Type_of_Cab</th>\n",
              "      <th>Customer_Since_Months</th>\n",
              "      <th>Life_Style_Index</th>\n",
              "      <th>Confidence_Life_Style_Index</th>\n",
              "      <th>Destination_Type</th>\n",
              "      <th>Customer_Rating</th>\n",
              "      <th>Cancellation_Last_1Month</th>\n",
              "      <th>Var1</th>\n",
              "      <th>Var2</th>\n",
              "      <th>Var3</th>\n",
              "      <th>Gender</th>\n",
              "      <th>Surge_Pricing_Type</th>\n",
              "    </tr>\n",
              "  </thead>\n",
              "  <tbody>\n",
              "    <tr>\n",
              "      <th>0</th>\n",
              "      <td>T0005689460</td>\n",
              "      <td>6.77</td>\n",
              "      <td>1</td>\n",
              "      <td>1</td>\n",
              "      <td>2.427690</td>\n",
              "      <td>0</td>\n",
              "      <td>0</td>\n",
              "      <td>3.90500</td>\n",
              "      <td>0</td>\n",
              "      <td>40</td>\n",
              "      <td>46</td>\n",
              "      <td>60</td>\n",
              "      <td>0</td>\n",
              "      <td>2</td>\n",
              "    </tr>\n",
              "    <tr>\n",
              "      <th>1</th>\n",
              "      <td>T0005689461</td>\n",
              "      <td>29.47</td>\n",
              "      <td>1</td>\n",
              "      <td>10</td>\n",
              "      <td>2.782450</td>\n",
              "      <td>1</td>\n",
              "      <td>0</td>\n",
              "      <td>3.45000</td>\n",
              "      <td>0</td>\n",
              "      <td>38</td>\n",
              "      <td>56</td>\n",
              "      <td>78</td>\n",
              "      <td>1</td>\n",
              "      <td>2</td>\n",
              "    </tr>\n",
              "    <tr>\n",
              "      <th>2</th>\n",
              "      <td>T0005689464</td>\n",
              "      <td>41.58</td>\n",
              "      <td>5</td>\n",
              "      <td>10</td>\n",
              "      <td>2.802064</td>\n",
              "      <td>3</td>\n",
              "      <td>4</td>\n",
              "      <td>3.50125</td>\n",
              "      <td>2</td>\n",
              "      <td>61</td>\n",
              "      <td>56</td>\n",
              "      <td>77</td>\n",
              "      <td>1</td>\n",
              "      <td>2</td>\n",
              "    </tr>\n",
              "    <tr>\n",
              "      <th>3</th>\n",
              "      <td>T0005689465</td>\n",
              "      <td>61.56</td>\n",
              "      <td>2</td>\n",
              "      <td>10</td>\n",
              "      <td>2.802064</td>\n",
              "      <td>3</td>\n",
              "      <td>0</td>\n",
              "      <td>3.45375</td>\n",
              "      <td>0</td>\n",
              "      <td>61</td>\n",
              "      <td>52</td>\n",
              "      <td>74</td>\n",
              "      <td>1</td>\n",
              "      <td>3</td>\n",
              "    </tr>\n",
              "    <tr>\n",
              "      <th>4</th>\n",
              "      <td>T0005689467</td>\n",
              "      <td>54.95</td>\n",
              "      <td>2</td>\n",
              "      <td>10</td>\n",
              "      <td>3.034530</td>\n",
              "      <td>1</td>\n",
              "      <td>0</td>\n",
              "      <td>3.40250</td>\n",
              "      <td>4</td>\n",
              "      <td>51</td>\n",
              "      <td>49</td>\n",
              "      <td>102</td>\n",
              "      <td>1</td>\n",
              "      <td>2</td>\n",
              "    </tr>\n",
              "    <tr>\n",
              "      <th>5</th>\n",
              "      <td>T0005689469</td>\n",
              "      <td>19.06</td>\n",
              "      <td>4</td>\n",
              "      <td>10</td>\n",
              "      <td>2.802064</td>\n",
              "      <td>3</td>\n",
              "      <td>0</td>\n",
              "      <td>2.59750</td>\n",
              "      <td>1</td>\n",
              "      <td>72</td>\n",
              "      <td>63</td>\n",
              "      <td>91</td>\n",
              "      <td>1</td>\n",
              "      <td>3</td>\n",
              "    </tr>\n",
              "    <tr>\n",
              "      <th>6</th>\n",
              "      <td>T0005689470</td>\n",
              "      <td>29.72</td>\n",
              "      <td>4</td>\n",
              "      <td>10</td>\n",
              "      <td>2.839580</td>\n",
              "      <td>2</td>\n",
              "      <td>1</td>\n",
              "      <td>2.97500</td>\n",
              "      <td>1</td>\n",
              "      <td>83</td>\n",
              "      <td>50</td>\n",
              "      <td>75</td>\n",
              "      <td>1</td>\n",
              "      <td>2</td>\n",
              "    </tr>\n",
              "    <tr>\n",
              "      <th>7</th>\n",
              "      <td>T0005689472</td>\n",
              "      <td>18.44</td>\n",
              "      <td>1</td>\n",
              "      <td>2</td>\n",
              "      <td>2.818710</td>\n",
              "      <td>1</td>\n",
              "      <td>0</td>\n",
              "      <td>3.58250</td>\n",
              "      <td>0</td>\n",
              "      <td>103</td>\n",
              "      <td>46</td>\n",
              "      <td>63</td>\n",
              "      <td>1</td>\n",
              "      <td>2</td>\n",
              "    </tr>\n",
              "    <tr>\n",
              "      <th>8</th>\n",
              "      <td>T0005689473</td>\n",
              "      <td>106.80</td>\n",
              "      <td>2</td>\n",
              "      <td>3</td>\n",
              "      <td>2.802064</td>\n",
              "      <td>3</td>\n",
              "      <td>0</td>\n",
              "      <td>3.14625</td>\n",
              "      <td>0</td>\n",
              "      <td>61</td>\n",
              "      <td>58</td>\n",
              "      <td>92</td>\n",
              "      <td>1</td>\n",
              "      <td>2</td>\n",
              "    </tr>\n",
              "    <tr>\n",
              "      <th>9</th>\n",
              "      <td>T0005689474</td>\n",
              "      <td>107.19</td>\n",
              "      <td>3</td>\n",
              "      <td>5</td>\n",
              "      <td>3.044670</td>\n",
              "      <td>1</td>\n",
              "      <td>0</td>\n",
              "      <td>2.44375</td>\n",
              "      <td>1</td>\n",
              "      <td>61</td>\n",
              "      <td>58</td>\n",
              "      <td>83</td>\n",
              "      <td>1</td>\n",
              "      <td>3</td>\n",
              "    </tr>\n",
              "  </tbody>\n",
              "</table>\n",
              "</div>"
            ],
            "text/plain": [
              "       Trip_ID  Trip_Distance  Type_of_Cab  Customer_Since_Months  \\\n",
              "0  T0005689460           6.77            1                      1   \n",
              "1  T0005689461          29.47            1                     10   \n",
              "2  T0005689464          41.58            5                     10   \n",
              "3  T0005689465          61.56            2                     10   \n",
              "4  T0005689467          54.95            2                     10   \n",
              "5  T0005689469          19.06            4                     10   \n",
              "6  T0005689470          29.72            4                     10   \n",
              "7  T0005689472          18.44            1                      2   \n",
              "8  T0005689473         106.80            2                      3   \n",
              "9  T0005689474         107.19            3                      5   \n",
              "\n",
              "   Life_Style_Index  Confidence_Life_Style_Index  Destination_Type  \\\n",
              "0          2.427690                            0                 0   \n",
              "1          2.782450                            1                 0   \n",
              "2          2.802064                            3                 4   \n",
              "3          2.802064                            3                 0   \n",
              "4          3.034530                            1                 0   \n",
              "5          2.802064                            3                 0   \n",
              "6          2.839580                            2                 1   \n",
              "7          2.818710                            1                 0   \n",
              "8          2.802064                            3                 0   \n",
              "9          3.044670                            1                 0   \n",
              "\n",
              "   Customer_Rating  Cancellation_Last_1Month  Var1  Var2  Var3  Gender  \\\n",
              "0          3.90500                         0    40    46    60       0   \n",
              "1          3.45000                         0    38    56    78       1   \n",
              "2          3.50125                         2    61    56    77       1   \n",
              "3          3.45375                         0    61    52    74       1   \n",
              "4          3.40250                         4    51    49   102       1   \n",
              "5          2.59750                         1    72    63    91       1   \n",
              "6          2.97500                         1    83    50    75       1   \n",
              "7          3.58250                         0   103    46    63       1   \n",
              "8          3.14625                         0    61    58    92       1   \n",
              "9          2.44375                         1    61    58    83       1   \n",
              "\n",
              "   Surge_Pricing_Type  \n",
              "0                   2  \n",
              "1                   2  \n",
              "2                   2  \n",
              "3                   3  \n",
              "4                   2  \n",
              "5                   3  \n",
              "6                   2  \n",
              "7                   2  \n",
              "8                   2  \n",
              "9                   3  "
            ]
          },
          "execution_count": 48,
          "metadata": {},
          "output_type": "execute_result"
        }
      ],
      "source": [
        "le = LabelEncoder()\n",
        "trained_le = le.fit(train[\"Gender\"])\n",
        "train[\"Gender\"] = trained_le.transform(train[\"Gender\"])\n",
        "test[\"Gender\"] = trained_le.transform(test[\"Gender\"])\n",
        "train.head(10)"
      ]
    },
    {
      "cell_type": "code",
      "execution_count": 49,
      "metadata": {
        "id": "N2K5biHrUOXB"
      },
      "outputs": [
        {
          "data": {
            "text/plain": [
              "Trip_ID                         object\n",
              "Trip_Distance                  float64\n",
              "Type_of_Cab                      int64\n",
              "Customer_Since_Months            int64\n",
              "Life_Style_Index               float64\n",
              "Confidence_Life_Style_Index      int64\n",
              "Destination_Type                 int64\n",
              "Customer_Rating                float64\n",
              "Cancellation_Last_1Month         int64\n",
              "Var1                             int64\n",
              "Var2                             int64\n",
              "Var3                             int64\n",
              "Gender                           int64\n",
              "Surge_Pricing_Type               int64\n",
              "dtype: object"
            ]
          },
          "execution_count": 49,
          "metadata": {},
          "output_type": "execute_result"
        }
      ],
      "source": [
        "train.dtypes"
      ]
    },
    {
      "cell_type": "code",
      "execution_count": 50,
      "metadata": {
        "id": "ioIRo5N6wMw2"
      },
      "outputs": [
        {
          "data": {
            "text/html": [
              "<div>\n",
              "<style scoped>\n",
              "    .dataframe tbody tr th:only-of-type {\n",
              "        vertical-align: middle;\n",
              "    }\n",
              "\n",
              "    .dataframe tbody tr th {\n",
              "        vertical-align: top;\n",
              "    }\n",
              "\n",
              "    .dataframe thead th {\n",
              "        text-align: right;\n",
              "    }\n",
              "</style>\n",
              "<table border=\"1\" class=\"dataframe\">\n",
              "  <thead>\n",
              "    <tr style=\"text-align: right;\">\n",
              "      <th></th>\n",
              "      <th>Trip_ID</th>\n",
              "      <th>Trip_Distance</th>\n",
              "      <th>Type_of_Cab</th>\n",
              "      <th>Customer_Since_Months</th>\n",
              "      <th>Life_Style_Index</th>\n",
              "      <th>Confidence_Life_Style_Index</th>\n",
              "      <th>Destination_Type</th>\n",
              "      <th>Customer_Rating</th>\n",
              "      <th>Cancellation_Last_1Month</th>\n",
              "      <th>Var1</th>\n",
              "      <th>Var2</th>\n",
              "      <th>Var3</th>\n",
              "      <th>Gender</th>\n",
              "      <th>Surge_Pricing_Type</th>\n",
              "    </tr>\n",
              "  </thead>\n",
              "  <tbody>\n",
              "    <tr>\n",
              "      <th>0</th>\n",
              "      <td>T0005689460</td>\n",
              "      <td>6.77</td>\n",
              "      <td>1</td>\n",
              "      <td>1</td>\n",
              "      <td>2.427690</td>\n",
              "      <td>0</td>\n",
              "      <td>0</td>\n",
              "      <td>3.90500</td>\n",
              "      <td>0</td>\n",
              "      <td>40</td>\n",
              "      <td>46</td>\n",
              "      <td>60</td>\n",
              "      <td>0</td>\n",
              "      <td>2</td>\n",
              "    </tr>\n",
              "    <tr>\n",
              "      <th>1</th>\n",
              "      <td>T0005689461</td>\n",
              "      <td>29.47</td>\n",
              "      <td>1</td>\n",
              "      <td>10</td>\n",
              "      <td>2.782450</td>\n",
              "      <td>1</td>\n",
              "      <td>0</td>\n",
              "      <td>3.45000</td>\n",
              "      <td>0</td>\n",
              "      <td>38</td>\n",
              "      <td>56</td>\n",
              "      <td>78</td>\n",
              "      <td>1</td>\n",
              "      <td>2</td>\n",
              "    </tr>\n",
              "    <tr>\n",
              "      <th>2</th>\n",
              "      <td>T0005689464</td>\n",
              "      <td>41.58</td>\n",
              "      <td>5</td>\n",
              "      <td>10</td>\n",
              "      <td>2.802064</td>\n",
              "      <td>3</td>\n",
              "      <td>4</td>\n",
              "      <td>3.50125</td>\n",
              "      <td>2</td>\n",
              "      <td>61</td>\n",
              "      <td>56</td>\n",
              "      <td>77</td>\n",
              "      <td>1</td>\n",
              "      <td>2</td>\n",
              "    </tr>\n",
              "    <tr>\n",
              "      <th>3</th>\n",
              "      <td>T0005689465</td>\n",
              "      <td>61.56</td>\n",
              "      <td>2</td>\n",
              "      <td>10</td>\n",
              "      <td>2.802064</td>\n",
              "      <td>3</td>\n",
              "      <td>0</td>\n",
              "      <td>3.45375</td>\n",
              "      <td>0</td>\n",
              "      <td>61</td>\n",
              "      <td>52</td>\n",
              "      <td>74</td>\n",
              "      <td>1</td>\n",
              "      <td>3</td>\n",
              "    </tr>\n",
              "    <tr>\n",
              "      <th>4</th>\n",
              "      <td>T0005689467</td>\n",
              "      <td>54.95</td>\n",
              "      <td>2</td>\n",
              "      <td>10</td>\n",
              "      <td>3.034530</td>\n",
              "      <td>1</td>\n",
              "      <td>0</td>\n",
              "      <td>3.40250</td>\n",
              "      <td>4</td>\n",
              "      <td>51</td>\n",
              "      <td>49</td>\n",
              "      <td>102</td>\n",
              "      <td>1</td>\n",
              "      <td>2</td>\n",
              "    </tr>\n",
              "  </tbody>\n",
              "</table>\n",
              "</div>"
            ],
            "text/plain": [
              "       Trip_ID  Trip_Distance  Type_of_Cab  Customer_Since_Months  \\\n",
              "0  T0005689460           6.77            1                      1   \n",
              "1  T0005689461          29.47            1                     10   \n",
              "2  T0005689464          41.58            5                     10   \n",
              "3  T0005689465          61.56            2                     10   \n",
              "4  T0005689467          54.95            2                     10   \n",
              "\n",
              "   Life_Style_Index  Confidence_Life_Style_Index  Destination_Type  \\\n",
              "0          2.427690                            0                 0   \n",
              "1          2.782450                            1                 0   \n",
              "2          2.802064                            3                 4   \n",
              "3          2.802064                            3                 0   \n",
              "4          3.034530                            1                 0   \n",
              "\n",
              "   Customer_Rating  Cancellation_Last_1Month  Var1  Var2  Var3  Gender  \\\n",
              "0          3.90500                         0    40    46    60       0   \n",
              "1          3.45000                         0    38    56    78       1   \n",
              "2          3.50125                         2    61    56    77       1   \n",
              "3          3.45375                         0    61    52    74       1   \n",
              "4          3.40250                         4    51    49   102       1   \n",
              "\n",
              "   Surge_Pricing_Type  \n",
              "0                   2  \n",
              "1                   2  \n",
              "2                   2  \n",
              "3                   3  \n",
              "4                   2  "
            ]
          },
          "execution_count": 50,
          "metadata": {},
          "output_type": "execute_result"
        }
      ],
      "source": [
        "train.head()"
      ]
    },
    {
      "cell_type": "markdown",
      "metadata": {
        "id": "i-g_U5NuiLgO"
      },
      "source": [
        "### Model fitting (Need to try more stuff)"
      ]
    },
    {
      "cell_type": "code",
      "execution_count": 51,
      "metadata": {
        "id": "Fb4iuT6Szbd9"
      },
      "outputs": [],
      "source": [
        "X=train.drop([\"Surge_Pricing_Type\",\"Trip_ID\"],axis=1)\n",
        "y=train.Surge_Pricing_Type\n",
        "X_test=test.drop([\"Trip_ID\"],axis=1)\n",
        "Trip_ID=test.Trip_ID"
      ]
    },
    {
      "cell_type": "code",
      "execution_count": 52,
      "metadata": {
        "id": "BgZw-Rws3P2U"
      },
      "outputs": [
        {
          "data": {
            "text/plain": [
              "Text(0, 0.5, 'Frequency')"
            ]
          },
          "execution_count": 52,
          "metadata": {},
          "output_type": "execute_result"
        },
        {
          "data": {
            "image/png": "[encoded data removed]",
            "text/plain": [
              "<Figure size 432x288 with 1 Axes>"
            ]
          },
          "metadata": {
            "needs_background": "light"
          },
          "output_type": "display_data"
        }
      ],
      "source": [
        "frq = pd.value_counts(y, sort = True)\n",
        "frq.plot(kind = 'bar', rot=1)\n",
        "plt.xlabel(\"Class\")\n",
        "plt.ylabel(\"Frequency\")"
      ]
    },
    {
      "cell_type": "code",
      "execution_count": 53,
      "metadata": {
        "id": "n0X7NfE529ai"
      },
      "outputs": [],
      "source": [
        "#Smote splits the dataset evenly (Read documentation online)\n",
        "ss = SMOTE()\n",
        "X, y = ss.fit_resample(X, y)"
      ]
    },
    {
      "cell_type": "code",
      "execution_count": 54,
      "metadata": {
        "id": "TOgDu-Zp1DmG"
      },
      "outputs": [],
      "source": [
        "#Scaling of variables (Not sure if we need to do this)\n",
        "mm = MinMaxScaler()\n",
        "X = mm.fit_transform(X)\n",
        "X_test  = mm.transform(X_test)\n",
        "#y=np.array(y).reshape(y.shape[0],1)"
      ]
    },
    {
      "cell_type": "code",
      "execution_count": 55,
      "metadata": {
        "id": "o_AdHrZNBwmV"
      },
      "outputs": [
        {
          "data": {
            "text/plain": [
              "(87395, 12)"
            ]
          },
          "execution_count": 55,
          "metadata": {},
          "output_type": "execute_result"
        }
      ],
      "source": [
        "X_test.shape"
      ]
    },
    {
      "cell_type": "code",
      "execution_count": 56,
      "metadata": {
        "id": "bqGgeIE5N8_g"
      },
      "outputs": [
        {
          "data": {
            "image/png": "[encoded data removed]",
            "text/plain": [
              "<Figure size 1440x1440 with 2 Axes>"
            ]
          },
          "metadata": {
            "needs_background": "light"
          },
          "output_type": "display_data"
        }
      ],
      "source": [
        "corrmat = pd.DataFrame(X).corr()\n",
        "top_corr_features = corrmat.index\n",
        "plt.figure(figsize=(20,20))\n",
        "g=sns.heatmap(pd.DataFrame(X)[top_corr_features].corr(),annot=True,cmap=\"RdYlGn\")"
      ]
    },
    {
      "cell_type": "code",
      "execution_count": 57,
      "metadata": {
        "id": "O8CyCN3aKLnQ"
      },
      "outputs": [
        {
          "data": {
            "image/png": "[encoded data removed]",
            "text/plain": [
              "<Figure size 432x288 with 1 Axes>"
            ]
          },
          "metadata": {
            "needs_background": "light"
          },
          "output_type": "display_data"
        }
      ],
      "source": [
        "#Model 1 (Not doing this tho)\n",
        "model = ExtraTreesClassifier()\n",
        "model.fit(X,y)\n",
        "feat_importances = pd.Series(model.feature_importances_, index=pd.DataFrame(X).columns)\n",
        "feat_importances.plot(kind='barh')\n",
        "plt.show()"
      ]
    },
    {
      "cell_type": "code",
      "execution_count": 58,
      "metadata": {
        "id": "hskwKkmMVkMr"
      },
      "outputs": [
        {
          "data": {
            "text/plain": [
              "<matplotlib.axes._subplots.AxesSubplot at 0x122748a60>"
            ]
          },
          "execution_count": 58,
          "metadata": {},
          "output_type": "execute_result"
        },
        {
          "data": {
            "image/png": "[encoded data removed]",
            "text/plain": [
              "<Figure size 432x288 with 1 Axes>"
            ]
          },
          "metadata": {
            "needs_background": "light"
          },
          "output_type": "display_data"
        }
      ],
      "source": [
        "#Model 2 (LGBM is out of syllabus Cant do this)\n",
        "model=LGBMClassifier(max_depth=5,\n",
        "                       learning_rate=0.4, \n",
        "                       n_estimators=100)\n",
        "model.fit(X,y)\n",
        "lightgbm.plot_importance(model)"
      ]
    },
    {
      "cell_type": "markdown",
      "metadata": {
        "id": "BI3s68Ici655"
      },
      "source": [
        "###This is what I had submitted, We did a 5 Kfold split and fit model on the different splits. Using each model, we predicted the test set 5 times and took the mode of all the 5 predictions for each trip."
      ]
    },
    {
      "cell_type": "code",
      "execution_count": 59,
      "metadata": {
        "id": "Fg1MefR76Q2j"
      },
      "outputs": [
        {
          "name": "stderr",
          "output_type": "stream",
          "text": [
            "/usr/local/lib/python3.9/site-packages/lightgbm/sklearn.py:726: UserWarning: 'early_stopping_rounds' argument is deprecated and will be removed in a future release of LightGBM. Pass 'early_stopping()' callback via 'callbacks' argument instead.\n",
            "  _log_warning(\"'early_stopping_rounds' argument is deprecated and will be removed in a future release of LightGBM. \"\n",
            "/usr/local/lib/python3.9/site-packages/lightgbm/sklearn.py:736: UserWarning: 'verbose' argument is deprecated and will be removed in a future release of LightGBM. Pass 'log_evaluation()' callback via 'callbacks' argument instead.\n",
            "  _log_warning(\"'verbose' argument is deprecated and will be removed in a future release of LightGBM. \"\n"
          ]
        },
        {
          "name": "stdout",
          "output_type": "stream",
          "text": [
            "[200]\ttraining's multi_logloss: 0.650116\tvalid_1's multi_logloss: 0.723199\n",
            "[400]\ttraining's multi_logloss: 0.628114\tvalid_1's multi_logloss: 0.720073\n",
            "[600]\ttraining's multi_logloss: 0.613468\tvalid_1's multi_logloss: 0.719782\n",
            "acc_lgm:  0.6852249023121897\n"
          ]
        },
        {
          "name": "stderr",
          "output_type": "stream",
          "text": [
            "/usr/local/lib/python3.9/site-packages/lightgbm/sklearn.py:726: UserWarning: 'early_stopping_rounds' argument is deprecated and will be removed in a future release of LightGBM. Pass 'early_stopping()' callback via 'callbacks' argument instead.\n",
            "  _log_warning(\"'early_stopping_rounds' argument is deprecated and will be removed in a future release of LightGBM. \"\n",
            "/usr/local/lib/python3.9/site-packages/lightgbm/sklearn.py:736: UserWarning: 'verbose' argument is deprecated and will be removed in a future release of LightGBM. Pass 'log_evaluation()' callback via 'callbacks' argument instead.\n",
            "  _log_warning(\"'verbose' argument is deprecated and will be removed in a future release of LightGBM. \"\n"
          ]
        },
        {
          "name": "stdout",
          "output_type": "stream",
          "text": [
            "[200]\ttraining's multi_logloss: 0.650803\tvalid_1's multi_logloss: 0.720909\n",
            "[400]\ttraining's multi_logloss: 0.628533\tvalid_1's multi_logloss: 0.716705\n",
            "[600]\ttraining's multi_logloss: 0.613238\tvalid_1's multi_logloss: 0.715798\n",
            "[800]\ttraining's multi_logloss: 0.601114\tvalid_1's multi_logloss: 0.715805\n",
            "acc_lgm:  0.6852249023121897\n"
          ]
        },
        {
          "name": "stderr",
          "output_type": "stream",
          "text": [
            "/usr/local/lib/python3.9/site-packages/lightgbm/sklearn.py:726: UserWarning: 'early_stopping_rounds' argument is deprecated and will be removed in a future release of LightGBM. Pass 'early_stopping()' callback via 'callbacks' argument instead.\n",
            "  _log_warning(\"'early_stopping_rounds' argument is deprecated and will be removed in a future release of LightGBM. \"\n",
            "/usr/local/lib/python3.9/site-packages/lightgbm/sklearn.py:736: UserWarning: 'verbose' argument is deprecated and will be removed in a future release of LightGBM. Pass 'log_evaluation()' callback via 'callbacks' argument instead.\n",
            "  _log_warning(\"'verbose' argument is deprecated and will be removed in a future release of LightGBM. \"\n"
          ]
        },
        {
          "name": "stdout",
          "output_type": "stream",
          "text": [
            "[200]\ttraining's multi_logloss: 0.663286\tvalid_1's multi_logloss: 0.671845\n",
            "[400]\ttraining's multi_logloss: 0.642836\tvalid_1's multi_logloss: 0.663883\n",
            "[600]\ttraining's multi_logloss: 0.629198\tvalid_1's multi_logloss: 0.661367\n",
            "[800]\ttraining's multi_logloss: 0.61663\tvalid_1's multi_logloss: 0.660152\n",
            "[1000]\ttraining's multi_logloss: 0.604832\tvalid_1's multi_logloss: 0.659757\n",
            "[1200]\ttraining's multi_logloss: 0.594318\tvalid_1's multi_logloss: 0.659542\n",
            "acc_lgm:  0.7122543114845609\n"
          ]
        },
        {
          "name": "stderr",
          "output_type": "stream",
          "text": [
            "/usr/local/lib/python3.9/site-packages/lightgbm/sklearn.py:726: UserWarning: 'early_stopping_rounds' argument is deprecated and will be removed in a future release of LightGBM. Pass 'early_stopping()' callback via 'callbacks' argument instead.\n",
            "  _log_warning(\"'early_stopping_rounds' argument is deprecated and will be removed in a future release of LightGBM. \"\n",
            "/usr/local/lib/python3.9/site-packages/lightgbm/sklearn.py:736: UserWarning: 'verbose' argument is deprecated and will be removed in a future release of LightGBM. Pass 'log_evaluation()' callback via 'callbacks' argument instead.\n",
            "  _log_warning(\"'verbose' argument is deprecated and will be removed in a future release of LightGBM. \"\n"
          ]
        },
        {
          "name": "stdout",
          "output_type": "stream",
          "text": [
            "[200]\ttraining's multi_logloss: 0.672936\tvalid_1's multi_logloss: 0.639819\n",
            "[400]\ttraining's multi_logloss: 0.652612\tvalid_1's multi_logloss: 0.629097\n",
            "[600]\ttraining's multi_logloss: 0.639192\tvalid_1's multi_logloss: 0.625606\n",
            "[800]\ttraining's multi_logloss: 0.626879\tvalid_1's multi_logloss: 0.623574\n",
            "[1000]\ttraining's multi_logloss: 0.615549\tvalid_1's multi_logloss: 0.621548\n",
            "[1200]\ttraining's multi_logloss: 0.605345\tvalid_1's multi_logloss: 0.620153\n",
            "[1400]\ttraining's multi_logloss: 0.595628\tvalid_1's multi_logloss: 0.61909\n",
            "[1600]\ttraining's multi_logloss: 0.586212\tvalid_1's multi_logloss: 0.618367\n",
            "[1800]\ttraining's multi_logloss: 0.576683\tvalid_1's multi_logloss: 0.617784\n",
            "[2000]\ttraining's multi_logloss: 0.5683\tvalid_1's multi_logloss: 0.617437\n",
            "[2200]\ttraining's multi_logloss: 0.559717\tvalid_1's multi_logloss: 0.617079\n",
            "[2400]\ttraining's multi_logloss: 0.551893\tvalid_1's multi_logloss: 0.616685\n",
            "[2600]\ttraining's multi_logloss: 0.544207\tvalid_1's multi_logloss: 0.616541\n",
            "[2800]\ttraining's multi_logloss: 0.536499\tvalid_1's multi_logloss: 0.616399\n",
            "[3000]\ttraining's multi_logloss: 0.529118\tvalid_1's multi_logloss: 0.616351\n",
            "[3200]\ttraining's multi_logloss: 0.522143\tvalid_1's multi_logloss: 0.616175\n",
            "[3400]\ttraining's multi_logloss: 0.515059\tvalid_1's multi_logloss: 0.616122\n",
            "acc_lgm:  0.7360813232658577\n"
          ]
        },
        {
          "name": "stderr",
          "output_type": "stream",
          "text": [
            "/usr/local/lib/python3.9/site-packages/lightgbm/sklearn.py:726: UserWarning: 'early_stopping_rounds' argument is deprecated and will be removed in a future release of LightGBM. Pass 'early_stopping()' callback via 'callbacks' argument instead.\n",
            "  _log_warning(\"'early_stopping_rounds' argument is deprecated and will be removed in a future release of LightGBM. \"\n",
            "/usr/local/lib/python3.9/site-packages/lightgbm/sklearn.py:736: UserWarning: 'verbose' argument is deprecated and will be removed in a future release of LightGBM. Pass 'log_evaluation()' callback via 'callbacks' argument instead.\n",
            "  _log_warning(\"'verbose' argument is deprecated and will be removed in a future release of LightGBM. \"\n"
          ]
        },
        {
          "name": "stdout",
          "output_type": "stream",
          "text": [
            "[200]\ttraining's multi_logloss: 0.667669\tvalid_1's multi_logloss: 0.668535\n",
            "[400]\ttraining's multi_logloss: 0.647235\tvalid_1's multi_logloss: 0.65964\n",
            "[600]\ttraining's multi_logloss: 0.633624\tvalid_1's multi_logloss: 0.655528\n",
            "[800]\ttraining's multi_logloss: 0.622152\tvalid_1's multi_logloss: 0.652908\n",
            "[1000]\ttraining's multi_logloss: 0.611485\tvalid_1's multi_logloss: 0.651043\n",
            "[1200]\ttraining's multi_logloss: 0.601678\tvalid_1's multi_logloss: 0.649437\n",
            "[1400]\ttraining's multi_logloss: 0.592606\tvalid_1's multi_logloss: 0.648238\n",
            "[1600]\ttraining's multi_logloss: 0.583604\tvalid_1's multi_logloss: 0.647132\n",
            "[1800]\ttraining's multi_logloss: 0.574919\tvalid_1's multi_logloss: 0.646064\n",
            "[2000]\ttraining's multi_logloss: 0.566684\tvalid_1's multi_logloss: 0.645298\n",
            "[2200]\ttraining's multi_logloss: 0.558615\tvalid_1's multi_logloss: 0.644306\n",
            "[2400]\ttraining's multi_logloss: 0.550995\tvalid_1's multi_logloss: 0.643727\n",
            "[2600]\ttraining's multi_logloss: 0.543867\tvalid_1's multi_logloss: 0.643293\n",
            "[2800]\ttraining's multi_logloss: 0.536606\tvalid_1's multi_logloss: 0.642752\n",
            "[3000]\ttraining's multi_logloss: 0.529493\tvalid_1's multi_logloss: 0.642235\n",
            "[3200]\ttraining's multi_logloss: 0.522779\tvalid_1's multi_logloss: 0.641715\n",
            "[3400]\ttraining's multi_logloss: 0.516122\tvalid_1's multi_logloss: 0.641067\n",
            "[3600]\ttraining's multi_logloss: 0.509698\tvalid_1's multi_logloss: 0.64057\n",
            "[3800]\ttraining's multi_logloss: 0.502901\tvalid_1's multi_logloss: 0.639951\n",
            "[4000]\ttraining's multi_logloss: 0.496944\tvalid_1's multi_logloss: 0.639699\n",
            "[4200]\ttraining's multi_logloss: 0.490752\tvalid_1's multi_logloss: 0.639653\n",
            "[4400]\ttraining's multi_logloss: 0.484752\tvalid_1's multi_logloss: 0.639386\n",
            "[4600]\ttraining's multi_logloss: 0.479134\tvalid_1's multi_logloss: 0.639232\n",
            "[4800]\ttraining's multi_logloss: 0.473438\tvalid_1's multi_logloss: 0.639129\n",
            "[5000]\ttraining's multi_logloss: 0.467549\tvalid_1's multi_logloss: 0.639147\n",
            "acc_lgm:  0.7241450229169115\n"
          ]
        }
      ],
      "source": [
        "err = []\n",
        "y_pred_tot_lgm = []\n",
        "\n",
        "from sklearn.model_selection import StratifiedKFold\n",
        "\n",
        "fold = StratifiedKFold(n_splits=5)\n",
        "i = 1\n",
        "for train_index, test_index in fold.split(X, y):\n",
        "    x_train, x_val = pd.DataFrame(X).iloc[train_index], pd.DataFrame(X).iloc[test_index]\n",
        "    y_train, y_val = y[train_index], y[test_index]\n",
        "    m = LGBMClassifier(boosting_type='gbdt',\n",
        "                       max_depth=5,\n",
        "                       learning_rate=0.05,\n",
        "                       n_estimators=5000,\n",
        "                       min_child_weight=0.01,\n",
        "                       colsample_bytree=0.5,\n",
        "                       random_state=1994)\n",
        "    m.fit(x_train, y_train,\n",
        "          eval_set=[(x_train,y_train),(x_val, y_val)],\n",
        "          early_stopping_rounds=200,\n",
        "          verbose=200)\n",
        "    pred_y = m.predict(x_val)\n",
        "    print(\"acc_lgm: \",accuracy_score(y_val,pred_y))\n",
        "    err.append(accuracy_score(y_val,pred_y))\n",
        "    pred_test = m.predict(X_test)\n",
        "    i = i + 1\n",
        "    y_pred_tot_lgm.append(pred_test)\n"
      ]
    },
    {
      "cell_type": "code",
      "execution_count": 60,
      "metadata": {
        "id": "PgawMNfELusP"
      },
      "outputs": [
        {
          "ename": "FileNotFoundError",
          "evalue": "[Errno 2] No such file or directory: '/content/drive/My Drive/Colab Notebooks/last'",
          "output_type": "error",
          "traceback": [
            "\u001b[0;31m---------------------------------------------------------------------------\u001b[0m",
            "\u001b[0;31mFileNotFoundError\u001b[0m                         Traceback (most recent call last)",
            "\u001b[1;32m/Users/pavanirajula/Documents/UniversityOfMannheim/FirstSemester/Data Mining/Project/MobilityAnalytics_Hackathon.ipynb Cell 41'\u001b[0m in \u001b[0;36m<module>\u001b[0;34m\u001b[0m\n\u001b[0;32m----> <a href='vscode-notebook-cell:/Users/pavanirajula/Documents/UniversityOfMannheim/FirstSemester/Data%20Mining/Project/MobilityAnalytics_Hackathon.ipynb#ch0000040?line=0'>1</a>\u001b[0m os\u001b[39m.\u001b[39;49mchdir(\u001b[39m\"\u001b[39;49m\u001b[39m/content/drive/My Drive/Colab Notebooks/last\u001b[39;49m\u001b[39m\"\u001b[39;49m)\n",
            "\u001b[0;31mFileNotFoundError\u001b[0m: [Errno 2] No such file or directory: '/content/drive/My Drive/Colab Notebooks/last'"
          ]
        }
      ],
      "source": [
        "# os.chdir(\"/content/drive/My Drive/Colab Notebooks/last\")\n"
      ]
    },
    {
      "cell_type": "code",
      "execution_count": 61,
      "metadata": {
        "id": "S77RDq2RL1X0"
      },
      "outputs": [],
      "source": [
        "Trip_ID=np.array(Trip_ID)\n",
        "Trip_ID=Trip_ID.reshape(Trip_ID.shape[0],)\n"
      ]
    },
    {
      "cell_type": "code",
      "execution_count": 62,
      "metadata": {
        "id": "-NH8s753tR-K"
      },
      "outputs": [],
      "source": [
        "pred=np.array(y_pred_tot_lgm[0])\n",
        "filename = 'l1.csv'\n",
        "submission = pd.DataFrame({'Trip_ID': Trip_ID,'Surge_Pricing_Type':pred})\n",
        "pd.DataFrame(submission).to_csv(filename, index = False)"
      ]
    },
    {
      "cell_type": "code",
      "execution_count": 63,
      "metadata": {
        "id": "r2FHp35pFv6d"
      },
      "outputs": [],
      "source": [
        "\n",
        "pred=np.array(y_pred_tot_lgm[1])\n",
        "filename = 'l2.csv'\n",
        "submission = pd.DataFrame({'Trip_ID': Trip_ID,'Surge_Pricing_Type':pred})\n",
        "pd.DataFrame(submission).to_csv(filename, index = False)\n"
      ]
    },
    {
      "cell_type": "code",
      "execution_count": 64,
      "metadata": {
        "id": "c1J_daAzFyHi"
      },
      "outputs": [],
      "source": [
        "pred=np.array(y_pred_tot_lgm[2])\n",
        "filename = 'l3.csv'\n",
        "submission = pd.DataFrame({'Trip_ID': Trip_ID,'Surge_Pricing_Type':pred})\n",
        "pd.DataFrame(submission).to_csv(filename, index = False)"
      ]
    },
    {
      "cell_type": "code",
      "execution_count": 65,
      "metadata": {
        "id": "vIHLdDM5F1my"
      },
      "outputs": [],
      "source": [
        "pred=np.array(y_pred_tot_lgm[3])\n",
        "filename = 'l4.csv'\n",
        "submission = pd.DataFrame({'Trip_ID': Trip_ID,'Surge_Pricing_Type':pred})\n",
        "pd.DataFrame(submission).to_csv(filename, index = False)"
      ]
    },
    {
      "cell_type": "code",
      "execution_count": 66,
      "metadata": {
        "id": "hW_8zPuMF5Wx"
      },
      "outputs": [],
      "source": [
        "pred=np.array(y_pred_tot_lgm[4])\n",
        "filename = 'l5.csv'\n",
        "submission = pd.DataFrame({'Trip_ID': Trip_ID,'Surge_Pricing_Type':pred})\n",
        "pd.DataFrame(submission).to_csv(filename, index = False)"
      ]
    },
    {
      "cell_type": "code",
      "execution_count": 67,
      "metadata": {
        "id": "Nt7pvFPJc3Zd"
      },
      "outputs": [],
      "source": [
        "X1=pd.read_csv('l1.csv')\n",
        "X2=pd.read_csv('l2.csv')\n",
        "X3=pd.read_csv('l3.csv')\n",
        "X4=pd.read_csv('l4.csv')\n",
        "X5=pd.read_csv('l5.csv')\n",
        "all=pd.DataFrame()\n",
        "all[0]=X1.Surge_Pricing_Type\n",
        "all[1]=X2.Surge_Pricing_Type\n",
        "all[2]=X3.Surge_Pricing_Type\n",
        "all[3]=X4.Surge_Pricing_Type\n",
        "all[4]=X5.Surge_Pricing_Type"
      ]
    },
    {
      "cell_type": "code",
      "execution_count": 68,
      "metadata": {
        "id": "Jcfq_5Pc0XA8"
      },
      "outputs": [],
      "source": [
        "mode=all.mode(axis=1)"
      ]
    },
    {
      "cell_type": "code",
      "execution_count": null,
      "metadata": {
        "id": "VoLlnItc0bd3"
      },
      "outputs": [],
      "source": [
        "pred=pd.DataFrame(mode).iloc[:,0]\n",
        "filename = 'final.csv'\n",
        "submission = pd.DataFrame({'Trip_ID': Trip_ID,'Surge_Pricing_Type':pred})\n",
        "pd.DataFrame(submission).to_csv(filename, index = False)"
      ]
    }
  ],
  "metadata": {
    "colab": {
      "collapsed_sections": [],
      "name": "MobilityAnalytics_Hackathon.ipynb",
      "provenance": []
    },
    "kernelspec": {
      "display_name": "Python 3",
      "name": "python3"
    },
    "language_info": {
      "codemirror_mode": {
        "name": "ipython",
        "version": 3
      },
      "file_extension": ".py",
      "mimetype": "text/x-python",
      "name": "python",
      "nbconvert_exporter": "python",
      "pygments_lexer": "ipython3",
      "version": "3.9.5"
    }
  },
  "nbformat": 4,
  "nbformat_minor": 0
}
